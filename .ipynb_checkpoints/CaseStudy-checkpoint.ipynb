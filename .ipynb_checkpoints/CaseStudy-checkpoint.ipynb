{
 "cells": [
  {
   "cell_type": "code",
   "execution_count": 1,
   "id": "a63c4b6e",
   "metadata": {},
   "outputs": [],
   "source": [
    "import pandas as pd\n",
    "import numpy as np\n",
    "from varclushi import VarClusHi"
   ]
  },
  {
   "cell_type": "code",
   "execution_count": 2,
   "id": "384d5ee1",
   "metadata": {},
   "outputs": [],
   "source": [
    "# Load the CSV file into a pandas DataFrame\n",
    "df = pd.read_csv('JDT.csv')\n"
   ]
  },
  {
   "cell_type": "code",
   "execution_count": 3,
   "id": "8da937cb",
   "metadata": {},
   "outputs": [],
   "source": [
    "df.drop('id', axis = 1, inplace = True)"
   ]
  },
  {
   "cell_type": "code",
   "execution_count": 4,
   "id": "6916ee89",
   "metadata": {},
   "outputs": [],
   "source": [
    "df.drop('class', axis = 1, inplace = True)"
   ]
  },
  {
   "cell_type": "code",
   "execution_count": 5,
   "id": "5979a832",
   "metadata": {},
   "outputs": [
    {
     "name": "stdout",
     "output_type": "stream",
     "text": [
      "<class 'pandas.core.frame.DataFrame'>\n",
      "RangeIndex: 997 entries, 0 to 996\n",
      "Data columns (total 61 columns):\n",
      " #   Column                               Non-Null Count  Dtype  \n",
      "---  ------                               --------------  -----  \n",
      " 0   ck_oo_numberOfPrivateMethods         997 non-null    int64  \n",
      " 1   LDHH_lcom                            997 non-null    float64\n",
      " 2   LDHH_fanIn                           997 non-null    float64\n",
      " 3   numberOfNonTrivialBugsFoundUntil:    997 non-null    int64  \n",
      " 4   WCHU_numberOfPublicAttributes        997 non-null    float64\n",
      " 5   WCHU_numberOfAttributes              997 non-null    float64\n",
      " 6   CvsWEntropy                          997 non-null    float64\n",
      " 7   LDHH_numberOfPublicMethods           997 non-null    float64\n",
      " 8   WCHU_fanIn                           997 non-null    float64\n",
      " 9   LDHH_numberOfPrivateAttributes       997 non-null    float64\n",
      " 10  CvsEntropy                           997 non-null    float64\n",
      " 11  LDHH_numberOfPublicAttributes        997 non-null    float64\n",
      " 12  WCHU_numberOfPrivateMethods          997 non-null    float64\n",
      " 13  WCHU_numberOfMethods                 997 non-null    float64\n",
      " 14  ck_oo_numberOfPublicAttributes       997 non-null    int64  \n",
      " 15  ck_oo_noc                            997 non-null    int64  \n",
      " 16  numberOfCriticalBugsFoundUntil:      997 non-null    int64  \n",
      " 17  ck_oo_wmc                            997 non-null    int64  \n",
      " 18  LDHH_numberOfPrivateMethods          997 non-null    float64\n",
      " 19  WCHU_numberOfPrivateAttributes       997 non-null    float64\n",
      " 20  CvsLogEntropy                        997 non-null    float64\n",
      " 21  WCHU_noc                             997 non-null    float64\n",
      " 22  LDHH_numberOfAttributesInherited     997 non-null    float64\n",
      " 23  WCHU_wmc                             997 non-null    float64\n",
      " 24  ck_oo_fanOut                         997 non-null    int64  \n",
      " 25  ck_oo_numberOfLinesOfCode            997 non-null    int64  \n",
      " 26  ck_oo_numberOfAttributesInherited    997 non-null    int64  \n",
      " 27  ck_oo_numberOfMethods                997 non-null    int64  \n",
      " 28  ck_oo_dit                            997 non-null    int64  \n",
      " 29  ck_oo_fanIn                          997 non-null    int64  \n",
      " 30  LDHH_noc                             997 non-null    float64\n",
      " 31  WCHU_dit                             997 non-null    float64\n",
      " 32  ck_oo_lcom                           997 non-null    int64  \n",
      " 33  WCHU_numberOfAttributesInherited     997 non-null    float64\n",
      " 34  ck_oo_rfc                            997 non-null    int64  \n",
      " 35  LDHH_wmc                             997 non-null    float64\n",
      " 36  LDHH_numberOfAttributes              997 non-null    float64\n",
      " 37  LDHH_numberOfLinesOfCode             997 non-null    float64\n",
      " 38  WCHU_fanOut                          997 non-null    float64\n",
      " 39  WCHU_lcom                            997 non-null    float64\n",
      " 40  ck_oo_cbo                            997 non-null    int64  \n",
      " 41  WCHU_rfc                             997 non-null    float64\n",
      " 42  ck_oo_numberOfAttributes             997 non-null    int64  \n",
      " 43  numberOfHighPriorityBugsFoundUntil:  997 non-null    int64  \n",
      " 44  ck_oo_numberOfPrivateAttributes      997 non-null    int64  \n",
      " 45  numberOfMajorBugsFoundUntil:         997 non-null    int64  \n",
      " 46  WCHU_numberOfPublicMethods           997 non-null    float64\n",
      " 47  LDHH_dit                             997 non-null    float64\n",
      " 48  WCHU_cbo                             997 non-null    float64\n",
      " 49  CvsLinEntropy                        997 non-null    float64\n",
      " 50  WCHU_numberOfMethodsInherited        997 non-null    float64\n",
      " 51  numberOfBugsFoundUntil:              997 non-null    int64  \n",
      " 52  LDHH_fanOut                          997 non-null    float64\n",
      " 53  LDHH_numberOfMethodsInherited        997 non-null    float64\n",
      " 54  LDHH_rfc                             997 non-null    float64\n",
      " 55  ck_oo_numberOfMethodsInherited       997 non-null    int64  \n",
      " 56  ck_oo_numberOfPublicMethods          997 non-null    int64  \n",
      " 57  LDHH_cbo                             997 non-null    float64\n",
      " 58  WCHU_numberOfLinesOfCode             997 non-null    float64\n",
      " 59  CvsExpEntropy                        997 non-null    float64\n",
      " 60  LDHH_numberOfMethods                 997 non-null    float64\n",
      "dtypes: float64(39), int64(22)\n",
      "memory usage: 475.3 KB\n"
     ]
    }
   ],
   "source": [
    "df.info()"
   ]
  },
  {
   "cell_type": "code",
   "execution_count": 6,
   "id": "8871d1f3",
   "metadata": {},
   "outputs": [],
   "source": [
    "# Calculate the Spearman correlation matrix\n",
    "corr_matrix = df.corr(method='spearman')"
   ]
  },
  {
   "cell_type": "code",
   "execution_count": 7,
   "id": "0edeaf7f",
   "metadata": {},
   "outputs": [
    {
     "name": "stdout",
     "output_type": "stream",
     "text": [
      "<class 'pandas.core.frame.DataFrame'>\n",
      "Index: 61 entries, ck_oo_numberOfPrivateMethods to LDHH_numberOfMethods\n",
      "Data columns (total 61 columns):\n",
      " #   Column                               Non-Null Count  Dtype  \n",
      "---  ------                               --------------  -----  \n",
      " 0   ck_oo_numberOfPrivateMethods         61 non-null     float64\n",
      " 1   LDHH_lcom                            61 non-null     float64\n",
      " 2   LDHH_fanIn                           61 non-null     float64\n",
      " 3   numberOfNonTrivialBugsFoundUntil:    61 non-null     float64\n",
      " 4   WCHU_numberOfPublicAttributes        61 non-null     float64\n",
      " 5   WCHU_numberOfAttributes              61 non-null     float64\n",
      " 6   CvsWEntropy                          61 non-null     float64\n",
      " 7   LDHH_numberOfPublicMethods           61 non-null     float64\n",
      " 8   WCHU_fanIn                           61 non-null     float64\n",
      " 9   LDHH_numberOfPrivateAttributes       61 non-null     float64\n",
      " 10  CvsEntropy                           61 non-null     float64\n",
      " 11  LDHH_numberOfPublicAttributes        61 non-null     float64\n",
      " 12  WCHU_numberOfPrivateMethods          61 non-null     float64\n",
      " 13  WCHU_numberOfMethods                 61 non-null     float64\n",
      " 14  ck_oo_numberOfPublicAttributes       61 non-null     float64\n",
      " 15  ck_oo_noc                            61 non-null     float64\n",
      " 16  numberOfCriticalBugsFoundUntil:      61 non-null     float64\n",
      " 17  ck_oo_wmc                            61 non-null     float64\n",
      " 18  LDHH_numberOfPrivateMethods          61 non-null     float64\n",
      " 19  WCHU_numberOfPrivateAttributes       61 non-null     float64\n",
      " 20  CvsLogEntropy                        61 non-null     float64\n",
      " 21  WCHU_noc                             61 non-null     float64\n",
      " 22  LDHH_numberOfAttributesInherited     61 non-null     float64\n",
      " 23  WCHU_wmc                             61 non-null     float64\n",
      " 24  ck_oo_fanOut                         61 non-null     float64\n",
      " 25  ck_oo_numberOfLinesOfCode            61 non-null     float64\n",
      " 26  ck_oo_numberOfAttributesInherited    61 non-null     float64\n",
      " 27  ck_oo_numberOfMethods                61 non-null     float64\n",
      " 28  ck_oo_dit                            61 non-null     float64\n",
      " 29  ck_oo_fanIn                          61 non-null     float64\n",
      " 30  LDHH_noc                             61 non-null     float64\n",
      " 31  WCHU_dit                             61 non-null     float64\n",
      " 32  ck_oo_lcom                           61 non-null     float64\n",
      " 33  WCHU_numberOfAttributesInherited     61 non-null     float64\n",
      " 34  ck_oo_rfc                            61 non-null     float64\n",
      " 35  LDHH_wmc                             61 non-null     float64\n",
      " 36  LDHH_numberOfAttributes              61 non-null     float64\n",
      " 37  LDHH_numberOfLinesOfCode             61 non-null     float64\n",
      " 38  WCHU_fanOut                          61 non-null     float64\n",
      " 39  WCHU_lcom                            61 non-null     float64\n",
      " 40  ck_oo_cbo                            61 non-null     float64\n",
      " 41  WCHU_rfc                             61 non-null     float64\n",
      " 42  ck_oo_numberOfAttributes             61 non-null     float64\n",
      " 43  numberOfHighPriorityBugsFoundUntil:  61 non-null     float64\n",
      " 44  ck_oo_numberOfPrivateAttributes      61 non-null     float64\n",
      " 45  numberOfMajorBugsFoundUntil:         61 non-null     float64\n",
      " 46  WCHU_numberOfPublicMethods           61 non-null     float64\n",
      " 47  LDHH_dit                             61 non-null     float64\n",
      " 48  WCHU_cbo                             61 non-null     float64\n",
      " 49  CvsLinEntropy                        61 non-null     float64\n",
      " 50  WCHU_numberOfMethodsInherited        61 non-null     float64\n",
      " 51  numberOfBugsFoundUntil:              61 non-null     float64\n",
      " 52  LDHH_fanOut                          61 non-null     float64\n",
      " 53  LDHH_numberOfMethodsInherited        61 non-null     float64\n",
      " 54  LDHH_rfc                             61 non-null     float64\n",
      " 55  ck_oo_numberOfMethodsInherited       61 non-null     float64\n",
      " 56  ck_oo_numberOfPublicMethods          61 non-null     float64\n",
      " 57  LDHH_cbo                             61 non-null     float64\n",
      " 58  WCHU_numberOfLinesOfCode             61 non-null     float64\n",
      " 59  CvsExpEntropy                        61 non-null     float64\n",
      " 60  LDHH_numberOfMethods                 61 non-null     float64\n",
      "dtypes: float64(61)\n",
      "memory usage: 31.6+ KB\n"
     ]
    }
   ],
   "source": [
    "corr_matrix.info()"
   ]
  },
  {
   "cell_type": "code",
   "execution_count": 8,
   "id": "62407b46",
   "metadata": {},
   "outputs": [
    {
     "name": "stdout",
     "output_type": "stream",
     "text": [
      "                                   ck_oo_numberOfPrivateMethods  LDHH_lcom  \\\n",
      "ck_oo_numberOfPrivateMethods                           1.000000   0.359923   \n",
      "LDHH_lcom                                              0.359923   1.000000   \n",
      "LDHH_fanIn                                             0.160669   0.398442   \n",
      "numberOfNonTrivialBugsFoundUntil:                      0.320184   0.533696   \n",
      "WCHU_numberOfPublicAttributes                          0.216817   0.340025   \n",
      "...                                                         ...        ...   \n",
      "ck_oo_numberOfPublicMethods                            0.195772   0.439656   \n",
      "LDHH_cbo                                               0.320419   0.562027   \n",
      "WCHU_numberOfLinesOfCode                               0.429168   0.733778   \n",
      "CvsExpEntropy                                          0.245253   0.487244   \n",
      "LDHH_numberOfMethods                                   0.363831   0.998303   \n",
      "\n",
      "                                   LDHH_fanIn  \\\n",
      "ck_oo_numberOfPrivateMethods         0.160669   \n",
      "LDHH_lcom                            0.398442   \n",
      "LDHH_fanIn                           1.000000   \n",
      "numberOfNonTrivialBugsFoundUntil:    0.325322   \n",
      "WCHU_numberOfPublicAttributes        0.265717   \n",
      "...                                       ...   \n",
      "ck_oo_numberOfPublicMethods          0.386995   \n",
      "LDHH_cbo                             0.716294   \n",
      "WCHU_numberOfLinesOfCode             0.365614   \n",
      "CvsExpEntropy                        0.326073   \n",
      "LDHH_numberOfMethods                 0.403504   \n",
      "\n",
      "                                   numberOfNonTrivialBugsFoundUntil:  \\\n",
      "ck_oo_numberOfPrivateMethods                                0.320184   \n",
      "LDHH_lcom                                                   0.533696   \n",
      "LDHH_fanIn                                                  0.325322   \n",
      "numberOfNonTrivialBugsFoundUntil:                           1.000000   \n",
      "WCHU_numberOfPublicAttributes                               0.356444   \n",
      "...                                                              ...   \n",
      "ck_oo_numberOfPublicMethods                                 0.406055   \n",
      "LDHH_cbo                                                    0.545140   \n",
      "WCHU_numberOfLinesOfCode                                    0.730189   \n",
      "CvsExpEntropy                                               0.717026   \n",
      "LDHH_numberOfMethods                                        0.529885   \n",
      "\n",
      "                                   WCHU_numberOfPublicAttributes  \\\n",
      "ck_oo_numberOfPrivateMethods                            0.216817   \n",
      "LDHH_lcom                                               0.340025   \n",
      "LDHH_fanIn                                              0.265717   \n",
      "numberOfNonTrivialBugsFoundUntil:                       0.356444   \n",
      "WCHU_numberOfPublicAttributes                           1.000000   \n",
      "...                                                          ...   \n",
      "ck_oo_numberOfPublicMethods                             0.183065   \n",
      "LDHH_cbo                                                0.329816   \n",
      "WCHU_numberOfLinesOfCode                                0.437888   \n",
      "CvsExpEntropy                                           0.264744   \n",
      "LDHH_numberOfMethods                                    0.342750   \n",
      "\n",
      "                                   WCHU_numberOfAttributes  CvsWEntropy  \\\n",
      "ck_oo_numberOfPrivateMethods                      0.306786     0.405117   \n",
      "LDHH_lcom                                         0.508607     0.631989   \n",
      "LDHH_fanIn                                        0.317527     0.353426   \n",
      "numberOfNonTrivialBugsFoundUntil:                 0.489389     0.775040   \n",
      "WCHU_numberOfPublicAttributes                     0.693157     0.389454   \n",
      "...                                                    ...          ...   \n",
      "ck_oo_numberOfPublicMethods                       0.269111     0.416876   \n",
      "LDHH_cbo                                          0.422947     0.608873   \n",
      "WCHU_numberOfLinesOfCode                          0.574555     0.835881   \n",
      "CvsExpEntropy                                     0.379918     0.713084   \n",
      "LDHH_numberOfMethods                              0.509450     0.632803   \n",
      "\n",
      "                                   LDHH_numberOfPublicMethods  WCHU_fanIn  \\\n",
      "ck_oo_numberOfPrivateMethods                         0.207829    0.168236   \n",
      "LDHH_lcom                                            0.804903    0.405573   \n",
      "LDHH_fanIn                                           0.420447    0.977808   \n",
      "numberOfNonTrivialBugsFoundUntil:                    0.421750    0.339607   \n",
      "WCHU_numberOfPublicAttributes                        0.312134    0.282352   \n",
      "...                                                       ...         ...   \n",
      "ck_oo_numberOfPublicMethods                          0.477496    0.397372   \n",
      "LDHH_cbo                                             0.478128    0.689883   \n",
      "WCHU_numberOfLinesOfCode                             0.602223    0.378235   \n",
      "CvsExpEntropy                                        0.397124    0.326648   \n",
      "LDHH_numberOfMethods                                 0.805116    0.410724   \n",
      "\n",
      "                                   LDHH_numberOfPrivateAttributes  ...  \\\n",
      "ck_oo_numberOfPrivateMethods                             0.327076  ...   \n",
      "LDHH_lcom                                                0.409494  ...   \n",
      "LDHH_fanIn                                               0.246958  ...   \n",
      "numberOfNonTrivialBugsFoundUntil:                        0.312336  ...   \n",
      "WCHU_numberOfPublicAttributes                            0.280724  ...   \n",
      "...                                                           ...  ...   \n",
      "ck_oo_numberOfPublicMethods                              0.262180  ...   \n",
      "LDHH_cbo                                                 0.300269  ...   \n",
      "WCHU_numberOfLinesOfCode                                 0.412423  ...   \n",
      "CvsExpEntropy                                            0.274191  ...   \n",
      "LDHH_numberOfMethods                                     0.415685  ...   \n",
      "\n",
      "                                   numberOfBugsFoundUntil:  LDHH_fanOut  \\\n",
      "ck_oo_numberOfPrivateMethods                      0.323794     0.370906   \n",
      "LDHH_lcom                                         0.550547     0.562700   \n",
      "LDHH_fanIn                                        0.329790     0.286162   \n",
      "numberOfNonTrivialBugsFoundUntil:                 0.988248     0.588161   \n",
      "WCHU_numberOfPublicAttributes                     0.359918     0.320932   \n",
      "...                                                    ...          ...   \n",
      "ck_oo_numberOfPublicMethods                       0.403471     0.336138   \n",
      "LDHH_cbo                                          0.557469     0.772630   \n",
      "WCHU_numberOfLinesOfCode                          0.737845     0.711801   \n",
      "CvsExpEntropy                                     0.731181     0.526076   \n",
      "LDHH_numberOfMethods                              0.546858     0.562514   \n",
      "\n",
      "                                   LDHH_numberOfMethodsInherited  LDHH_rfc  \\\n",
      "ck_oo_numberOfPrivateMethods                           -0.196226  0.383242   \n",
      "LDHH_lcom                                               0.136821  0.735748   \n",
      "LDHH_fanIn                                              0.024827  0.356595   \n",
      "numberOfNonTrivialBugsFoundUntil:                       0.251769  0.696393   \n",
      "WCHU_numberOfPublicAttributes                           0.017541  0.382211   \n",
      "...                                                          ...       ...   \n",
      "ck_oo_numberOfPublicMethods                             0.035451  0.432800   \n",
      "LDHH_cbo                                                0.136495  0.678382   \n",
      "WCHU_numberOfLinesOfCode                                0.184474  0.902038   \n",
      "CvsExpEntropy                                           0.235492  0.616165   \n",
      "LDHH_numberOfMethods                                    0.132277  0.736773   \n",
      "\n",
      "                                   ck_oo_numberOfMethodsInherited  \\\n",
      "ck_oo_numberOfPrivateMethods                            -0.259331   \n",
      "LDHH_lcom                                               -0.052993   \n",
      "LDHH_fanIn                                              -0.054279   \n",
      "numberOfNonTrivialBugsFoundUntil:                        0.112189   \n",
      "WCHU_numberOfPublicAttributes                           -0.103257   \n",
      "...                                                           ...   \n",
      "ck_oo_numberOfPublicMethods                              0.054178   \n",
      "LDHH_cbo                                                -0.000934   \n",
      "WCHU_numberOfLinesOfCode                                -0.021167   \n",
      "CvsExpEntropy                                            0.126664   \n",
      "LDHH_numberOfMethods                                    -0.056595   \n",
      "\n",
      "                                   ck_oo_numberOfPublicMethods  LDHH_cbo  \\\n",
      "ck_oo_numberOfPrivateMethods                          0.195772  0.320419   \n",
      "LDHH_lcom                                             0.439656  0.562027   \n",
      "LDHH_fanIn                                            0.386995  0.716294   \n",
      "numberOfNonTrivialBugsFoundUntil:                     0.406055  0.545140   \n",
      "WCHU_numberOfPublicAttributes                         0.183065  0.329816   \n",
      "...                                                        ...       ...   \n",
      "ck_oo_numberOfPublicMethods                           1.000000  0.400347   \n",
      "LDHH_cbo                                              0.400347  1.000000   \n",
      "WCHU_numberOfLinesOfCode                              0.456568  0.641558   \n",
      "CvsExpEntropy                                         0.309478  0.549400   \n",
      "LDHH_numberOfMethods                                  0.438259  0.564820   \n",
      "\n",
      "                                   WCHU_numberOfLinesOfCode  CvsExpEntropy  \\\n",
      "ck_oo_numberOfPrivateMethods                       0.429168       0.245253   \n",
      "LDHH_lcom                                          0.733778       0.487244   \n",
      "LDHH_fanIn                                         0.365614       0.326073   \n",
      "numberOfNonTrivialBugsFoundUntil:                  0.730189       0.717026   \n",
      "WCHU_numberOfPublicAttributes                      0.437888       0.264744   \n",
      "...                                                     ...            ...   \n",
      "ck_oo_numberOfPublicMethods                        0.456568       0.309478   \n",
      "LDHH_cbo                                           0.641558       0.549400   \n",
      "WCHU_numberOfLinesOfCode                           1.000000       0.556890   \n",
      "CvsExpEntropy                                      0.556890       1.000000   \n",
      "LDHH_numberOfMethods                               0.733510       0.488013   \n",
      "\n",
      "                                   LDHH_numberOfMethods  \n",
      "ck_oo_numberOfPrivateMethods                   0.363831  \n",
      "LDHH_lcom                                      0.998303  \n",
      "LDHH_fanIn                                     0.403504  \n",
      "numberOfNonTrivialBugsFoundUntil:              0.529885  \n",
      "WCHU_numberOfPublicAttributes                  0.342750  \n",
      "...                                                 ...  \n",
      "ck_oo_numberOfPublicMethods                    0.438259  \n",
      "LDHH_cbo                                       0.564820  \n",
      "WCHU_numberOfLinesOfCode                       0.733510  \n",
      "CvsExpEntropy                                  0.488013  \n",
      "LDHH_numberOfMethods                           1.000000  \n",
      "\n",
      "[61 rows x 61 columns]\n"
     ]
    }
   ],
   "source": [
    "print(corr_matrix)"
   ]
  },
  {
   "cell_type": "code",
   "execution_count": 9,
   "id": "1704de74",
   "metadata": {},
   "outputs": [
    {
     "data": {
      "text/plain": [
       "<varclushi.varclushi.VarClusHi at 0x23cd5a87b80>"
      ]
     },
     "execution_count": 9,
     "metadata": {},
     "output_type": "execute_result"
    }
   ],
   "source": [
    "# Perform hierarchical clustering using varclushi\n",
    "vc = VarClusHi(df,maxeigval2=1,maxclus=None)\n",
    "vc.varclus()"
   ]
  },
  {
   "cell_type": "code",
   "execution_count": 10,
   "id": "32d94d41",
   "metadata": {},
   "outputs": [
    {
     "data": {
      "text/html": [
       "<div>\n",
       "<style scoped>\n",
       "    .dataframe tbody tr th:only-of-type {\n",
       "        vertical-align: middle;\n",
       "    }\n",
       "\n",
       "    .dataframe tbody tr th {\n",
       "        vertical-align: top;\n",
       "    }\n",
       "\n",
       "    .dataframe thead th {\n",
       "        text-align: right;\n",
       "    }\n",
       "</style>\n",
       "<table border=\"1\" class=\"dataframe\">\n",
       "  <thead>\n",
       "    <tr style=\"text-align: right;\">\n",
       "      <th></th>\n",
       "      <th>Cluster</th>\n",
       "      <th>N_Vars</th>\n",
       "      <th>Eigval1</th>\n",
       "      <th>Eigval2</th>\n",
       "      <th>VarProp</th>\n",
       "    </tr>\n",
       "  </thead>\n",
       "  <tbody>\n",
       "    <tr>\n",
       "      <th>0</th>\n",
       "      <td>0</td>\n",
       "      <td>6</td>\n",
       "      <td>4.970845</td>\n",
       "      <td>0.485424</td>\n",
       "      <td>0.828474</td>\n",
       "    </tr>\n",
       "    <tr>\n",
       "      <th>1</th>\n",
       "      <td>1</td>\n",
       "      <td>5</td>\n",
       "      <td>3.956560</td>\n",
       "      <td>0.725218</td>\n",
       "      <td>0.791312</td>\n",
       "    </tr>\n",
       "    <tr>\n",
       "      <th>2</th>\n",
       "      <td>2</td>\n",
       "      <td>7</td>\n",
       "      <td>5.279177</td>\n",
       "      <td>0.693166</td>\n",
       "      <td>0.754168</td>\n",
       "    </tr>\n",
       "    <tr>\n",
       "      <th>3</th>\n",
       "      <td>3</td>\n",
       "      <td>6</td>\n",
       "      <td>3.860309</td>\n",
       "      <td>0.944139</td>\n",
       "      <td>0.643385</td>\n",
       "    </tr>\n",
       "    <tr>\n",
       "      <th>4</th>\n",
       "      <td>4</td>\n",
       "      <td>6</td>\n",
       "      <td>4.137572</td>\n",
       "      <td>0.989395</td>\n",
       "      <td>0.689595</td>\n",
       "    </tr>\n",
       "    <tr>\n",
       "      <th>5</th>\n",
       "      <td>5</td>\n",
       "      <td>3</td>\n",
       "      <td>2.886497</td>\n",
       "      <td>0.109734</td>\n",
       "      <td>0.962166</td>\n",
       "    </tr>\n",
       "    <tr>\n",
       "      <th>6</th>\n",
       "      <td>6</td>\n",
       "      <td>6</td>\n",
       "      <td>4.260047</td>\n",
       "      <td>0.772213</td>\n",
       "      <td>0.710008</td>\n",
       "    </tr>\n",
       "    <tr>\n",
       "      <th>7</th>\n",
       "      <td>7</td>\n",
       "      <td>5</td>\n",
       "      <td>3.122566</td>\n",
       "      <td>0.959159</td>\n",
       "      <td>0.624513</td>\n",
       "    </tr>\n",
       "    <tr>\n",
       "      <th>8</th>\n",
       "      <td>8</td>\n",
       "      <td>11</td>\n",
       "      <td>8.917614</td>\n",
       "      <td>0.818688</td>\n",
       "      <td>0.810692</td>\n",
       "    </tr>\n",
       "    <tr>\n",
       "      <th>9</th>\n",
       "      <td>9</td>\n",
       "      <td>2</td>\n",
       "      <td>1.409061</td>\n",
       "      <td>0.590939</td>\n",
       "      <td>0.704531</td>\n",
       "    </tr>\n",
       "    <tr>\n",
       "      <th>10</th>\n",
       "      <td>10</td>\n",
       "      <td>4</td>\n",
       "      <td>3.452282</td>\n",
       "      <td>0.369240</td>\n",
       "      <td>0.863071</td>\n",
       "    </tr>\n",
       "  </tbody>\n",
       "</table>\n",
       "</div>"
      ],
      "text/plain": [
       "   Cluster N_Vars   Eigval1   Eigval2   VarProp\n",
       "0        0      6  4.970845  0.485424  0.828474\n",
       "1        1      5  3.956560  0.725218  0.791312\n",
       "2        2      7  5.279177  0.693166  0.754168\n",
       "3        3      6  3.860309  0.944139  0.643385\n",
       "4        4      6  4.137572  0.989395  0.689595\n",
       "5        5      3  2.886497  0.109734  0.962166\n",
       "6        6      6  4.260047  0.772213  0.710008\n",
       "7        7      5  3.122566  0.959159  0.624513\n",
       "8        8     11  8.917614  0.818688  0.810692\n",
       "9        9      2  1.409061  0.590939  0.704531\n",
       "10      10      4  3.452282  0.369240  0.863071"
      ]
     },
     "execution_count": 10,
     "metadata": {},
     "output_type": "execute_result"
    }
   ],
   "source": [
    "vc.info"
   ]
  },
  {
   "cell_type": "code",
   "execution_count": 11,
   "id": "e2ca27f3",
   "metadata": {},
   "outputs": [
    {
     "data": {
      "text/html": [
       "<div>\n",
       "<style scoped>\n",
       "    .dataframe tbody tr th:only-of-type {\n",
       "        vertical-align: middle;\n",
       "    }\n",
       "\n",
       "    .dataframe tbody tr th {\n",
       "        vertical-align: top;\n",
       "    }\n",
       "\n",
       "    .dataframe thead th {\n",
       "        text-align: right;\n",
       "    }\n",
       "</style>\n",
       "<table border=\"1\" class=\"dataframe\">\n",
       "  <thead>\n",
       "    <tr style=\"text-align: right;\">\n",
       "      <th></th>\n",
       "      <th>Cluster</th>\n",
       "      <th>Variable</th>\n",
       "      <th>RS_Own</th>\n",
       "      <th>RS_NC</th>\n",
       "      <th>RS_Ratio</th>\n",
       "    </tr>\n",
       "  </thead>\n",
       "  <tbody>\n",
       "    <tr>\n",
       "      <th>0</th>\n",
       "      <td>0</td>\n",
       "      <td>LDHH_fanIn</td>\n",
       "      <td>0.824992</td>\n",
       "      <td>0.192010</td>\n",
       "      <td>0.216597</td>\n",
       "    </tr>\n",
       "    <tr>\n",
       "      <th>1</th>\n",
       "      <td>0</td>\n",
       "      <td>WCHU_fanIn</td>\n",
       "      <td>0.895058</td>\n",
       "      <td>0.230876</td>\n",
       "      <td>0.136444</td>\n",
       "    </tr>\n",
       "    <tr>\n",
       "      <th>2</th>\n",
       "      <td>0</td>\n",
       "      <td>ck_oo_fanIn</td>\n",
       "      <td>0.779178</td>\n",
       "      <td>0.279980</td>\n",
       "      <td>0.306688</td>\n",
       "    </tr>\n",
       "    <tr>\n",
       "      <th>3</th>\n",
       "      <td>0</td>\n",
       "      <td>ck_oo_cbo</td>\n",
       "      <td>0.807973</td>\n",
       "      <td>0.498768</td>\n",
       "      <td>0.383109</td>\n",
       "    </tr>\n",
       "    <tr>\n",
       "      <th>4</th>\n",
       "      <td>0</td>\n",
       "      <td>WCHU_cbo</td>\n",
       "      <td>0.878577</td>\n",
       "      <td>0.552058</td>\n",
       "      <td>0.271069</td>\n",
       "    </tr>\n",
       "    <tr>\n",
       "      <th>...</th>\n",
       "      <td>...</td>\n",
       "      <td>...</td>\n",
       "      <td>...</td>\n",
       "      <td>...</td>\n",
       "      <td>...</td>\n",
       "    </tr>\n",
       "    <tr>\n",
       "      <th>56</th>\n",
       "      <td>9</td>\n",
       "      <td>WCHU_noc</td>\n",
       "      <td>0.704531</td>\n",
       "      <td>0.011981</td>\n",
       "      <td>0.299052</td>\n",
       "    </tr>\n",
       "    <tr>\n",
       "      <th>57</th>\n",
       "      <td>10</td>\n",
       "      <td>ck_oo_numberOfLinesOfCode</td>\n",
       "      <td>0.945752</td>\n",
       "      <td>0.559119</td>\n",
       "      <td>0.123045</td>\n",
       "    </tr>\n",
       "    <tr>\n",
       "      <th>58</th>\n",
       "      <td>10</td>\n",
       "      <td>ck_oo_rfc</td>\n",
       "      <td>0.873186</td>\n",
       "      <td>0.544774</td>\n",
       "      <td>0.278574</td>\n",
       "    </tr>\n",
       "    <tr>\n",
       "      <th>59</th>\n",
       "      <td>10</td>\n",
       "      <td>ck_oo_wmc</td>\n",
       "      <td>0.925237</td>\n",
       "      <td>0.561034</td>\n",
       "      <td>0.170316</td>\n",
       "    </tr>\n",
       "    <tr>\n",
       "      <th>60</th>\n",
       "      <td>10</td>\n",
       "      <td>CvsWEntropy</td>\n",
       "      <td>0.708107</td>\n",
       "      <td>0.570679</td>\n",
       "      <td>0.679893</td>\n",
       "    </tr>\n",
       "  </tbody>\n",
       "</table>\n",
       "<p>61 rows × 5 columns</p>\n",
       "</div>"
      ],
      "text/plain": [
       "    Cluster                   Variable    RS_Own     RS_NC  RS_Ratio\n",
       "0         0                 LDHH_fanIn  0.824992  0.192010  0.216597\n",
       "1         0                 WCHU_fanIn  0.895058  0.230876  0.136444\n",
       "2         0                ck_oo_fanIn  0.779178  0.279980  0.306688\n",
       "3         0                  ck_oo_cbo  0.807973  0.498768  0.383109\n",
       "4         0                   WCHU_cbo  0.878577  0.552058  0.271069\n",
       "..      ...                        ...       ...       ...       ...\n",
       "56        9                   WCHU_noc  0.704531  0.011981  0.299052\n",
       "57       10  ck_oo_numberOfLinesOfCode  0.945752  0.559119  0.123045\n",
       "58       10                  ck_oo_rfc  0.873186  0.544774  0.278574\n",
       "59       10                  ck_oo_wmc  0.925237  0.561034  0.170316\n",
       "60       10                CvsWEntropy  0.708107  0.570679  0.679893\n",
       "\n",
       "[61 rows x 5 columns]"
      ]
     },
     "execution_count": 11,
     "metadata": {},
     "output_type": "execute_result"
    }
   ],
   "source": [
    "vc.rsquare"
   ]
  },
  {
   "cell_type": "code",
   "execution_count": 12,
   "id": "0cb6761f",
   "metadata": {},
   "outputs": [],
   "source": [
    "clusters = vc.rsquare"
   ]
  },
  {
   "cell_type": "code",
   "execution_count": 13,
   "id": "4cdbe7e2",
   "metadata": {},
   "outputs": [
    {
     "name": "stdout",
     "output_type": "stream",
     "text": [
      "    Cluster                   Variable    RS_Own     RS_NC  RS_Ratio\n",
      "0         0                 LDHH_fanIn  0.824992  0.192010  0.216597\n",
      "1         0                 WCHU_fanIn  0.895058  0.230876  0.136444\n",
      "2         0                ck_oo_fanIn  0.779178  0.279980  0.306688\n",
      "3         0                  ck_oo_cbo  0.807973  0.498768  0.383109\n",
      "4         0                   WCHU_cbo  0.878577  0.552058  0.271069\n",
      "..      ...                        ...       ...       ...       ...\n",
      "56        9                   WCHU_noc  0.704531  0.011981  0.299052\n",
      "57       10  ck_oo_numberOfLinesOfCode  0.945752  0.559119  0.123045\n",
      "58       10                  ck_oo_rfc  0.873186  0.544774  0.278574\n",
      "59       10                  ck_oo_wmc  0.925237  0.561034  0.170316\n",
      "60       10                CvsWEntropy  0.708107  0.570679  0.679893\n",
      "\n",
      "[61 rows x 5 columns]\n"
     ]
    }
   ],
   "source": [
    "print(clusters)"
   ]
  },
  {
   "cell_type": "code",
   "execution_count": 14,
   "id": "dffaa27e",
   "metadata": {},
   "outputs": [
    {
     "name": "stdout",
     "output_type": "stream",
     "text": [
      "0      0\n",
      "1      0\n",
      "2      0\n",
      "3      0\n",
      "4      0\n",
      "      ..\n",
      "56     9\n",
      "57    10\n",
      "58    10\n",
      "59    10\n",
      "60    10\n",
      "Name: Cluster, Length: 61, dtype: int64\n"
     ]
    }
   ],
   "source": [
    "print(clusters.Cluster)"
   ]
  },
  {
   "cell_type": "code",
   "execution_count": 15,
   "id": "5cfa94cc",
   "metadata": {},
   "outputs": [
    {
     "data": {
      "text/plain": [
       "1.1272290303944066"
      ]
     },
     "execution_count": 15,
     "metadata": {},
     "output_type": "execute_result"
    }
   ],
   "source": [
    "max(clusters.RS_Ratio)"
   ]
  },
  {
   "cell_type": "code",
   "execution_count": 16,
   "id": "959897df",
   "metadata": {},
   "outputs": [
    {
     "data": {
      "text/plain": [
       "0.006659418900299472"
      ]
     },
     "execution_count": 16,
     "metadata": {},
     "output_type": "execute_result"
    }
   ],
   "source": [
    "min(clusters.RS_Ratio)"
   ]
  },
  {
   "cell_type": "code",
   "execution_count": 17,
   "id": "42628f74",
   "metadata": {},
   "outputs": [
    {
     "name": "stdout",
     "output_type": "stream",
     "text": [
      "0     0.216597\n",
      "1     0.136444\n",
      "2     0.306688\n",
      "3     0.383109\n",
      "4     0.271069\n",
      "        ...   \n",
      "56    0.299052\n",
      "57    0.123045\n",
      "58    0.278574\n",
      "59    0.170316\n",
      "60    0.679893\n",
      "Name: RS_Ratio, Length: 61, dtype: float64\n",
      "0     0.216597\n",
      "1     0.136444\n",
      "2     0.306688\n",
      "3     0.383109\n",
      "4     0.271069\n",
      "        ...   \n",
      "56    0.299052\n",
      "57    0.123045\n",
      "58    0.278574\n",
      "59    0.170316\n",
      "60    0.679893\n",
      "Name: RS_Ratio, Length: 61, dtype: float64\n",
      "0     0.216597\n",
      "1     0.136444\n",
      "2     0.306688\n",
      "3     0.383109\n",
      "4     0.271069\n",
      "        ...   \n",
      "56    0.299052\n",
      "57    0.123045\n",
      "58    0.278574\n",
      "59    0.170316\n",
      "60    0.679893\n",
      "Name: RS_Ratio, Length: 61, dtype: float64\n",
      "0     0.216597\n",
      "1     0.136444\n",
      "2     0.306688\n",
      "3     0.383109\n",
      "4     0.271069\n",
      "        ...   \n",
      "56    0.299052\n",
      "57    0.123045\n",
      "58    0.278574\n",
      "59    0.170316\n",
      "60    0.679893\n",
      "Name: RS_Ratio, Length: 61, dtype: float64\n"
     ]
    }
   ],
   "source": [
    "for i in clusters.Cluster:\n",
    " if(i == 10):\n",
    "   print(clusters.RS_Ratio)\n",
    "   "
   ]
  },
  {
   "cell_type": "code",
   "execution_count": 18,
   "id": "5373dad3",
   "metadata": {},
   "outputs": [
    {
     "name": "stdout",
     "output_type": "stream",
     "text": [
      "    Cluster                   Variable    RS_Own     RS_NC  RS_Ratio\n",
      "0         0                 LDHH_fanIn  0.824992  0.192010  0.216597\n",
      "1         0                 WCHU_fanIn  0.895058  0.230876  0.136444\n",
      "2         0                ck_oo_fanIn  0.779178  0.279980  0.306688\n",
      "3         0                  ck_oo_cbo  0.807973  0.498768  0.383109\n",
      "4         0                   WCHU_cbo  0.878577  0.552058  0.271069\n",
      "..      ...                        ...       ...       ...       ...\n",
      "56        9                   WCHU_noc  0.704531  0.011981  0.299052\n",
      "57       10  ck_oo_numberOfLinesOfCode  0.945752  0.559119  0.123045\n",
      "58       10                  ck_oo_rfc  0.873186  0.544774  0.278574\n",
      "59       10                  ck_oo_wmc  0.925237  0.561034  0.170316\n",
      "60       10                CvsWEntropy  0.708107  0.570679  0.679893\n",
      "\n",
      "[61 rows x 5 columns]\n"
     ]
    }
   ],
   "source": [
    "print(clusters)"
   ]
  },
  {
   "cell_type": "code",
   "execution_count": 19,
   "id": "feeac0df",
   "metadata": {},
   "outputs": [],
   "source": [
    "idx = clusters.groupby(['Cluster'])['RS_Ratio'].idxmax()\n",
    "clusters = clusters.drop(idx)"
   ]
  },
  {
   "cell_type": "code",
   "execution_count": 20,
   "id": "77a3ca8a",
   "metadata": {},
   "outputs": [
    {
     "name": "stdout",
     "output_type": "stream",
     "text": [
      "    Cluster                             Variable    RS_Own     RS_NC  RS_Ratio\n",
      "0         0                           LDHH_fanIn  0.824992  0.192010  0.216597\n",
      "1         0                           WCHU_fanIn  0.895058  0.230876  0.136444\n",
      "2         0                          ck_oo_fanIn  0.779178  0.279980  0.306688\n",
      "3         0                            ck_oo_cbo  0.807973  0.498768  0.383109\n",
      "4         0                             WCHU_cbo  0.878577  0.552058  0.271069\n",
      "6         1     LDHH_numberOfAttributesInherited  0.873832  0.256399  0.169672\n",
      "7         1    ck_oo_numberOfAttributesInherited  0.807593  0.158745  0.228714\n",
      "8         1                             WCHU_dit  0.857111  0.154899  0.169079\n",
      "9         1     WCHU_numberOfAttributesInherited  0.918035  0.208541  0.103562\n",
      "11        2  numberOfHighPriorityBugsFoundUntil:  0.565243  0.380754  0.702076\n",
      "12        2              numberOfBugsFoundUntil:  0.915809  0.676621  0.260347\n",
      "13        2         numberOfMajorBugsFoundUntil:  0.832859  0.553439  0.374284\n",
      "14        2    numberOfNonTrivialBugsFoundUntil:  0.929363  0.666590  0.211862\n",
      "15        2                           CvsEntropy  0.755698  0.653885  0.705840\n",
      "16        2      numberOfCriticalBugsFoundUntil:  0.653014  0.331401  0.518975\n",
      "18        3         ck_oo_numberOfPrivateMethods  0.725370  0.423647  0.476496\n",
      "20        3          WCHU_numberOfPrivateMethods  0.787782  0.537217  0.458569\n",
      "21        3          LDHH_numberOfPrivateMethods  0.751270  0.445654  0.448691\n",
      "22        3       WCHU_numberOfPrivateAttributes  0.726566  0.347986  0.419368\n",
      "23        3      ck_oo_numberOfPrivateAttributes  0.429106  0.102064  0.635784\n",
      "24        4                ck_oo_numberOfMethods  0.824974  0.568222  0.405361\n",
      "25        4                           ck_oo_lcom  0.745270  0.331629  0.381121\n",
      "26        4                            WCHU_lcom  0.543972  0.276138  0.629993\n",
      "27        4           WCHU_numberOfPublicMethods  0.686458  0.491396  0.616476\n",
      "28        4          ck_oo_numberOfPublicMethods  0.823709  0.351164  0.271704\n",
      "30        5                        CvsExpEntropy  0.956312  0.414904  0.074668\n",
      "32        5                        CvsLinEntropy  0.995590  0.337839  0.006659\n",
      "33        6        WCHU_numberOfPublicAttributes  0.826243  0.264876  0.236365\n",
      "34        6              WCHU_numberOfAttributes  0.797910  0.349024  0.310442\n",
      "35        6        LDHH_numberOfPublicAttributes  0.758096  0.231567  0.314802\n",
      "36        6       ck_oo_numberOfPublicAttributes  0.527223  0.054702  0.500136\n",
      "38        6             ck_oo_numberOfAttributes  0.665102  0.122694  0.381734\n",
      "39        7                            ck_oo_dit  0.668394  0.369035  0.525554\n",
      "41        7        WCHU_numberOfMethodsInherited  0.810007  0.146580  0.222625\n",
      "42        7        LDHH_numberOfMethodsInherited  0.841124  0.149791  0.186867\n",
      "43        7       ck_oo_numberOfMethodsInherited  0.730569  0.083055  0.293836\n",
      "44        8                            LDHH_lcom  0.728697  0.451472  0.494602\n",
      "45        8                             LDHH_wmc  0.873124  0.644145  0.356538\n",
      "46        8             LDHH_numberOfLinesOfCode  0.887521  0.685363  0.357489\n",
      "48        8                             LDHH_rfc  0.883519  0.661713  0.344328\n",
      "49        8             WCHU_numberOfLinesOfCode  0.902946  0.729064  0.358218\n",
      "50        8                 LDHH_numberOfMethods  0.742027  0.462077  0.479571\n",
      "51        8                          WCHU_fanOut  0.710695  0.570888  0.674193\n",
      "52        8                 WCHU_numberOfMethods  0.771944  0.594361  0.562215\n",
      "53        8                             WCHU_wmc  0.900484  0.718305  0.353277\n",
      "54        8                             WCHU_rfc  0.909528  0.759763  0.376595\n",
      "56        9                             WCHU_noc  0.704531  0.011981  0.299052\n",
      "57       10            ck_oo_numberOfLinesOfCode  0.945752  0.559119  0.123045\n",
      "58       10                            ck_oo_rfc  0.873186  0.544774  0.278574\n",
      "59       10                            ck_oo_wmc  0.925237  0.561034  0.170316\n"
     ]
    }
   ],
   "source": [
    "print(clusters)"
   ]
  },
  {
   "cell_type": "code",
   "execution_count": 44,
   "id": "bb2789af",
   "metadata": {},
   "outputs": [],
   "source": [
    "cluster0 = [\"LDHH_fanIn\", \"WCHU_fanIn\", \"ck_oo_fanIn\", \"ck_oo_cbo\"]"
   ]
  },
  {
   "cell_type": "code",
   "execution_count": 45,
   "id": "bf5e1afc",
   "metadata": {},
   "outputs": [
    {
     "name": "stdout",
     "output_type": "stream",
     "text": [
      "['LDHH_fanIn', 'WCHU_fanIn', 'ck_oo_fanIn', 'ck_oo_cbo']\n"
     ]
    }
   ],
   "source": [
    "print(cluster0)"
   ]
  },
  {
   "cell_type": "code",
   "execution_count": 46,
   "id": "f4c674ab",
   "metadata": {},
   "outputs": [],
   "source": [
    "from scipy.stats import spearmanr"
   ]
  },
  {
   "cell_type": "code",
   "execution_count": 47,
   "id": "377c6424",
   "metadata": {},
   "outputs": [],
   "source": [
    "# Calculate the Spearman correlation matrix of the attributes in the cluster\n",
    "corr_matrix0 = df[cluster0].corr(method='spearman')"
   ]
  },
  {
   "cell_type": "code",
   "execution_count": 48,
   "id": "17b3b7c9",
   "metadata": {},
   "outputs": [
    {
     "name": "stdout",
     "output_type": "stream",
     "text": [
      "<class 'pandas.core.frame.DataFrame'>\n",
      "Index: 4 entries, LDHH_fanIn to ck_oo_cbo\n",
      "Data columns (total 4 columns):\n",
      " #   Column       Non-Null Count  Dtype  \n",
      "---  ------       --------------  -----  \n",
      " 0   LDHH_fanIn   4 non-null      float64\n",
      " 1   WCHU_fanIn   4 non-null      float64\n",
      " 2   ck_oo_fanIn  4 non-null      float64\n",
      " 3   ck_oo_cbo    4 non-null      float64\n",
      "dtypes: float64(4)\n",
      "memory usage: 332.0+ bytes\n"
     ]
    }
   ],
   "source": [
    "corr_matrix0.info()"
   ]
  },
  {
   "cell_type": "code",
   "execution_count": 50,
   "id": "ff0a81e8",
   "metadata": {
    "scrolled": false
   },
   "outputs": [
    {
     "name": "stdout",
     "output_type": "stream",
     "text": [
      "             LDHH_fanIn  WCHU_fanIn  ck_oo_fanIn  ck_oo_cbo\n",
      "LDHH_fanIn     1.000000    0.977808     0.615483   0.420045\n",
      "WCHU_fanIn     0.977808    1.000000     0.630505   0.432667\n",
      "ck_oo_fanIn    0.615483    0.630505     1.000000   0.588459\n",
      "ck_oo_cbo      0.420045    0.432667     0.588459   1.000000\n"
     ]
    }
   ],
   "source": [
    "print(corr_matrix0)"
   ]
  },
  {
   "cell_type": "code",
   "execution_count": 51,
   "id": "4f594cbc",
   "metadata": {},
   "outputs": [
    {
     "name": "stdout",
     "output_type": "stream",
     "text": [
      "             LDHH_fanIn  WCHU_fanIn  ck_oo_fanIn  ck_oo_cbo\n",
      "LDHH_fanIn     1.000000    0.977808     0.615483   0.420045\n",
      "WCHU_fanIn     0.977808    1.000000     0.630505   0.432667\n",
      "ck_oo_fanIn    0.615483    0.630505     1.000000   0.588459\n",
      "ck_oo_cbo      0.420045    0.432667     0.588459   1.000000\n"
     ]
    }
   ],
   "source": [
    "print(abs(corr_matrix0))"
   ]
  },
  {
   "cell_type": "code",
   "execution_count": 52,
   "id": "5d6345f1",
   "metadata": {},
   "outputs": [
    {
     "data": {
      "text/html": [
       "<div>\n",
       "<style scoped>\n",
       "    .dataframe tbody tr th:only-of-type {\n",
       "        vertical-align: middle;\n",
       "    }\n",
       "\n",
       "    .dataframe tbody tr th {\n",
       "        vertical-align: top;\n",
       "    }\n",
       "\n",
       "    .dataframe thead th {\n",
       "        text-align: right;\n",
       "    }\n",
       "</style>\n",
       "<table border=\"1\" class=\"dataframe\">\n",
       "  <thead>\n",
       "    <tr style=\"text-align: right;\">\n",
       "      <th></th>\n",
       "      <th>LDHH_fanIn</th>\n",
       "      <th>WCHU_fanIn</th>\n",
       "      <th>ck_oo_fanIn</th>\n",
       "      <th>ck_oo_cbo</th>\n",
       "    </tr>\n",
       "  </thead>\n",
       "  <tbody>\n",
       "    <tr>\n",
       "      <th>LDHH_fanIn</th>\n",
       "      <td>1.000000</td>\n",
       "      <td>0.977808</td>\n",
       "      <td>0.615483</td>\n",
       "      <td>0.420045</td>\n",
       "    </tr>\n",
       "    <tr>\n",
       "      <th>WCHU_fanIn</th>\n",
       "      <td>0.977808</td>\n",
       "      <td>1.000000</td>\n",
       "      <td>0.630505</td>\n",
       "      <td>0.432667</td>\n",
       "    </tr>\n",
       "    <tr>\n",
       "      <th>ck_oo_fanIn</th>\n",
       "      <td>0.615483</td>\n",
       "      <td>0.630505</td>\n",
       "      <td>1.000000</td>\n",
       "      <td>0.588459</td>\n",
       "    </tr>\n",
       "    <tr>\n",
       "      <th>ck_oo_cbo</th>\n",
       "      <td>0.420045</td>\n",
       "      <td>0.432667</td>\n",
       "      <td>0.588459</td>\n",
       "      <td>1.000000</td>\n",
       "    </tr>\n",
       "  </tbody>\n",
       "</table>\n",
       "</div>"
      ],
      "text/plain": [
       "             LDHH_fanIn  WCHU_fanIn  ck_oo_fanIn  ck_oo_cbo\n",
       "LDHH_fanIn     1.000000    0.977808     0.615483   0.420045\n",
       "WCHU_fanIn     0.977808    1.000000     0.630505   0.432667\n",
       "ck_oo_fanIn    0.615483    0.630505     1.000000   0.588459\n",
       "ck_oo_cbo      0.420045    0.432667     0.588459   1.000000"
      ]
     },
     "execution_count": 52,
     "metadata": {},
     "output_type": "execute_result"
    }
   ],
   "source": [
    "abs(corr_matrix0)"
   ]
  },
  {
   "cell_type": "code",
   "execution_count": 66,
   "id": "55f9ffe3",
   "metadata": {},
   "outputs": [],
   "source": [
    "cluster0.remove('LDHH_fanIn')"
   ]
  },
  {
   "cell_type": "code",
   "execution_count": 67,
   "id": "af058373",
   "metadata": {},
   "outputs": [
    {
     "name": "stdout",
     "output_type": "stream",
     "text": [
      "['WCHU_fanIn', 'ck_oo_fanIn', 'ck_oo_cbo']\n"
     ]
    }
   ],
   "source": [
    "# Print the final set of attributes in the cluster\n",
    "print(cluster0)"
   ]
  },
  {
   "cell_type": "code",
   "execution_count": 68,
   "id": "808a5bca",
   "metadata": {},
   "outputs": [],
   "source": [
    "# Calculate the Spearman correlation matrix of the attributes in the cluster\n",
    "corr_matrix0 = df[cluster0].corr(method='spearman')"
   ]
  },
  {
   "cell_type": "code",
   "execution_count": 69,
   "id": "5bdb3408",
   "metadata": {},
   "outputs": [
    {
     "data": {
      "text/html": [
       "<div>\n",
       "<style scoped>\n",
       "    .dataframe tbody tr th:only-of-type {\n",
       "        vertical-align: middle;\n",
       "    }\n",
       "\n",
       "    .dataframe tbody tr th {\n",
       "        vertical-align: top;\n",
       "    }\n",
       "\n",
       "    .dataframe thead th {\n",
       "        text-align: right;\n",
       "    }\n",
       "</style>\n",
       "<table border=\"1\" class=\"dataframe\">\n",
       "  <thead>\n",
       "    <tr style=\"text-align: right;\">\n",
       "      <th></th>\n",
       "      <th>WCHU_fanIn</th>\n",
       "      <th>ck_oo_fanIn</th>\n",
       "      <th>ck_oo_cbo</th>\n",
       "    </tr>\n",
       "  </thead>\n",
       "  <tbody>\n",
       "    <tr>\n",
       "      <th>WCHU_fanIn</th>\n",
       "      <td>1.000000</td>\n",
       "      <td>0.630505</td>\n",
       "      <td>0.432667</td>\n",
       "    </tr>\n",
       "    <tr>\n",
       "      <th>ck_oo_fanIn</th>\n",
       "      <td>0.630505</td>\n",
       "      <td>1.000000</td>\n",
       "      <td>0.588459</td>\n",
       "    </tr>\n",
       "    <tr>\n",
       "      <th>ck_oo_cbo</th>\n",
       "      <td>0.432667</td>\n",
       "      <td>0.588459</td>\n",
       "      <td>1.000000</td>\n",
       "    </tr>\n",
       "  </tbody>\n",
       "</table>\n",
       "</div>"
      ],
      "text/plain": [
       "             WCHU_fanIn  ck_oo_fanIn  ck_oo_cbo\n",
       "WCHU_fanIn     1.000000     0.630505   0.432667\n",
       "ck_oo_fanIn    0.630505     1.000000   0.588459\n",
       "ck_oo_cbo      0.432667     0.588459   1.000000"
      ]
     },
     "execution_count": 69,
     "metadata": {},
     "output_type": "execute_result"
    }
   ],
   "source": [
    "abs(corr_matrix0)"
   ]
  },
  {
   "cell_type": "code",
   "execution_count": 70,
   "id": "ca28d193",
   "metadata": {},
   "outputs": [],
   "source": [
    "clusters = clusters.drop(0)"
   ]
  },
  {
   "cell_type": "code",
   "execution_count": 71,
   "id": "b3a2481c",
   "metadata": {},
   "outputs": [
    {
     "name": "stdout",
     "output_type": "stream",
     "text": [
      "    Cluster                             Variable    RS_Own     RS_NC  RS_Ratio\n",
      "1         0                           WCHU_fanIn  0.895058  0.230876  0.136444\n",
      "2         0                          ck_oo_fanIn  0.779178  0.279980  0.306688\n",
      "3         0                            ck_oo_cbo  0.807973  0.498768  0.383109\n",
      "4         0                             WCHU_cbo  0.878577  0.552058  0.271069\n",
      "6         1     LDHH_numberOfAttributesInherited  0.873832  0.256399  0.169672\n",
      "7         1    ck_oo_numberOfAttributesInherited  0.807593  0.158745  0.228714\n",
      "8         1                             WCHU_dit  0.857111  0.154899  0.169079\n",
      "9         1     WCHU_numberOfAttributesInherited  0.918035  0.208541  0.103562\n",
      "11        2  numberOfHighPriorityBugsFoundUntil:  0.565243  0.380754  0.702076\n",
      "12        2              numberOfBugsFoundUntil:  0.915809  0.676621  0.260347\n",
      "13        2         numberOfMajorBugsFoundUntil:  0.832859  0.553439  0.374284\n",
      "14        2    numberOfNonTrivialBugsFoundUntil:  0.929363  0.666590  0.211862\n",
      "15        2                           CvsEntropy  0.755698  0.653885  0.705840\n",
      "16        2      numberOfCriticalBugsFoundUntil:  0.653014  0.331401  0.518975\n",
      "18        3         ck_oo_numberOfPrivateMethods  0.725370  0.423647  0.476496\n",
      "20        3          WCHU_numberOfPrivateMethods  0.787782  0.537217  0.458569\n",
      "21        3          LDHH_numberOfPrivateMethods  0.751270  0.445654  0.448691\n",
      "22        3       WCHU_numberOfPrivateAttributes  0.726566  0.347986  0.419368\n",
      "23        3      ck_oo_numberOfPrivateAttributes  0.429106  0.102064  0.635784\n",
      "24        4                ck_oo_numberOfMethods  0.824974  0.568222  0.405361\n",
      "25        4                           ck_oo_lcom  0.745270  0.331629  0.381121\n",
      "26        4                            WCHU_lcom  0.543972  0.276138  0.629993\n",
      "27        4           WCHU_numberOfPublicMethods  0.686458  0.491396  0.616476\n",
      "28        4          ck_oo_numberOfPublicMethods  0.823709  0.351164  0.271704\n",
      "30        5                        CvsExpEntropy  0.956312  0.414904  0.074668\n",
      "32        5                        CvsLinEntropy  0.995590  0.337839  0.006659\n",
      "33        6        WCHU_numberOfPublicAttributes  0.826243  0.264876  0.236365\n",
      "34        6              WCHU_numberOfAttributes  0.797910  0.349024  0.310442\n",
      "35        6        LDHH_numberOfPublicAttributes  0.758096  0.231567  0.314802\n",
      "36        6       ck_oo_numberOfPublicAttributes  0.527223  0.054702  0.500136\n",
      "38        6             ck_oo_numberOfAttributes  0.665102  0.122694  0.381734\n",
      "39        7                            ck_oo_dit  0.668394  0.369035  0.525554\n",
      "41        7        WCHU_numberOfMethodsInherited  0.810007  0.146580  0.222625\n",
      "42        7        LDHH_numberOfMethodsInherited  0.841124  0.149791  0.186867\n",
      "43        7       ck_oo_numberOfMethodsInherited  0.730569  0.083055  0.293836\n",
      "44        8                            LDHH_lcom  0.728697  0.451472  0.494602\n",
      "45        8                             LDHH_wmc  0.873124  0.644145  0.356538\n",
      "46        8             LDHH_numberOfLinesOfCode  0.887521  0.685363  0.357489\n",
      "48        8                             LDHH_rfc  0.883519  0.661713  0.344328\n",
      "49        8             WCHU_numberOfLinesOfCode  0.902946  0.729064  0.358218\n",
      "50        8                 LDHH_numberOfMethods  0.742027  0.462077  0.479571\n",
      "51        8                          WCHU_fanOut  0.710695  0.570888  0.674193\n",
      "52        8                 WCHU_numberOfMethods  0.771944  0.594361  0.562215\n",
      "53        8                             WCHU_wmc  0.900484  0.718305  0.353277\n",
      "54        8                             WCHU_rfc  0.909528  0.759763  0.376595\n",
      "56        9                             WCHU_noc  0.704531  0.011981  0.299052\n",
      "57       10            ck_oo_numberOfLinesOfCode  0.945752  0.559119  0.123045\n",
      "58       10                            ck_oo_rfc  0.873186  0.544774  0.278574\n",
      "59       10                            ck_oo_wmc  0.925237  0.561034  0.170316\n"
     ]
    }
   ],
   "source": [
    "print(clusters)"
   ]
  },
  {
   "cell_type": "code",
   "execution_count": 114,
   "id": "34d087e8",
   "metadata": {},
   "outputs": [],
   "source": [
    "cluster1 = [\"LDHH_numberOfAttributesInherited\", \"ck_oo_numberOfAttributesInherited\", \"WCHU_dit\", \"WCHU_numberOfAttributesInherited\"]"
   ]
  },
  {
   "cell_type": "code",
   "execution_count": 115,
   "id": "7092045c",
   "metadata": {},
   "outputs": [
    {
     "name": "stdout",
     "output_type": "stream",
     "text": [
      "['LDHH_numberOfAttributesInherited', 'ck_oo_numberOfAttributesInherited', 'WCHU_dit', 'WCHU_numberOfAttributesInherited']\n"
     ]
    }
   ],
   "source": [
    "print(cluster1)"
   ]
  },
  {
   "cell_type": "code",
   "execution_count": 116,
   "id": "2cf6762b",
   "metadata": {},
   "outputs": [],
   "source": [
    "# Calculate the Spearman correlation matrix of the attributes in the cluster\n",
    "corr_matrix1 = df[cluster1].corr(method='spearman')"
   ]
  },
  {
   "cell_type": "code",
   "execution_count": 117,
   "id": "ed832aeb",
   "metadata": {},
   "outputs": [
    {
     "data": {
      "text/html": [
       "<div>\n",
       "<style scoped>\n",
       "    .dataframe tbody tr th:only-of-type {\n",
       "        vertical-align: middle;\n",
       "    }\n",
       "\n",
       "    .dataframe tbody tr th {\n",
       "        vertical-align: top;\n",
       "    }\n",
       "\n",
       "    .dataframe thead th {\n",
       "        text-align: right;\n",
       "    }\n",
       "</style>\n",
       "<table border=\"1\" class=\"dataframe\">\n",
       "  <thead>\n",
       "    <tr style=\"text-align: right;\">\n",
       "      <th></th>\n",
       "      <th>LDHH_numberOfAttributesInherited</th>\n",
       "      <th>ck_oo_numberOfAttributesInherited</th>\n",
       "      <th>WCHU_dit</th>\n",
       "      <th>WCHU_numberOfAttributesInherited</th>\n",
       "    </tr>\n",
       "  </thead>\n",
       "  <tbody>\n",
       "    <tr>\n",
       "      <th>LDHH_numberOfAttributesInherited</th>\n",
       "      <td>1.000000</td>\n",
       "      <td>0.857349</td>\n",
       "      <td>0.726015</td>\n",
       "      <td>0.984937</td>\n",
       "    </tr>\n",
       "    <tr>\n",
       "      <th>ck_oo_numberOfAttributesInherited</th>\n",
       "      <td>0.857349</td>\n",
       "      <td>1.000000</td>\n",
       "      <td>0.593766</td>\n",
       "      <td>0.855619</td>\n",
       "    </tr>\n",
       "    <tr>\n",
       "      <th>WCHU_dit</th>\n",
       "      <td>0.726015</td>\n",
       "      <td>0.593766</td>\n",
       "      <td>1.000000</td>\n",
       "      <td>0.734723</td>\n",
       "    </tr>\n",
       "    <tr>\n",
       "      <th>WCHU_numberOfAttributesInherited</th>\n",
       "      <td>0.984937</td>\n",
       "      <td>0.855619</td>\n",
       "      <td>0.734723</td>\n",
       "      <td>1.000000</td>\n",
       "    </tr>\n",
       "  </tbody>\n",
       "</table>\n",
       "</div>"
      ],
      "text/plain": [
       "                                   LDHH_numberOfAttributesInherited  \\\n",
       "LDHH_numberOfAttributesInherited                           1.000000   \n",
       "ck_oo_numberOfAttributesInherited                          0.857349   \n",
       "WCHU_dit                                                   0.726015   \n",
       "WCHU_numberOfAttributesInherited                           0.984937   \n",
       "\n",
       "                                   ck_oo_numberOfAttributesInherited  \\\n",
       "LDHH_numberOfAttributesInherited                            0.857349   \n",
       "ck_oo_numberOfAttributesInherited                           1.000000   \n",
       "WCHU_dit                                                    0.593766   \n",
       "WCHU_numberOfAttributesInherited                            0.855619   \n",
       "\n",
       "                                   WCHU_dit  WCHU_numberOfAttributesInherited  \n",
       "LDHH_numberOfAttributesInherited   0.726015                          0.984937  \n",
       "ck_oo_numberOfAttributesInherited  0.593766                          0.855619  \n",
       "WCHU_dit                           1.000000                          0.734723  \n",
       "WCHU_numberOfAttributesInherited   0.734723                          1.000000  "
      ]
     },
     "execution_count": 117,
     "metadata": {},
     "output_type": "execute_result"
    }
   ],
   "source": [
    "abs(corr_matrix1)"
   ]
  },
  {
   "cell_type": "code",
   "execution_count": 118,
   "id": "41430db0",
   "metadata": {},
   "outputs": [],
   "source": [
    "cluster1.remove('LDHH_numberOfAttributesInherited')"
   ]
  },
  {
   "cell_type": "code",
   "execution_count": 119,
   "id": "3fdadefe",
   "metadata": {},
   "outputs": [
    {
     "name": "stdout",
     "output_type": "stream",
     "text": [
      "['ck_oo_numberOfAttributesInherited', 'WCHU_dit', 'WCHU_numberOfAttributesInherited']\n"
     ]
    }
   ],
   "source": [
    "print(cluster1)"
   ]
  },
  {
   "cell_type": "code",
   "execution_count": 120,
   "id": "e4f202a5",
   "metadata": {},
   "outputs": [],
   "source": [
    "# Calculate the Spearman correlation matrix of the attributes in the cluster\n",
    "corr_matrix1 = df[cluster1].corr(method='spearman')"
   ]
  },
  {
   "cell_type": "code",
   "execution_count": 121,
   "id": "f8493055",
   "metadata": {},
   "outputs": [
    {
     "data": {
      "text/html": [
       "<div>\n",
       "<style scoped>\n",
       "    .dataframe tbody tr th:only-of-type {\n",
       "        vertical-align: middle;\n",
       "    }\n",
       "\n",
       "    .dataframe tbody tr th {\n",
       "        vertical-align: top;\n",
       "    }\n",
       "\n",
       "    .dataframe thead th {\n",
       "        text-align: right;\n",
       "    }\n",
       "</style>\n",
       "<table border=\"1\" class=\"dataframe\">\n",
       "  <thead>\n",
       "    <tr style=\"text-align: right;\">\n",
       "      <th></th>\n",
       "      <th>ck_oo_numberOfAttributesInherited</th>\n",
       "      <th>WCHU_dit</th>\n",
       "      <th>WCHU_numberOfAttributesInherited</th>\n",
       "    </tr>\n",
       "  </thead>\n",
       "  <tbody>\n",
       "    <tr>\n",
       "      <th>ck_oo_numberOfAttributesInherited</th>\n",
       "      <td>1.000000</td>\n",
       "      <td>0.593766</td>\n",
       "      <td>0.855619</td>\n",
       "    </tr>\n",
       "    <tr>\n",
       "      <th>WCHU_dit</th>\n",
       "      <td>0.593766</td>\n",
       "      <td>1.000000</td>\n",
       "      <td>0.734723</td>\n",
       "    </tr>\n",
       "    <tr>\n",
       "      <th>WCHU_numberOfAttributesInherited</th>\n",
       "      <td>0.855619</td>\n",
       "      <td>0.734723</td>\n",
       "      <td>1.000000</td>\n",
       "    </tr>\n",
       "  </tbody>\n",
       "</table>\n",
       "</div>"
      ],
      "text/plain": [
       "                                   ck_oo_numberOfAttributesInherited  \\\n",
       "ck_oo_numberOfAttributesInherited                           1.000000   \n",
       "WCHU_dit                                                    0.593766   \n",
       "WCHU_numberOfAttributesInherited                            0.855619   \n",
       "\n",
       "                                   WCHU_dit  WCHU_numberOfAttributesInherited  \n",
       "ck_oo_numberOfAttributesInherited  0.593766                          0.855619  \n",
       "WCHU_dit                           1.000000                          0.734723  \n",
       "WCHU_numberOfAttributesInherited   0.734723                          1.000000  "
      ]
     },
     "execution_count": 121,
     "metadata": {},
     "output_type": "execute_result"
    }
   ],
   "source": [
    "abs(corr_matrix1)"
   ]
  },
  {
   "cell_type": "code",
   "execution_count": 122,
   "id": "8364b95a",
   "metadata": {},
   "outputs": [],
   "source": [
    "cluster1.remove('WCHU_numberOfAttributesInherited')"
   ]
  },
  {
   "cell_type": "code",
   "execution_count": 123,
   "id": "a5528a93",
   "metadata": {},
   "outputs": [
    {
     "name": "stdout",
     "output_type": "stream",
     "text": [
      "['ck_oo_numberOfAttributesInherited', 'WCHU_dit']\n"
     ]
    }
   ],
   "source": [
    "print(cluster1)"
   ]
  },
  {
   "cell_type": "code",
   "execution_count": 124,
   "id": "4059c3c8",
   "metadata": {},
   "outputs": [],
   "source": [
    "# Calculate the Spearman correlation matrix of the attributes in the cluster\n",
    "corr_matrix1 = df[cluster1].corr(method='spearman')"
   ]
  },
  {
   "cell_type": "code",
   "execution_count": 125,
   "id": "bde1a32c",
   "metadata": {},
   "outputs": [
    {
     "data": {
      "text/html": [
       "<div>\n",
       "<style scoped>\n",
       "    .dataframe tbody tr th:only-of-type {\n",
       "        vertical-align: middle;\n",
       "    }\n",
       "\n",
       "    .dataframe tbody tr th {\n",
       "        vertical-align: top;\n",
       "    }\n",
       "\n",
       "    .dataframe thead th {\n",
       "        text-align: right;\n",
       "    }\n",
       "</style>\n",
       "<table border=\"1\" class=\"dataframe\">\n",
       "  <thead>\n",
       "    <tr style=\"text-align: right;\">\n",
       "      <th></th>\n",
       "      <th>ck_oo_numberOfAttributesInherited</th>\n",
       "      <th>WCHU_dit</th>\n",
       "    </tr>\n",
       "  </thead>\n",
       "  <tbody>\n",
       "    <tr>\n",
       "      <th>ck_oo_numberOfAttributesInherited</th>\n",
       "      <td>1.000000</td>\n",
       "      <td>0.593766</td>\n",
       "    </tr>\n",
       "    <tr>\n",
       "      <th>WCHU_dit</th>\n",
       "      <td>0.593766</td>\n",
       "      <td>1.000000</td>\n",
       "    </tr>\n",
       "  </tbody>\n",
       "</table>\n",
       "</div>"
      ],
      "text/plain": [
       "                                   ck_oo_numberOfAttributesInherited  WCHU_dit\n",
       "ck_oo_numberOfAttributesInherited                           1.000000  0.593766\n",
       "WCHU_dit                                                    0.593766  1.000000"
      ]
     },
     "execution_count": 125,
     "metadata": {},
     "output_type": "execute_result"
    }
   ],
   "source": [
    "abs(corr_matrix1)"
   ]
  },
  {
   "cell_type": "code",
   "execution_count": 126,
   "id": "336ad5c8",
   "metadata": {},
   "outputs": [
    {
     "name": "stdout",
     "output_type": "stream",
     "text": [
      "    Cluster                             Variable    RS_Own     RS_NC  RS_Ratio\n",
      "1         0                           WCHU_fanIn  0.895058  0.230876  0.136444\n",
      "2         0                          ck_oo_fanIn  0.779178  0.279980  0.306688\n",
      "3         0                            ck_oo_cbo  0.807973  0.498768  0.383109\n",
      "4         0                             WCHU_cbo  0.878577  0.552058  0.271069\n",
      "7         1    ck_oo_numberOfAttributesInherited  0.807593  0.158745  0.228714\n",
      "8         1                             WCHU_dit  0.857111  0.154899  0.169079\n",
      "11        2  numberOfHighPriorityBugsFoundUntil:  0.565243  0.380754  0.702076\n",
      "12        2              numberOfBugsFoundUntil:  0.915809  0.676621  0.260347\n",
      "13        2         numberOfMajorBugsFoundUntil:  0.832859  0.553439  0.374284\n",
      "14        2    numberOfNonTrivialBugsFoundUntil:  0.929363  0.666590  0.211862\n",
      "15        2                           CvsEntropy  0.755698  0.653885  0.705840\n",
      "16        2      numberOfCriticalBugsFoundUntil:  0.653014  0.331401  0.518975\n",
      "18        3         ck_oo_numberOfPrivateMethods  0.725370  0.423647  0.476496\n",
      "20        3          WCHU_numberOfPrivateMethods  0.787782  0.537217  0.458569\n",
      "21        3          LDHH_numberOfPrivateMethods  0.751270  0.445654  0.448691\n",
      "22        3       WCHU_numberOfPrivateAttributes  0.726566  0.347986  0.419368\n",
      "23        3      ck_oo_numberOfPrivateAttributes  0.429106  0.102064  0.635784\n",
      "24        4                ck_oo_numberOfMethods  0.824974  0.568222  0.405361\n",
      "25        4                           ck_oo_lcom  0.745270  0.331629  0.381121\n",
      "26        4                            WCHU_lcom  0.543972  0.276138  0.629993\n",
      "27        4           WCHU_numberOfPublicMethods  0.686458  0.491396  0.616476\n",
      "28        4          ck_oo_numberOfPublicMethods  0.823709  0.351164  0.271704\n",
      "30        5                        CvsExpEntropy  0.956312  0.414904  0.074668\n",
      "32        5                        CvsLinEntropy  0.995590  0.337839  0.006659\n",
      "33        6        WCHU_numberOfPublicAttributes  0.826243  0.264876  0.236365\n",
      "34        6              WCHU_numberOfAttributes  0.797910  0.349024  0.310442\n",
      "35        6        LDHH_numberOfPublicAttributes  0.758096  0.231567  0.314802\n",
      "36        6       ck_oo_numberOfPublicAttributes  0.527223  0.054702  0.500136\n",
      "38        6             ck_oo_numberOfAttributes  0.665102  0.122694  0.381734\n",
      "39        7                            ck_oo_dit  0.668394  0.369035  0.525554\n",
      "41        7        WCHU_numberOfMethodsInherited  0.810007  0.146580  0.222625\n",
      "42        7        LDHH_numberOfMethodsInherited  0.841124  0.149791  0.186867\n",
      "43        7       ck_oo_numberOfMethodsInherited  0.730569  0.083055  0.293836\n",
      "44        8                            LDHH_lcom  0.728697  0.451472  0.494602\n",
      "45        8                             LDHH_wmc  0.873124  0.644145  0.356538\n",
      "46        8             LDHH_numberOfLinesOfCode  0.887521  0.685363  0.357489\n",
      "48        8                             LDHH_rfc  0.883519  0.661713  0.344328\n",
      "49        8             WCHU_numberOfLinesOfCode  0.902946  0.729064  0.358218\n",
      "50        8                 LDHH_numberOfMethods  0.742027  0.462077  0.479571\n",
      "51        8                          WCHU_fanOut  0.710695  0.570888  0.674193\n",
      "52        8                 WCHU_numberOfMethods  0.771944  0.594361  0.562215\n",
      "53        8                             WCHU_wmc  0.900484  0.718305  0.353277\n",
      "54        8                             WCHU_rfc  0.909528  0.759763  0.376595\n",
      "56        9                             WCHU_noc  0.704531  0.011981  0.299052\n",
      "57       10            ck_oo_numberOfLinesOfCode  0.945752  0.559119  0.123045\n",
      "58       10                            ck_oo_rfc  0.873186  0.544774  0.278574\n",
      "59       10                            ck_oo_wmc  0.925237  0.561034  0.170316\n"
     ]
    }
   ],
   "source": [
    "print(clusters)"
   ]
  },
  {
   "cell_type": "code",
   "execution_count": 127,
   "id": "c0c4730d",
   "metadata": {},
   "outputs": [],
   "source": [
    "cluster2 = [\"numberOfHighPriorityBugsFoundUntil:\", \"numberOfBugsFoundUntil:\", \"numberOfMajorBugsFoundUntil:\", \"numberOfNonTrivialBugsFoundUntil:\", \"CvsEntropy\", \"numberOfCriticalBugsFoundUntil:\"] "
   ]
  },
  {
   "cell_type": "code",
   "execution_count": 129,
   "id": "b412d8a6",
   "metadata": {},
   "outputs": [
    {
     "name": "stdout",
     "output_type": "stream",
     "text": [
      "['numberOfHighPriorityBugsFoundUntil:', 'numberOfBugsFoundUntil:', 'numberOfMajorBugsFoundUntil:', 'numberOfNonTrivialBugsFoundUntil:', 'CvsEntropy', 'numberOfCriticalBugsFoundUntil:']\n"
     ]
    }
   ],
   "source": [
    "print(cluster2)"
   ]
  },
  {
   "cell_type": "code",
   "execution_count": 130,
   "id": "c278cc32",
   "metadata": {},
   "outputs": [],
   "source": [
    "# Calculate the Spearman correlation matrix of the attributes in the cluster\n",
    "corr_matrix2 = df[cluster2].corr(method='spearman')"
   ]
  },
  {
   "cell_type": "code",
   "execution_count": 131,
   "id": "3de216e2",
   "metadata": {},
   "outputs": [
    {
     "data": {
      "text/html": [
       "<div>\n",
       "<style scoped>\n",
       "    .dataframe tbody tr th:only-of-type {\n",
       "        vertical-align: middle;\n",
       "    }\n",
       "\n",
       "    .dataframe tbody tr th {\n",
       "        vertical-align: top;\n",
       "    }\n",
       "\n",
       "    .dataframe thead th {\n",
       "        text-align: right;\n",
       "    }\n",
       "</style>\n",
       "<table border=\"1\" class=\"dataframe\">\n",
       "  <thead>\n",
       "    <tr style=\"text-align: right;\">\n",
       "      <th></th>\n",
       "      <th>numberOfHighPriorityBugsFoundUntil:</th>\n",
       "      <th>numberOfBugsFoundUntil:</th>\n",
       "      <th>numberOfMajorBugsFoundUntil:</th>\n",
       "      <th>numberOfNonTrivialBugsFoundUntil:</th>\n",
       "      <th>CvsEntropy</th>\n",
       "      <th>numberOfCriticalBugsFoundUntil:</th>\n",
       "    </tr>\n",
       "  </thead>\n",
       "  <tbody>\n",
       "    <tr>\n",
       "      <th>numberOfHighPriorityBugsFoundUntil:</th>\n",
       "      <td>1.000000</td>\n",
       "      <td>0.438106</td>\n",
       "      <td>0.453513</td>\n",
       "      <td>0.415970</td>\n",
       "      <td>0.379560</td>\n",
       "      <td>0.320903</td>\n",
       "    </tr>\n",
       "    <tr>\n",
       "      <th>numberOfBugsFoundUntil:</th>\n",
       "      <td>0.438106</td>\n",
       "      <td>1.000000</td>\n",
       "      <td>0.678598</td>\n",
       "      <td>0.988248</td>\n",
       "      <td>0.838446</td>\n",
       "      <td>0.558363</td>\n",
       "    </tr>\n",
       "    <tr>\n",
       "      <th>numberOfMajorBugsFoundUntil:</th>\n",
       "      <td>0.453513</td>\n",
       "      <td>0.678598</td>\n",
       "      <td>1.000000</td>\n",
       "      <td>0.686114</td>\n",
       "      <td>0.629031</td>\n",
       "      <td>0.769976</td>\n",
       "    </tr>\n",
       "    <tr>\n",
       "      <th>numberOfNonTrivialBugsFoundUntil:</th>\n",
       "      <td>0.415970</td>\n",
       "      <td>0.988248</td>\n",
       "      <td>0.686114</td>\n",
       "      <td>1.000000</td>\n",
       "      <td>0.834670</td>\n",
       "      <td>0.565041</td>\n",
       "    </tr>\n",
       "    <tr>\n",
       "      <th>CvsEntropy</th>\n",
       "      <td>0.379560</td>\n",
       "      <td>0.838446</td>\n",
       "      <td>0.629031</td>\n",
       "      <td>0.834670</td>\n",
       "      <td>1.000000</td>\n",
       "      <td>0.532429</td>\n",
       "    </tr>\n",
       "    <tr>\n",
       "      <th>numberOfCriticalBugsFoundUntil:</th>\n",
       "      <td>0.320903</td>\n",
       "      <td>0.558363</td>\n",
       "      <td>0.769976</td>\n",
       "      <td>0.565041</td>\n",
       "      <td>0.532429</td>\n",
       "      <td>1.000000</td>\n",
       "    </tr>\n",
       "  </tbody>\n",
       "</table>\n",
       "</div>"
      ],
      "text/plain": [
       "                                     numberOfHighPriorityBugsFoundUntil:  \\\n",
       "numberOfHighPriorityBugsFoundUntil:                             1.000000   \n",
       "numberOfBugsFoundUntil:                                         0.438106   \n",
       "numberOfMajorBugsFoundUntil:                                    0.453513   \n",
       "numberOfNonTrivialBugsFoundUntil:                               0.415970   \n",
       "CvsEntropy                                                      0.379560   \n",
       "numberOfCriticalBugsFoundUntil:                                 0.320903   \n",
       "\n",
       "                                     numberOfBugsFoundUntil:  \\\n",
       "numberOfHighPriorityBugsFoundUntil:                 0.438106   \n",
       "numberOfBugsFoundUntil:                             1.000000   \n",
       "numberOfMajorBugsFoundUntil:                        0.678598   \n",
       "numberOfNonTrivialBugsFoundUntil:                   0.988248   \n",
       "CvsEntropy                                          0.838446   \n",
       "numberOfCriticalBugsFoundUntil:                     0.558363   \n",
       "\n",
       "                                     numberOfMajorBugsFoundUntil:  \\\n",
       "numberOfHighPriorityBugsFoundUntil:                      0.453513   \n",
       "numberOfBugsFoundUntil:                                  0.678598   \n",
       "numberOfMajorBugsFoundUntil:                             1.000000   \n",
       "numberOfNonTrivialBugsFoundUntil:                        0.686114   \n",
       "CvsEntropy                                               0.629031   \n",
       "numberOfCriticalBugsFoundUntil:                          0.769976   \n",
       "\n",
       "                                     numberOfNonTrivialBugsFoundUntil:  \\\n",
       "numberOfHighPriorityBugsFoundUntil:                           0.415970   \n",
       "numberOfBugsFoundUntil:                                       0.988248   \n",
       "numberOfMajorBugsFoundUntil:                                  0.686114   \n",
       "numberOfNonTrivialBugsFoundUntil:                             1.000000   \n",
       "CvsEntropy                                                    0.834670   \n",
       "numberOfCriticalBugsFoundUntil:                               0.565041   \n",
       "\n",
       "                                     CvsEntropy  \\\n",
       "numberOfHighPriorityBugsFoundUntil:    0.379560   \n",
       "numberOfBugsFoundUntil:                0.838446   \n",
       "numberOfMajorBugsFoundUntil:           0.629031   \n",
       "numberOfNonTrivialBugsFoundUntil:      0.834670   \n",
       "CvsEntropy                             1.000000   \n",
       "numberOfCriticalBugsFoundUntil:        0.532429   \n",
       "\n",
       "                                     numberOfCriticalBugsFoundUntil:  \n",
       "numberOfHighPriorityBugsFoundUntil:                         0.320903  \n",
       "numberOfBugsFoundUntil:                                     0.558363  \n",
       "numberOfMajorBugsFoundUntil:                                0.769976  \n",
       "numberOfNonTrivialBugsFoundUntil:                           0.565041  \n",
       "CvsEntropy                                                  0.532429  \n",
       "numberOfCriticalBugsFoundUntil:                             1.000000  "
      ]
     },
     "execution_count": 131,
     "metadata": {},
     "output_type": "execute_result"
    }
   ],
   "source": [
    "abs(corr_matrix2)"
   ]
  },
  {
   "cell_type": "code",
   "execution_count": 132,
   "id": "16e15b66",
   "metadata": {},
   "outputs": [],
   "source": [
    "cluster2.remove('numberOfBugsFoundUntil:')"
   ]
  },
  {
   "cell_type": "code",
   "execution_count": 133,
   "id": "427ff7d2",
   "metadata": {},
   "outputs": [
    {
     "name": "stdout",
     "output_type": "stream",
     "text": [
      "['numberOfHighPriorityBugsFoundUntil:', 'numberOfMajorBugsFoundUntil:', 'numberOfNonTrivialBugsFoundUntil:', 'CvsEntropy', 'numberOfCriticalBugsFoundUntil:']\n"
     ]
    }
   ],
   "source": [
    "print(cluster2)"
   ]
  },
  {
   "cell_type": "code",
   "execution_count": 134,
   "id": "d708367d",
   "metadata": {},
   "outputs": [],
   "source": [
    "# Calculate the Spearman correlation matrix of the attributes in the cluster\n",
    "corr_matrix2 = df[cluster2].corr(method='spearman')"
   ]
  },
  {
   "cell_type": "code",
   "execution_count": 135,
   "id": "886825ad",
   "metadata": {},
   "outputs": [
    {
     "data": {
      "text/html": [
       "<div>\n",
       "<style scoped>\n",
       "    .dataframe tbody tr th:only-of-type {\n",
       "        vertical-align: middle;\n",
       "    }\n",
       "\n",
       "    .dataframe tbody tr th {\n",
       "        vertical-align: top;\n",
       "    }\n",
       "\n",
       "    .dataframe thead th {\n",
       "        text-align: right;\n",
       "    }\n",
       "</style>\n",
       "<table border=\"1\" class=\"dataframe\">\n",
       "  <thead>\n",
       "    <tr style=\"text-align: right;\">\n",
       "      <th></th>\n",
       "      <th>numberOfHighPriorityBugsFoundUntil:</th>\n",
       "      <th>numberOfMajorBugsFoundUntil:</th>\n",
       "      <th>numberOfNonTrivialBugsFoundUntil:</th>\n",
       "      <th>CvsEntropy</th>\n",
       "      <th>numberOfCriticalBugsFoundUntil:</th>\n",
       "    </tr>\n",
       "  </thead>\n",
       "  <tbody>\n",
       "    <tr>\n",
       "      <th>numberOfHighPriorityBugsFoundUntil:</th>\n",
       "      <td>1.000000</td>\n",
       "      <td>0.453513</td>\n",
       "      <td>0.415970</td>\n",
       "      <td>0.379560</td>\n",
       "      <td>0.320903</td>\n",
       "    </tr>\n",
       "    <tr>\n",
       "      <th>numberOfMajorBugsFoundUntil:</th>\n",
       "      <td>0.453513</td>\n",
       "      <td>1.000000</td>\n",
       "      <td>0.686114</td>\n",
       "      <td>0.629031</td>\n",
       "      <td>0.769976</td>\n",
       "    </tr>\n",
       "    <tr>\n",
       "      <th>numberOfNonTrivialBugsFoundUntil:</th>\n",
       "      <td>0.415970</td>\n",
       "      <td>0.686114</td>\n",
       "      <td>1.000000</td>\n",
       "      <td>0.834670</td>\n",
       "      <td>0.565041</td>\n",
       "    </tr>\n",
       "    <tr>\n",
       "      <th>CvsEntropy</th>\n",
       "      <td>0.379560</td>\n",
       "      <td>0.629031</td>\n",
       "      <td>0.834670</td>\n",
       "      <td>1.000000</td>\n",
       "      <td>0.532429</td>\n",
       "    </tr>\n",
       "    <tr>\n",
       "      <th>numberOfCriticalBugsFoundUntil:</th>\n",
       "      <td>0.320903</td>\n",
       "      <td>0.769976</td>\n",
       "      <td>0.565041</td>\n",
       "      <td>0.532429</td>\n",
       "      <td>1.000000</td>\n",
       "    </tr>\n",
       "  </tbody>\n",
       "</table>\n",
       "</div>"
      ],
      "text/plain": [
       "                                     numberOfHighPriorityBugsFoundUntil:  \\\n",
       "numberOfHighPriorityBugsFoundUntil:                             1.000000   \n",
       "numberOfMajorBugsFoundUntil:                                    0.453513   \n",
       "numberOfNonTrivialBugsFoundUntil:                               0.415970   \n",
       "CvsEntropy                                                      0.379560   \n",
       "numberOfCriticalBugsFoundUntil:                                 0.320903   \n",
       "\n",
       "                                     numberOfMajorBugsFoundUntil:  \\\n",
       "numberOfHighPriorityBugsFoundUntil:                      0.453513   \n",
       "numberOfMajorBugsFoundUntil:                             1.000000   \n",
       "numberOfNonTrivialBugsFoundUntil:                        0.686114   \n",
       "CvsEntropy                                               0.629031   \n",
       "numberOfCriticalBugsFoundUntil:                          0.769976   \n",
       "\n",
       "                                     numberOfNonTrivialBugsFoundUntil:  \\\n",
       "numberOfHighPriorityBugsFoundUntil:                           0.415970   \n",
       "numberOfMajorBugsFoundUntil:                                  0.686114   \n",
       "numberOfNonTrivialBugsFoundUntil:                             1.000000   \n",
       "CvsEntropy                                                    0.834670   \n",
       "numberOfCriticalBugsFoundUntil:                               0.565041   \n",
       "\n",
       "                                     CvsEntropy  \\\n",
       "numberOfHighPriorityBugsFoundUntil:    0.379560   \n",
       "numberOfMajorBugsFoundUntil:           0.629031   \n",
       "numberOfNonTrivialBugsFoundUntil:      0.834670   \n",
       "CvsEntropy                             1.000000   \n",
       "numberOfCriticalBugsFoundUntil:        0.532429   \n",
       "\n",
       "                                     numberOfCriticalBugsFoundUntil:  \n",
       "numberOfHighPriorityBugsFoundUntil:                         0.320903  \n",
       "numberOfMajorBugsFoundUntil:                                0.769976  \n",
       "numberOfNonTrivialBugsFoundUntil:                           0.565041  \n",
       "CvsEntropy                                                  0.532429  \n",
       "numberOfCriticalBugsFoundUntil:                             1.000000  "
      ]
     },
     "execution_count": 135,
     "metadata": {},
     "output_type": "execute_result"
    }
   ],
   "source": [
    "abs(corr_matrix2)"
   ]
  },
  {
   "cell_type": "code",
   "execution_count": 136,
   "id": "64c42f7d",
   "metadata": {},
   "outputs": [],
   "source": [
    "cluster2.remove('numberOfNonTrivialBugsFoundUntil:')"
   ]
  },
  {
   "cell_type": "code",
   "execution_count": 137,
   "id": "b4671382",
   "metadata": {},
   "outputs": [
    {
     "name": "stdout",
     "output_type": "stream",
     "text": [
      "['numberOfHighPriorityBugsFoundUntil:', 'numberOfMajorBugsFoundUntil:', 'CvsEntropy', 'numberOfCriticalBugsFoundUntil:']\n"
     ]
    }
   ],
   "source": [
    "print(cluster2)"
   ]
  },
  {
   "cell_type": "code",
   "execution_count": 138,
   "id": "f8c79763",
   "metadata": {},
   "outputs": [],
   "source": [
    "# Calculate the Spearman correlation matrix of the attributes in the cluster\n",
    "corr_matrix2 = df[cluster2].corr(method='spearman')"
   ]
  },
  {
   "cell_type": "code",
   "execution_count": 139,
   "id": "446a6494",
   "metadata": {},
   "outputs": [
    {
     "data": {
      "text/html": [
       "<div>\n",
       "<style scoped>\n",
       "    .dataframe tbody tr th:only-of-type {\n",
       "        vertical-align: middle;\n",
       "    }\n",
       "\n",
       "    .dataframe tbody tr th {\n",
       "        vertical-align: top;\n",
       "    }\n",
       "\n",
       "    .dataframe thead th {\n",
       "        text-align: right;\n",
       "    }\n",
       "</style>\n",
       "<table border=\"1\" class=\"dataframe\">\n",
       "  <thead>\n",
       "    <tr style=\"text-align: right;\">\n",
       "      <th></th>\n",
       "      <th>numberOfHighPriorityBugsFoundUntil:</th>\n",
       "      <th>numberOfMajorBugsFoundUntil:</th>\n",
       "      <th>CvsEntropy</th>\n",
       "      <th>numberOfCriticalBugsFoundUntil:</th>\n",
       "    </tr>\n",
       "  </thead>\n",
       "  <tbody>\n",
       "    <tr>\n",
       "      <th>numberOfHighPriorityBugsFoundUntil:</th>\n",
       "      <td>1.000000</td>\n",
       "      <td>0.453513</td>\n",
       "      <td>0.379560</td>\n",
       "      <td>0.320903</td>\n",
       "    </tr>\n",
       "    <tr>\n",
       "      <th>numberOfMajorBugsFoundUntil:</th>\n",
       "      <td>0.453513</td>\n",
       "      <td>1.000000</td>\n",
       "      <td>0.629031</td>\n",
       "      <td>0.769976</td>\n",
       "    </tr>\n",
       "    <tr>\n",
       "      <th>CvsEntropy</th>\n",
       "      <td>0.379560</td>\n",
       "      <td>0.629031</td>\n",
       "      <td>1.000000</td>\n",
       "      <td>0.532429</td>\n",
       "    </tr>\n",
       "    <tr>\n",
       "      <th>numberOfCriticalBugsFoundUntil:</th>\n",
       "      <td>0.320903</td>\n",
       "      <td>0.769976</td>\n",
       "      <td>0.532429</td>\n",
       "      <td>1.000000</td>\n",
       "    </tr>\n",
       "  </tbody>\n",
       "</table>\n",
       "</div>"
      ],
      "text/plain": [
       "                                     numberOfHighPriorityBugsFoundUntil:  \\\n",
       "numberOfHighPriorityBugsFoundUntil:                             1.000000   \n",
       "numberOfMajorBugsFoundUntil:                                    0.453513   \n",
       "CvsEntropy                                                      0.379560   \n",
       "numberOfCriticalBugsFoundUntil:                                 0.320903   \n",
       "\n",
       "                                     numberOfMajorBugsFoundUntil:  CvsEntropy  \\\n",
       "numberOfHighPriorityBugsFoundUntil:                      0.453513    0.379560   \n",
       "numberOfMajorBugsFoundUntil:                             1.000000    0.629031   \n",
       "CvsEntropy                                               0.629031    1.000000   \n",
       "numberOfCriticalBugsFoundUntil:                          0.769976    0.532429   \n",
       "\n",
       "                                     numberOfCriticalBugsFoundUntil:  \n",
       "numberOfHighPriorityBugsFoundUntil:                         0.320903  \n",
       "numberOfMajorBugsFoundUntil:                                0.769976  \n",
       "CvsEntropy                                                  0.532429  \n",
       "numberOfCriticalBugsFoundUntil:                             1.000000  "
      ]
     },
     "execution_count": 139,
     "metadata": {},
     "output_type": "execute_result"
    }
   ],
   "source": [
    "abs(corr_matrix2)"
   ]
  },
  {
   "cell_type": "code",
   "execution_count": 140,
   "id": "17d8f175",
   "metadata": {},
   "outputs": [],
   "source": [
    "cluster2.remove('numberOfMajorBugsFoundUntil:')"
   ]
  },
  {
   "cell_type": "code",
   "execution_count": 141,
   "id": "6cabb983",
   "metadata": {},
   "outputs": [
    {
     "name": "stdout",
     "output_type": "stream",
     "text": [
      "['numberOfHighPriorityBugsFoundUntil:', 'CvsEntropy', 'numberOfCriticalBugsFoundUntil:']\n"
     ]
    }
   ],
   "source": [
    "print(cluster2)"
   ]
  },
  {
   "cell_type": "code",
   "execution_count": 142,
   "id": "88f1fd9f",
   "metadata": {},
   "outputs": [],
   "source": [
    "# Calculate the Spearman correlation matrix of the attributes in the cluster\n",
    "corr_matrix2 = df[cluster2].corr(method='spearman')"
   ]
  },
  {
   "cell_type": "code",
   "execution_count": 143,
   "id": "5f7ddc1c",
   "metadata": {},
   "outputs": [
    {
     "data": {
      "text/html": [
       "<div>\n",
       "<style scoped>\n",
       "    .dataframe tbody tr th:only-of-type {\n",
       "        vertical-align: middle;\n",
       "    }\n",
       "\n",
       "    .dataframe tbody tr th {\n",
       "        vertical-align: top;\n",
       "    }\n",
       "\n",
       "    .dataframe thead th {\n",
       "        text-align: right;\n",
       "    }\n",
       "</style>\n",
       "<table border=\"1\" class=\"dataframe\">\n",
       "  <thead>\n",
       "    <tr style=\"text-align: right;\">\n",
       "      <th></th>\n",
       "      <th>numberOfHighPriorityBugsFoundUntil:</th>\n",
       "      <th>CvsEntropy</th>\n",
       "      <th>numberOfCriticalBugsFoundUntil:</th>\n",
       "    </tr>\n",
       "  </thead>\n",
       "  <tbody>\n",
       "    <tr>\n",
       "      <th>numberOfHighPriorityBugsFoundUntil:</th>\n",
       "      <td>1.000000</td>\n",
       "      <td>0.379560</td>\n",
       "      <td>0.320903</td>\n",
       "    </tr>\n",
       "    <tr>\n",
       "      <th>CvsEntropy</th>\n",
       "      <td>0.379560</td>\n",
       "      <td>1.000000</td>\n",
       "      <td>0.532429</td>\n",
       "    </tr>\n",
       "    <tr>\n",
       "      <th>numberOfCriticalBugsFoundUntil:</th>\n",
       "      <td>0.320903</td>\n",
       "      <td>0.532429</td>\n",
       "      <td>1.000000</td>\n",
       "    </tr>\n",
       "  </tbody>\n",
       "</table>\n",
       "</div>"
      ],
      "text/plain": [
       "                                     numberOfHighPriorityBugsFoundUntil:  \\\n",
       "numberOfHighPriorityBugsFoundUntil:                             1.000000   \n",
       "CvsEntropy                                                      0.379560   \n",
       "numberOfCriticalBugsFoundUntil:                                 0.320903   \n",
       "\n",
       "                                     CvsEntropy  \\\n",
       "numberOfHighPriorityBugsFoundUntil:    0.379560   \n",
       "CvsEntropy                             1.000000   \n",
       "numberOfCriticalBugsFoundUntil:        0.532429   \n",
       "\n",
       "                                     numberOfCriticalBugsFoundUntil:  \n",
       "numberOfHighPriorityBugsFoundUntil:                         0.320903  \n",
       "CvsEntropy                                                  0.532429  \n",
       "numberOfCriticalBugsFoundUntil:                             1.000000  "
      ]
     },
     "execution_count": 143,
     "metadata": {},
     "output_type": "execute_result"
    }
   ],
   "source": [
    "abs(corr_matrix2)"
   ]
  },
  {
   "cell_type": "code",
   "execution_count": 144,
   "id": "b2c3762e",
   "metadata": {},
   "outputs": [],
   "source": [
    "clusters = clusters.drop(13)\n",
    "clusters = clusters.drop(14)\n",
    "clusters = clusters.drop(12)"
   ]
  },
  {
   "cell_type": "code",
   "execution_count": 145,
   "id": "c68e622c",
   "metadata": {},
   "outputs": [
    {
     "name": "stdout",
     "output_type": "stream",
     "text": [
      "    Cluster                             Variable    RS_Own     RS_NC  RS_Ratio\n",
      "1         0                           WCHU_fanIn  0.895058  0.230876  0.136444\n",
      "2         0                          ck_oo_fanIn  0.779178  0.279980  0.306688\n",
      "3         0                            ck_oo_cbo  0.807973  0.498768  0.383109\n",
      "4         0                             WCHU_cbo  0.878577  0.552058  0.271069\n",
      "7         1    ck_oo_numberOfAttributesInherited  0.807593  0.158745  0.228714\n",
      "8         1                             WCHU_dit  0.857111  0.154899  0.169079\n",
      "11        2  numberOfHighPriorityBugsFoundUntil:  0.565243  0.380754  0.702076\n",
      "15        2                           CvsEntropy  0.755698  0.653885  0.705840\n",
      "16        2      numberOfCriticalBugsFoundUntil:  0.653014  0.331401  0.518975\n",
      "18        3         ck_oo_numberOfPrivateMethods  0.725370  0.423647  0.476496\n",
      "20        3          WCHU_numberOfPrivateMethods  0.787782  0.537217  0.458569\n",
      "21        3          LDHH_numberOfPrivateMethods  0.751270  0.445654  0.448691\n",
      "22        3       WCHU_numberOfPrivateAttributes  0.726566  0.347986  0.419368\n",
      "23        3      ck_oo_numberOfPrivateAttributes  0.429106  0.102064  0.635784\n",
      "24        4                ck_oo_numberOfMethods  0.824974  0.568222  0.405361\n",
      "25        4                           ck_oo_lcom  0.745270  0.331629  0.381121\n",
      "26        4                            WCHU_lcom  0.543972  0.276138  0.629993\n",
      "27        4           WCHU_numberOfPublicMethods  0.686458  0.491396  0.616476\n",
      "28        4          ck_oo_numberOfPublicMethods  0.823709  0.351164  0.271704\n",
      "30        5                        CvsExpEntropy  0.956312  0.414904  0.074668\n",
      "32        5                        CvsLinEntropy  0.995590  0.337839  0.006659\n",
      "33        6        WCHU_numberOfPublicAttributes  0.826243  0.264876  0.236365\n",
      "34        6              WCHU_numberOfAttributes  0.797910  0.349024  0.310442\n",
      "35        6        LDHH_numberOfPublicAttributes  0.758096  0.231567  0.314802\n",
      "36        6       ck_oo_numberOfPublicAttributes  0.527223  0.054702  0.500136\n",
      "38        6             ck_oo_numberOfAttributes  0.665102  0.122694  0.381734\n",
      "39        7                            ck_oo_dit  0.668394  0.369035  0.525554\n",
      "41        7        WCHU_numberOfMethodsInherited  0.810007  0.146580  0.222625\n",
      "42        7        LDHH_numberOfMethodsInherited  0.841124  0.149791  0.186867\n",
      "43        7       ck_oo_numberOfMethodsInherited  0.730569  0.083055  0.293836\n",
      "44        8                            LDHH_lcom  0.728697  0.451472  0.494602\n",
      "45        8                             LDHH_wmc  0.873124  0.644145  0.356538\n",
      "46        8             LDHH_numberOfLinesOfCode  0.887521  0.685363  0.357489\n",
      "48        8                             LDHH_rfc  0.883519  0.661713  0.344328\n",
      "49        8             WCHU_numberOfLinesOfCode  0.902946  0.729064  0.358218\n",
      "50        8                 LDHH_numberOfMethods  0.742027  0.462077  0.479571\n",
      "51        8                          WCHU_fanOut  0.710695  0.570888  0.674193\n",
      "52        8                 WCHU_numberOfMethods  0.771944  0.594361  0.562215\n",
      "53        8                             WCHU_wmc  0.900484  0.718305  0.353277\n",
      "54        8                             WCHU_rfc  0.909528  0.759763  0.376595\n",
      "56        9                             WCHU_noc  0.704531  0.011981  0.299052\n",
      "57       10            ck_oo_numberOfLinesOfCode  0.945752  0.559119  0.123045\n",
      "58       10                            ck_oo_rfc  0.873186  0.544774  0.278574\n",
      "59       10                            ck_oo_wmc  0.925237  0.561034  0.170316\n"
     ]
    }
   ],
   "source": [
    "print(clusters)"
   ]
  },
  {
   "cell_type": "code",
   "execution_count": 146,
   "id": "7cc26195",
   "metadata": {},
   "outputs": [],
   "source": [
    "cluster3 = [\"ck_oo_numberOfPrivateMethods\", \"WCHU_numberOfPrivateMethods\", \"LDHH_numberOfPrivateMethods\", \"WCHU_numberOfPrivateAttributes\", \"ck_oo_numberOfPrivateAttributes\"]"
   ]
  },
  {
   "cell_type": "code",
   "execution_count": 147,
   "id": "d904d844",
   "metadata": {},
   "outputs": [
    {
     "name": "stdout",
     "output_type": "stream",
     "text": [
      "['ck_oo_numberOfPrivateMethods', 'WCHU_numberOfPrivateMethods', 'LDHH_numberOfPrivateMethods', 'WCHU_numberOfPrivateAttributes', 'ck_oo_numberOfPrivateAttributes']\n"
     ]
    }
   ],
   "source": [
    "print(cluster3)"
   ]
  },
  {
   "cell_type": "code",
   "execution_count": 148,
   "id": "db4c0146",
   "metadata": {},
   "outputs": [],
   "source": [
    "# Calculate the Spearman correlation matrix of the attributes in the cluster\n",
    "corr_matrix3 = df[cluster3].corr(method='spearman')"
   ]
  },
  {
   "cell_type": "code",
   "execution_count": 149,
   "id": "eaf26186",
   "metadata": {},
   "outputs": [
    {
     "data": {
      "text/html": [
       "<div>\n",
       "<style scoped>\n",
       "    .dataframe tbody tr th:only-of-type {\n",
       "        vertical-align: middle;\n",
       "    }\n",
       "\n",
       "    .dataframe tbody tr th {\n",
       "        vertical-align: top;\n",
       "    }\n",
       "\n",
       "    .dataframe thead th {\n",
       "        text-align: right;\n",
       "    }\n",
       "</style>\n",
       "<table border=\"1\" class=\"dataframe\">\n",
       "  <thead>\n",
       "    <tr style=\"text-align: right;\">\n",
       "      <th></th>\n",
       "      <th>ck_oo_numberOfPrivateMethods</th>\n",
       "      <th>WCHU_numberOfPrivateMethods</th>\n",
       "      <th>LDHH_numberOfPrivateMethods</th>\n",
       "      <th>WCHU_numberOfPrivateAttributes</th>\n",
       "      <th>ck_oo_numberOfPrivateAttributes</th>\n",
       "    </tr>\n",
       "  </thead>\n",
       "  <tbody>\n",
       "    <tr>\n",
       "      <th>ck_oo_numberOfPrivateMethods</th>\n",
       "      <td>1.000000</td>\n",
       "      <td>0.620317</td>\n",
       "      <td>0.611812</td>\n",
       "      <td>0.341114</td>\n",
       "      <td>0.178799</td>\n",
       "    </tr>\n",
       "    <tr>\n",
       "      <th>WCHU_numberOfPrivateMethods</th>\n",
       "      <td>0.620317</td>\n",
       "      <td>1.000000</td>\n",
       "      <td>0.987130</td>\n",
       "      <td>0.446793</td>\n",
       "      <td>0.185916</td>\n",
       "    </tr>\n",
       "    <tr>\n",
       "      <th>LDHH_numberOfPrivateMethods</th>\n",
       "      <td>0.611812</td>\n",
       "      <td>0.987130</td>\n",
       "      <td>1.000000</td>\n",
       "      <td>0.450126</td>\n",
       "      <td>0.191637</td>\n",
       "    </tr>\n",
       "    <tr>\n",
       "      <th>WCHU_numberOfPrivateAttributes</th>\n",
       "      <td>0.341114</td>\n",
       "      <td>0.446793</td>\n",
       "      <td>0.450126</td>\n",
       "      <td>1.000000</td>\n",
       "      <td>0.462166</td>\n",
       "    </tr>\n",
       "    <tr>\n",
       "      <th>ck_oo_numberOfPrivateAttributes</th>\n",
       "      <td>0.178799</td>\n",
       "      <td>0.185916</td>\n",
       "      <td>0.191637</td>\n",
       "      <td>0.462166</td>\n",
       "      <td>1.000000</td>\n",
       "    </tr>\n",
       "  </tbody>\n",
       "</table>\n",
       "</div>"
      ],
      "text/plain": [
       "                                 ck_oo_numberOfPrivateMethods  \\\n",
       "ck_oo_numberOfPrivateMethods                         1.000000   \n",
       "WCHU_numberOfPrivateMethods                          0.620317   \n",
       "LDHH_numberOfPrivateMethods                          0.611812   \n",
       "WCHU_numberOfPrivateAttributes                       0.341114   \n",
       "ck_oo_numberOfPrivateAttributes                      0.178799   \n",
       "\n",
       "                                 WCHU_numberOfPrivateMethods  \\\n",
       "ck_oo_numberOfPrivateMethods                        0.620317   \n",
       "WCHU_numberOfPrivateMethods                         1.000000   \n",
       "LDHH_numberOfPrivateMethods                         0.987130   \n",
       "WCHU_numberOfPrivateAttributes                      0.446793   \n",
       "ck_oo_numberOfPrivateAttributes                     0.185916   \n",
       "\n",
       "                                 LDHH_numberOfPrivateMethods  \\\n",
       "ck_oo_numberOfPrivateMethods                        0.611812   \n",
       "WCHU_numberOfPrivateMethods                         0.987130   \n",
       "LDHH_numberOfPrivateMethods                         1.000000   \n",
       "WCHU_numberOfPrivateAttributes                      0.450126   \n",
       "ck_oo_numberOfPrivateAttributes                     0.191637   \n",
       "\n",
       "                                 WCHU_numberOfPrivateAttributes  \\\n",
       "ck_oo_numberOfPrivateMethods                           0.341114   \n",
       "WCHU_numberOfPrivateMethods                            0.446793   \n",
       "LDHH_numberOfPrivateMethods                            0.450126   \n",
       "WCHU_numberOfPrivateAttributes                         1.000000   \n",
       "ck_oo_numberOfPrivateAttributes                        0.462166   \n",
       "\n",
       "                                 ck_oo_numberOfPrivateAttributes  \n",
       "ck_oo_numberOfPrivateMethods                            0.178799  \n",
       "WCHU_numberOfPrivateMethods                             0.185916  \n",
       "LDHH_numberOfPrivateMethods                             0.191637  \n",
       "WCHU_numberOfPrivateAttributes                          0.462166  \n",
       "ck_oo_numberOfPrivateAttributes                         1.000000  "
      ]
     },
     "execution_count": 149,
     "metadata": {},
     "output_type": "execute_result"
    }
   ],
   "source": [
    "abs(corr_matrix3)"
   ]
  },
  {
   "cell_type": "code",
   "execution_count": 150,
   "id": "d20f5790",
   "metadata": {},
   "outputs": [],
   "source": [
    "cluster3.remove('WCHU_numberOfPrivateMethods')"
   ]
  },
  {
   "cell_type": "code",
   "execution_count": 151,
   "id": "4150c576",
   "metadata": {},
   "outputs": [
    {
     "name": "stdout",
     "output_type": "stream",
     "text": [
      "['ck_oo_numberOfPrivateMethods', 'LDHH_numberOfPrivateMethods', 'WCHU_numberOfPrivateAttributes', 'ck_oo_numberOfPrivateAttributes']\n"
     ]
    }
   ],
   "source": [
    "print(cluster3)"
   ]
  },
  {
   "cell_type": "code",
   "execution_count": 152,
   "id": "cc7fd862",
   "metadata": {},
   "outputs": [],
   "source": [
    "# Calculate the Spearman correlation matrix of the attributes in the cluster\n",
    "corr_matrix3 = df[cluster3].corr(method='spearman')"
   ]
  },
  {
   "cell_type": "code",
   "execution_count": 153,
   "id": "851a28a7",
   "metadata": {},
   "outputs": [
    {
     "data": {
      "text/html": [
       "<div>\n",
       "<style scoped>\n",
       "    .dataframe tbody tr th:only-of-type {\n",
       "        vertical-align: middle;\n",
       "    }\n",
       "\n",
       "    .dataframe tbody tr th {\n",
       "        vertical-align: top;\n",
       "    }\n",
       "\n",
       "    .dataframe thead th {\n",
       "        text-align: right;\n",
       "    }\n",
       "</style>\n",
       "<table border=\"1\" class=\"dataframe\">\n",
       "  <thead>\n",
       "    <tr style=\"text-align: right;\">\n",
       "      <th></th>\n",
       "      <th>ck_oo_numberOfPrivateMethods</th>\n",
       "      <th>LDHH_numberOfPrivateMethods</th>\n",
       "      <th>WCHU_numberOfPrivateAttributes</th>\n",
       "      <th>ck_oo_numberOfPrivateAttributes</th>\n",
       "    </tr>\n",
       "  </thead>\n",
       "  <tbody>\n",
       "    <tr>\n",
       "      <th>ck_oo_numberOfPrivateMethods</th>\n",
       "      <td>1.000000</td>\n",
       "      <td>0.611812</td>\n",
       "      <td>0.341114</td>\n",
       "      <td>0.178799</td>\n",
       "    </tr>\n",
       "    <tr>\n",
       "      <th>LDHH_numberOfPrivateMethods</th>\n",
       "      <td>0.611812</td>\n",
       "      <td>1.000000</td>\n",
       "      <td>0.450126</td>\n",
       "      <td>0.191637</td>\n",
       "    </tr>\n",
       "    <tr>\n",
       "      <th>WCHU_numberOfPrivateAttributes</th>\n",
       "      <td>0.341114</td>\n",
       "      <td>0.450126</td>\n",
       "      <td>1.000000</td>\n",
       "      <td>0.462166</td>\n",
       "    </tr>\n",
       "    <tr>\n",
       "      <th>ck_oo_numberOfPrivateAttributes</th>\n",
       "      <td>0.178799</td>\n",
       "      <td>0.191637</td>\n",
       "      <td>0.462166</td>\n",
       "      <td>1.000000</td>\n",
       "    </tr>\n",
       "  </tbody>\n",
       "</table>\n",
       "</div>"
      ],
      "text/plain": [
       "                                 ck_oo_numberOfPrivateMethods  \\\n",
       "ck_oo_numberOfPrivateMethods                         1.000000   \n",
       "LDHH_numberOfPrivateMethods                          0.611812   \n",
       "WCHU_numberOfPrivateAttributes                       0.341114   \n",
       "ck_oo_numberOfPrivateAttributes                      0.178799   \n",
       "\n",
       "                                 LDHH_numberOfPrivateMethods  \\\n",
       "ck_oo_numberOfPrivateMethods                        0.611812   \n",
       "LDHH_numberOfPrivateMethods                         1.000000   \n",
       "WCHU_numberOfPrivateAttributes                      0.450126   \n",
       "ck_oo_numberOfPrivateAttributes                     0.191637   \n",
       "\n",
       "                                 WCHU_numberOfPrivateAttributes  \\\n",
       "ck_oo_numberOfPrivateMethods                           0.341114   \n",
       "LDHH_numberOfPrivateMethods                            0.450126   \n",
       "WCHU_numberOfPrivateAttributes                         1.000000   \n",
       "ck_oo_numberOfPrivateAttributes                        0.462166   \n",
       "\n",
       "                                 ck_oo_numberOfPrivateAttributes  \n",
       "ck_oo_numberOfPrivateMethods                            0.178799  \n",
       "LDHH_numberOfPrivateMethods                             0.191637  \n",
       "WCHU_numberOfPrivateAttributes                          0.462166  \n",
       "ck_oo_numberOfPrivateAttributes                         1.000000  "
      ]
     },
     "execution_count": 153,
     "metadata": {},
     "output_type": "execute_result"
    }
   ],
   "source": [
    "abs(corr_matrix3)"
   ]
  },
  {
   "cell_type": "code",
   "execution_count": 154,
   "id": "c8a856f5",
   "metadata": {},
   "outputs": [],
   "source": [
    "clusters = clusters.drop(20)"
   ]
  },
  {
   "cell_type": "code",
   "execution_count": 155,
   "id": "e832d901",
   "metadata": {},
   "outputs": [
    {
     "name": "stdout",
     "output_type": "stream",
     "text": [
      "    Cluster                             Variable    RS_Own     RS_NC  RS_Ratio\n",
      "1         0                           WCHU_fanIn  0.895058  0.230876  0.136444\n",
      "2         0                          ck_oo_fanIn  0.779178  0.279980  0.306688\n",
      "3         0                            ck_oo_cbo  0.807973  0.498768  0.383109\n",
      "4         0                             WCHU_cbo  0.878577  0.552058  0.271069\n",
      "7         1    ck_oo_numberOfAttributesInherited  0.807593  0.158745  0.228714\n",
      "8         1                             WCHU_dit  0.857111  0.154899  0.169079\n",
      "11        2  numberOfHighPriorityBugsFoundUntil:  0.565243  0.380754  0.702076\n",
      "15        2                           CvsEntropy  0.755698  0.653885  0.705840\n",
      "16        2      numberOfCriticalBugsFoundUntil:  0.653014  0.331401  0.518975\n",
      "18        3         ck_oo_numberOfPrivateMethods  0.725370  0.423647  0.476496\n",
      "21        3          LDHH_numberOfPrivateMethods  0.751270  0.445654  0.448691\n",
      "22        3       WCHU_numberOfPrivateAttributes  0.726566  0.347986  0.419368\n",
      "23        3      ck_oo_numberOfPrivateAttributes  0.429106  0.102064  0.635784\n",
      "24        4                ck_oo_numberOfMethods  0.824974  0.568222  0.405361\n",
      "25        4                           ck_oo_lcom  0.745270  0.331629  0.381121\n",
      "26        4                            WCHU_lcom  0.543972  0.276138  0.629993\n",
      "27        4           WCHU_numberOfPublicMethods  0.686458  0.491396  0.616476\n",
      "28        4          ck_oo_numberOfPublicMethods  0.823709  0.351164  0.271704\n",
      "30        5                        CvsExpEntropy  0.956312  0.414904  0.074668\n",
      "32        5                        CvsLinEntropy  0.995590  0.337839  0.006659\n",
      "33        6        WCHU_numberOfPublicAttributes  0.826243  0.264876  0.236365\n",
      "34        6              WCHU_numberOfAttributes  0.797910  0.349024  0.310442\n",
      "35        6        LDHH_numberOfPublicAttributes  0.758096  0.231567  0.314802\n",
      "36        6       ck_oo_numberOfPublicAttributes  0.527223  0.054702  0.500136\n",
      "38        6             ck_oo_numberOfAttributes  0.665102  0.122694  0.381734\n",
      "39        7                            ck_oo_dit  0.668394  0.369035  0.525554\n",
      "41        7        WCHU_numberOfMethodsInherited  0.810007  0.146580  0.222625\n",
      "42        7        LDHH_numberOfMethodsInherited  0.841124  0.149791  0.186867\n",
      "43        7       ck_oo_numberOfMethodsInherited  0.730569  0.083055  0.293836\n",
      "44        8                            LDHH_lcom  0.728697  0.451472  0.494602\n",
      "45        8                             LDHH_wmc  0.873124  0.644145  0.356538\n",
      "46        8             LDHH_numberOfLinesOfCode  0.887521  0.685363  0.357489\n",
      "48        8                             LDHH_rfc  0.883519  0.661713  0.344328\n",
      "49        8             WCHU_numberOfLinesOfCode  0.902946  0.729064  0.358218\n",
      "50        8                 LDHH_numberOfMethods  0.742027  0.462077  0.479571\n",
      "51        8                          WCHU_fanOut  0.710695  0.570888  0.674193\n",
      "52        8                 WCHU_numberOfMethods  0.771944  0.594361  0.562215\n",
      "53        8                             WCHU_wmc  0.900484  0.718305  0.353277\n",
      "54        8                             WCHU_rfc  0.909528  0.759763  0.376595\n",
      "56        9                             WCHU_noc  0.704531  0.011981  0.299052\n",
      "57       10            ck_oo_numberOfLinesOfCode  0.945752  0.559119  0.123045\n",
      "58       10                            ck_oo_rfc  0.873186  0.544774  0.278574\n",
      "59       10                            ck_oo_wmc  0.925237  0.561034  0.170316\n"
     ]
    }
   ],
   "source": [
    "print(clusters)"
   ]
  },
  {
   "cell_type": "code",
   "execution_count": 156,
   "id": "83b7787c",
   "metadata": {},
   "outputs": [],
   "source": [
    "cluster4 = [\"ck_oo_numberOfMethods\", \"ck_oo_lcom\", \"WCHU_lcom\", \"WCHU_numberOfPublicMethods\", \"ck_oo_numberOfPublicMethods\"]"
   ]
  },
  {
   "cell_type": "code",
   "execution_count": 157,
   "id": "7ebbd0c7",
   "metadata": {},
   "outputs": [
    {
     "name": "stdout",
     "output_type": "stream",
     "text": [
      "['ck_oo_numberOfMethods', 'ck_oo_lcom', 'WCHU_lcom', 'WCHU_numberOfPublicMethods', 'ck_oo_numberOfPublicMethods']\n"
     ]
    }
   ],
   "source": [
    "print(cluster4)"
   ]
  },
  {
   "cell_type": "code",
   "execution_count": 158,
   "id": "f0b08ab1",
   "metadata": {},
   "outputs": [],
   "source": [
    "# Calculate the Spearman correlation matrix of the attributes in the cluster\n",
    "corr_matrix4 = df[cluster4].corr(method='spearman')"
   ]
  },
  {
   "cell_type": "code",
   "execution_count": 159,
   "id": "3d9f12a3",
   "metadata": {},
   "outputs": [
    {
     "data": {
      "text/html": [
       "<div>\n",
       "<style scoped>\n",
       "    .dataframe tbody tr th:only-of-type {\n",
       "        vertical-align: middle;\n",
       "    }\n",
       "\n",
       "    .dataframe tbody tr th {\n",
       "        vertical-align: top;\n",
       "    }\n",
       "\n",
       "    .dataframe thead th {\n",
       "        text-align: right;\n",
       "    }\n",
       "</style>\n",
       "<table border=\"1\" class=\"dataframe\">\n",
       "  <thead>\n",
       "    <tr style=\"text-align: right;\">\n",
       "      <th></th>\n",
       "      <th>ck_oo_numberOfMethods</th>\n",
       "      <th>ck_oo_lcom</th>\n",
       "      <th>WCHU_lcom</th>\n",
       "      <th>WCHU_numberOfPublicMethods</th>\n",
       "      <th>ck_oo_numberOfPublicMethods</th>\n",
       "    </tr>\n",
       "  </thead>\n",
       "  <tbody>\n",
       "    <tr>\n",
       "      <th>ck_oo_numberOfMethods</th>\n",
       "      <td>1.000000</td>\n",
       "      <td>0.999995</td>\n",
       "      <td>0.584568</td>\n",
       "      <td>0.432161</td>\n",
       "      <td>0.733579</td>\n",
       "    </tr>\n",
       "    <tr>\n",
       "      <th>ck_oo_lcom</th>\n",
       "      <td>0.999995</td>\n",
       "      <td>1.000000</td>\n",
       "      <td>0.584556</td>\n",
       "      <td>0.432148</td>\n",
       "      <td>0.733554</td>\n",
       "    </tr>\n",
       "    <tr>\n",
       "      <th>WCHU_lcom</th>\n",
       "      <td>0.584568</td>\n",
       "      <td>0.584556</td>\n",
       "      <td>1.000000</td>\n",
       "      <td>0.813462</td>\n",
       "      <td>0.473839</td>\n",
       "    </tr>\n",
       "    <tr>\n",
       "      <th>WCHU_numberOfPublicMethods</th>\n",
       "      <td>0.432161</td>\n",
       "      <td>0.432148</td>\n",
       "      <td>0.813462</td>\n",
       "      <td>1.000000</td>\n",
       "      <td>0.492315</td>\n",
       "    </tr>\n",
       "    <tr>\n",
       "      <th>ck_oo_numberOfPublicMethods</th>\n",
       "      <td>0.733579</td>\n",
       "      <td>0.733554</td>\n",
       "      <td>0.473839</td>\n",
       "      <td>0.492315</td>\n",
       "      <td>1.000000</td>\n",
       "    </tr>\n",
       "  </tbody>\n",
       "</table>\n",
       "</div>"
      ],
      "text/plain": [
       "                             ck_oo_numberOfMethods  ck_oo_lcom  WCHU_lcom  \\\n",
       "ck_oo_numberOfMethods                     1.000000    0.999995   0.584568   \n",
       "ck_oo_lcom                                0.999995    1.000000   0.584556   \n",
       "WCHU_lcom                                 0.584568    0.584556   1.000000   \n",
       "WCHU_numberOfPublicMethods                0.432161    0.432148   0.813462   \n",
       "ck_oo_numberOfPublicMethods               0.733579    0.733554   0.473839   \n",
       "\n",
       "                             WCHU_numberOfPublicMethods  \\\n",
       "ck_oo_numberOfMethods                          0.432161   \n",
       "ck_oo_lcom                                     0.432148   \n",
       "WCHU_lcom                                      0.813462   \n",
       "WCHU_numberOfPublicMethods                     1.000000   \n",
       "ck_oo_numberOfPublicMethods                    0.492315   \n",
       "\n",
       "                             ck_oo_numberOfPublicMethods  \n",
       "ck_oo_numberOfMethods                           0.733579  \n",
       "ck_oo_lcom                                      0.733554  \n",
       "WCHU_lcom                                       0.473839  \n",
       "WCHU_numberOfPublicMethods                      0.492315  \n",
       "ck_oo_numberOfPublicMethods                     1.000000  "
      ]
     },
     "execution_count": 159,
     "metadata": {},
     "output_type": "execute_result"
    }
   ],
   "source": [
    "abs(corr_matrix4)"
   ]
  },
  {
   "cell_type": "code",
   "execution_count": 160,
   "id": "ec9a2995",
   "metadata": {},
   "outputs": [],
   "source": [
    "cluster4.remove('ck_oo_lcom')"
   ]
  },
  {
   "cell_type": "code",
   "execution_count": 161,
   "id": "f20fcf72",
   "metadata": {},
   "outputs": [
    {
     "name": "stdout",
     "output_type": "stream",
     "text": [
      "['ck_oo_numberOfMethods', 'WCHU_lcom', 'WCHU_numberOfPublicMethods', 'ck_oo_numberOfPublicMethods']\n"
     ]
    }
   ],
   "source": [
    "print(cluster4)"
   ]
  },
  {
   "cell_type": "code",
   "execution_count": 162,
   "id": "cbf906f7",
   "metadata": {},
   "outputs": [],
   "source": [
    "# Calculate the Spearman correlation matrix of the attributes in the cluster\n",
    "corr_matrix4 = df[cluster4].corr(method='spearman')"
   ]
  },
  {
   "cell_type": "code",
   "execution_count": 163,
   "id": "e4c8a03c",
   "metadata": {},
   "outputs": [
    {
     "data": {
      "text/html": [
       "<div>\n",
       "<style scoped>\n",
       "    .dataframe tbody tr th:only-of-type {\n",
       "        vertical-align: middle;\n",
       "    }\n",
       "\n",
       "    .dataframe tbody tr th {\n",
       "        vertical-align: top;\n",
       "    }\n",
       "\n",
       "    .dataframe thead th {\n",
       "        text-align: right;\n",
       "    }\n",
       "</style>\n",
       "<table border=\"1\" class=\"dataframe\">\n",
       "  <thead>\n",
       "    <tr style=\"text-align: right;\">\n",
       "      <th></th>\n",
       "      <th>ck_oo_numberOfMethods</th>\n",
       "      <th>WCHU_lcom</th>\n",
       "      <th>WCHU_numberOfPublicMethods</th>\n",
       "      <th>ck_oo_numberOfPublicMethods</th>\n",
       "    </tr>\n",
       "  </thead>\n",
       "  <tbody>\n",
       "    <tr>\n",
       "      <th>ck_oo_numberOfMethods</th>\n",
       "      <td>1.000000</td>\n",
       "      <td>0.584568</td>\n",
       "      <td>0.432161</td>\n",
       "      <td>0.733579</td>\n",
       "    </tr>\n",
       "    <tr>\n",
       "      <th>WCHU_lcom</th>\n",
       "      <td>0.584568</td>\n",
       "      <td>1.000000</td>\n",
       "      <td>0.813462</td>\n",
       "      <td>0.473839</td>\n",
       "    </tr>\n",
       "    <tr>\n",
       "      <th>WCHU_numberOfPublicMethods</th>\n",
       "      <td>0.432161</td>\n",
       "      <td>0.813462</td>\n",
       "      <td>1.000000</td>\n",
       "      <td>0.492315</td>\n",
       "    </tr>\n",
       "    <tr>\n",
       "      <th>ck_oo_numberOfPublicMethods</th>\n",
       "      <td>0.733579</td>\n",
       "      <td>0.473839</td>\n",
       "      <td>0.492315</td>\n",
       "      <td>1.000000</td>\n",
       "    </tr>\n",
       "  </tbody>\n",
       "</table>\n",
       "</div>"
      ],
      "text/plain": [
       "                             ck_oo_numberOfMethods  WCHU_lcom  \\\n",
       "ck_oo_numberOfMethods                     1.000000   0.584568   \n",
       "WCHU_lcom                                 0.584568   1.000000   \n",
       "WCHU_numberOfPublicMethods                0.432161   0.813462   \n",
       "ck_oo_numberOfPublicMethods               0.733579   0.473839   \n",
       "\n",
       "                             WCHU_numberOfPublicMethods  \\\n",
       "ck_oo_numberOfMethods                          0.432161   \n",
       "WCHU_lcom                                      0.813462   \n",
       "WCHU_numberOfPublicMethods                     1.000000   \n",
       "ck_oo_numberOfPublicMethods                    0.492315   \n",
       "\n",
       "                             ck_oo_numberOfPublicMethods  \n",
       "ck_oo_numberOfMethods                           0.733579  \n",
       "WCHU_lcom                                       0.473839  \n",
       "WCHU_numberOfPublicMethods                      0.492315  \n",
       "ck_oo_numberOfPublicMethods                     1.000000  "
      ]
     },
     "execution_count": 163,
     "metadata": {},
     "output_type": "execute_result"
    }
   ],
   "source": [
    "abs(corr_matrix4)"
   ]
  },
  {
   "cell_type": "code",
   "execution_count": 164,
   "id": "f876418d",
   "metadata": {},
   "outputs": [],
   "source": [
    "cluster4.remove('WCHU_lcom')"
   ]
  },
  {
   "cell_type": "code",
   "execution_count": 165,
   "id": "0abacd8a",
   "metadata": {},
   "outputs": [
    {
     "name": "stdout",
     "output_type": "stream",
     "text": [
      "['ck_oo_numberOfMethods', 'WCHU_numberOfPublicMethods', 'ck_oo_numberOfPublicMethods']\n"
     ]
    }
   ],
   "source": [
    "print(cluster4)"
   ]
  },
  {
   "cell_type": "code",
   "execution_count": 166,
   "id": "f8927223",
   "metadata": {},
   "outputs": [],
   "source": [
    "# Calculate the Spearman correlation matrix of the attributes in the cluster\n",
    "corr_matrix4 = df[cluster4].corr(method='spearman')"
   ]
  },
  {
   "cell_type": "code",
   "execution_count": 167,
   "id": "473733b4",
   "metadata": {},
   "outputs": [
    {
     "data": {
      "text/html": [
       "<div>\n",
       "<style scoped>\n",
       "    .dataframe tbody tr th:only-of-type {\n",
       "        vertical-align: middle;\n",
       "    }\n",
       "\n",
       "    .dataframe tbody tr th {\n",
       "        vertical-align: top;\n",
       "    }\n",
       "\n",
       "    .dataframe thead th {\n",
       "        text-align: right;\n",
       "    }\n",
       "</style>\n",
       "<table border=\"1\" class=\"dataframe\">\n",
       "  <thead>\n",
       "    <tr style=\"text-align: right;\">\n",
       "      <th></th>\n",
       "      <th>ck_oo_numberOfMethods</th>\n",
       "      <th>WCHU_numberOfPublicMethods</th>\n",
       "      <th>ck_oo_numberOfPublicMethods</th>\n",
       "    </tr>\n",
       "  </thead>\n",
       "  <tbody>\n",
       "    <tr>\n",
       "      <th>ck_oo_numberOfMethods</th>\n",
       "      <td>1.000000</td>\n",
       "      <td>0.432161</td>\n",
       "      <td>0.733579</td>\n",
       "    </tr>\n",
       "    <tr>\n",
       "      <th>WCHU_numberOfPublicMethods</th>\n",
       "      <td>0.432161</td>\n",
       "      <td>1.000000</td>\n",
       "      <td>0.492315</td>\n",
       "    </tr>\n",
       "    <tr>\n",
       "      <th>ck_oo_numberOfPublicMethods</th>\n",
       "      <td>0.733579</td>\n",
       "      <td>0.492315</td>\n",
       "      <td>1.000000</td>\n",
       "    </tr>\n",
       "  </tbody>\n",
       "</table>\n",
       "</div>"
      ],
      "text/plain": [
       "                             ck_oo_numberOfMethods  \\\n",
       "ck_oo_numberOfMethods                     1.000000   \n",
       "WCHU_numberOfPublicMethods                0.432161   \n",
       "ck_oo_numberOfPublicMethods               0.733579   \n",
       "\n",
       "                             WCHU_numberOfPublicMethods  \\\n",
       "ck_oo_numberOfMethods                          0.432161   \n",
       "WCHU_numberOfPublicMethods                     1.000000   \n",
       "ck_oo_numberOfPublicMethods                    0.492315   \n",
       "\n",
       "                             ck_oo_numberOfPublicMethods  \n",
       "ck_oo_numberOfMethods                           0.733579  \n",
       "WCHU_numberOfPublicMethods                      0.492315  \n",
       "ck_oo_numberOfPublicMethods                     1.000000  "
      ]
     },
     "execution_count": 167,
     "metadata": {},
     "output_type": "execute_result"
    }
   ],
   "source": [
    "abs(corr_matrix4)"
   ]
  },
  {
   "cell_type": "code",
   "execution_count": 168,
   "id": "e5db2185",
   "metadata": {},
   "outputs": [],
   "source": [
    "cluster4.remove('ck_oo_numberOfPublicMethods')"
   ]
  },
  {
   "cell_type": "code",
   "execution_count": 169,
   "id": "814eeaa7",
   "metadata": {},
   "outputs": [
    {
     "name": "stdout",
     "output_type": "stream",
     "text": [
      "['ck_oo_numberOfMethods', 'WCHU_numberOfPublicMethods']\n"
     ]
    }
   ],
   "source": [
    "print(cluster4)"
   ]
  },
  {
   "cell_type": "code",
   "execution_count": 170,
   "id": "65b5bfb2",
   "metadata": {},
   "outputs": [],
   "source": [
    "# Calculate the Spearman correlation matrix of the attributes in the cluster\n",
    "corr_matrix4 = df[cluster4].corr(method='spearman')"
   ]
  },
  {
   "cell_type": "code",
   "execution_count": 171,
   "id": "42eb4c9f",
   "metadata": {},
   "outputs": [
    {
     "data": {
      "text/html": [
       "<div>\n",
       "<style scoped>\n",
       "    .dataframe tbody tr th:only-of-type {\n",
       "        vertical-align: middle;\n",
       "    }\n",
       "\n",
       "    .dataframe tbody tr th {\n",
       "        vertical-align: top;\n",
       "    }\n",
       "\n",
       "    .dataframe thead th {\n",
       "        text-align: right;\n",
       "    }\n",
       "</style>\n",
       "<table border=\"1\" class=\"dataframe\">\n",
       "  <thead>\n",
       "    <tr style=\"text-align: right;\">\n",
       "      <th></th>\n",
       "      <th>ck_oo_numberOfMethods</th>\n",
       "      <th>WCHU_numberOfPublicMethods</th>\n",
       "    </tr>\n",
       "  </thead>\n",
       "  <tbody>\n",
       "    <tr>\n",
       "      <th>ck_oo_numberOfMethods</th>\n",
       "      <td>1.000000</td>\n",
       "      <td>0.432161</td>\n",
       "    </tr>\n",
       "    <tr>\n",
       "      <th>WCHU_numberOfPublicMethods</th>\n",
       "      <td>0.432161</td>\n",
       "      <td>1.000000</td>\n",
       "    </tr>\n",
       "  </tbody>\n",
       "</table>\n",
       "</div>"
      ],
      "text/plain": [
       "                            ck_oo_numberOfMethods  WCHU_numberOfPublicMethods\n",
       "ck_oo_numberOfMethods                    1.000000                    0.432161\n",
       "WCHU_numberOfPublicMethods               0.432161                    1.000000"
      ]
     },
     "execution_count": 171,
     "metadata": {},
     "output_type": "execute_result"
    }
   ],
   "source": [
    "abs(corr_matrix4)"
   ]
  },
  {
   "cell_type": "code",
   "execution_count": 172,
   "id": "5d8fe6c5",
   "metadata": {},
   "outputs": [],
   "source": [
    "clusters = clusters.drop(28)\n",
    "clusters = clusters.drop(26)\n",
    "clusters = clusters.drop(25)"
   ]
  },
  {
   "cell_type": "code",
   "execution_count": 173,
   "id": "fbdc8289",
   "metadata": {},
   "outputs": [
    {
     "name": "stdout",
     "output_type": "stream",
     "text": [
      "    Cluster                             Variable    RS_Own     RS_NC  RS_Ratio\n",
      "1         0                           WCHU_fanIn  0.895058  0.230876  0.136444\n",
      "2         0                          ck_oo_fanIn  0.779178  0.279980  0.306688\n",
      "3         0                            ck_oo_cbo  0.807973  0.498768  0.383109\n",
      "4         0                             WCHU_cbo  0.878577  0.552058  0.271069\n",
      "7         1    ck_oo_numberOfAttributesInherited  0.807593  0.158745  0.228714\n",
      "8         1                             WCHU_dit  0.857111  0.154899  0.169079\n",
      "11        2  numberOfHighPriorityBugsFoundUntil:  0.565243  0.380754  0.702076\n",
      "15        2                           CvsEntropy  0.755698  0.653885  0.705840\n",
      "16        2      numberOfCriticalBugsFoundUntil:  0.653014  0.331401  0.518975\n",
      "18        3         ck_oo_numberOfPrivateMethods  0.725370  0.423647  0.476496\n",
      "21        3          LDHH_numberOfPrivateMethods  0.751270  0.445654  0.448691\n",
      "22        3       WCHU_numberOfPrivateAttributes  0.726566  0.347986  0.419368\n",
      "23        3      ck_oo_numberOfPrivateAttributes  0.429106  0.102064  0.635784\n",
      "24        4                ck_oo_numberOfMethods  0.824974  0.568222  0.405361\n",
      "27        4           WCHU_numberOfPublicMethods  0.686458  0.491396  0.616476\n",
      "30        5                        CvsExpEntropy  0.956312  0.414904  0.074668\n",
      "32        5                        CvsLinEntropy  0.995590  0.337839  0.006659\n",
      "33        6        WCHU_numberOfPublicAttributes  0.826243  0.264876  0.236365\n",
      "34        6              WCHU_numberOfAttributes  0.797910  0.349024  0.310442\n",
      "35        6        LDHH_numberOfPublicAttributes  0.758096  0.231567  0.314802\n",
      "36        6       ck_oo_numberOfPublicAttributes  0.527223  0.054702  0.500136\n",
      "38        6             ck_oo_numberOfAttributes  0.665102  0.122694  0.381734\n",
      "39        7                            ck_oo_dit  0.668394  0.369035  0.525554\n",
      "41        7        WCHU_numberOfMethodsInherited  0.810007  0.146580  0.222625\n",
      "42        7        LDHH_numberOfMethodsInherited  0.841124  0.149791  0.186867\n",
      "43        7       ck_oo_numberOfMethodsInherited  0.730569  0.083055  0.293836\n",
      "44        8                            LDHH_lcom  0.728697  0.451472  0.494602\n",
      "45        8                             LDHH_wmc  0.873124  0.644145  0.356538\n",
      "46        8             LDHH_numberOfLinesOfCode  0.887521  0.685363  0.357489\n",
      "48        8                             LDHH_rfc  0.883519  0.661713  0.344328\n",
      "49        8             WCHU_numberOfLinesOfCode  0.902946  0.729064  0.358218\n",
      "50        8                 LDHH_numberOfMethods  0.742027  0.462077  0.479571\n",
      "51        8                          WCHU_fanOut  0.710695  0.570888  0.674193\n",
      "52        8                 WCHU_numberOfMethods  0.771944  0.594361  0.562215\n",
      "53        8                             WCHU_wmc  0.900484  0.718305  0.353277\n",
      "54        8                             WCHU_rfc  0.909528  0.759763  0.376595\n",
      "56        9                             WCHU_noc  0.704531  0.011981  0.299052\n",
      "57       10            ck_oo_numberOfLinesOfCode  0.945752  0.559119  0.123045\n",
      "58       10                            ck_oo_rfc  0.873186  0.544774  0.278574\n",
      "59       10                            ck_oo_wmc  0.925237  0.561034  0.170316\n"
     ]
    }
   ],
   "source": [
    "print(clusters)"
   ]
  },
  {
   "cell_type": "code",
   "execution_count": 174,
   "id": "6214a2e5",
   "metadata": {},
   "outputs": [],
   "source": [
    "cluster5 = [\"CvsExpEntropy\", \"CvsLinEntropy\"]"
   ]
  },
  {
   "cell_type": "code",
   "execution_count": 175,
   "id": "fd679b7b",
   "metadata": {},
   "outputs": [
    {
     "name": "stdout",
     "output_type": "stream",
     "text": [
      "['CvsExpEntropy', 'CvsLinEntropy']\n"
     ]
    }
   ],
   "source": [
    "print(cluster5)"
   ]
  },
  {
   "cell_type": "code",
   "execution_count": 176,
   "id": "ed34f5f1",
   "metadata": {},
   "outputs": [],
   "source": [
    "# Calculate the Spearman correlation matrix of the attributes in the cluster\n",
    "corr_matrix5 = df[cluster5].corr(method='spearman')"
   ]
  },
  {
   "cell_type": "code",
   "execution_count": 177,
   "id": "b6e37121",
   "metadata": {},
   "outputs": [
    {
     "data": {
      "text/html": [
       "<div>\n",
       "<style scoped>\n",
       "    .dataframe tbody tr th:only-of-type {\n",
       "        vertical-align: middle;\n",
       "    }\n",
       "\n",
       "    .dataframe tbody tr th {\n",
       "        vertical-align: top;\n",
       "    }\n",
       "\n",
       "    .dataframe thead th {\n",
       "        text-align: right;\n",
       "    }\n",
       "</style>\n",
       "<table border=\"1\" class=\"dataframe\">\n",
       "  <thead>\n",
       "    <tr style=\"text-align: right;\">\n",
       "      <th></th>\n",
       "      <th>CvsExpEntropy</th>\n",
       "      <th>CvsLinEntropy</th>\n",
       "    </tr>\n",
       "  </thead>\n",
       "  <tbody>\n",
       "    <tr>\n",
       "      <th>CvsExpEntropy</th>\n",
       "      <td>1.000000</td>\n",
       "      <td>0.971818</td>\n",
       "    </tr>\n",
       "    <tr>\n",
       "      <th>CvsLinEntropy</th>\n",
       "      <td>0.971818</td>\n",
       "      <td>1.000000</td>\n",
       "    </tr>\n",
       "  </tbody>\n",
       "</table>\n",
       "</div>"
      ],
      "text/plain": [
       "               CvsExpEntropy  CvsLinEntropy\n",
       "CvsExpEntropy       1.000000       0.971818\n",
       "CvsLinEntropy       0.971818       1.000000"
      ]
     },
     "execution_count": 177,
     "metadata": {},
     "output_type": "execute_result"
    }
   ],
   "source": [
    "abs(corr_matrix5)"
   ]
  },
  {
   "cell_type": "code",
   "execution_count": 178,
   "id": "c25b4f37",
   "metadata": {},
   "outputs": [],
   "source": [
    "cluster5.remove('CvsExpEntropy')"
   ]
  },
  {
   "cell_type": "code",
   "execution_count": 179,
   "id": "e1215627",
   "metadata": {},
   "outputs": [
    {
     "name": "stdout",
     "output_type": "stream",
     "text": [
      "['CvsLinEntropy']\n"
     ]
    }
   ],
   "source": [
    "print(cluster5)"
   ]
  },
  {
   "cell_type": "code",
   "execution_count": 180,
   "id": "da28982d",
   "metadata": {},
   "outputs": [],
   "source": [
    "clusters = clusters.drop(30)"
   ]
  },
  {
   "cell_type": "code",
   "execution_count": 181,
   "id": "52315ad3",
   "metadata": {},
   "outputs": [
    {
     "name": "stdout",
     "output_type": "stream",
     "text": [
      "    Cluster                             Variable    RS_Own     RS_NC  RS_Ratio\n",
      "1         0                           WCHU_fanIn  0.895058  0.230876  0.136444\n",
      "2         0                          ck_oo_fanIn  0.779178  0.279980  0.306688\n",
      "3         0                            ck_oo_cbo  0.807973  0.498768  0.383109\n",
      "4         0                             WCHU_cbo  0.878577  0.552058  0.271069\n",
      "7         1    ck_oo_numberOfAttributesInherited  0.807593  0.158745  0.228714\n",
      "8         1                             WCHU_dit  0.857111  0.154899  0.169079\n",
      "11        2  numberOfHighPriorityBugsFoundUntil:  0.565243  0.380754  0.702076\n",
      "15        2                           CvsEntropy  0.755698  0.653885  0.705840\n",
      "16        2      numberOfCriticalBugsFoundUntil:  0.653014  0.331401  0.518975\n",
      "18        3         ck_oo_numberOfPrivateMethods  0.725370  0.423647  0.476496\n",
      "21        3          LDHH_numberOfPrivateMethods  0.751270  0.445654  0.448691\n",
      "22        3       WCHU_numberOfPrivateAttributes  0.726566  0.347986  0.419368\n",
      "23        3      ck_oo_numberOfPrivateAttributes  0.429106  0.102064  0.635784\n",
      "24        4                ck_oo_numberOfMethods  0.824974  0.568222  0.405361\n",
      "27        4           WCHU_numberOfPublicMethods  0.686458  0.491396  0.616476\n",
      "32        5                        CvsLinEntropy  0.995590  0.337839  0.006659\n",
      "33        6        WCHU_numberOfPublicAttributes  0.826243  0.264876  0.236365\n",
      "34        6              WCHU_numberOfAttributes  0.797910  0.349024  0.310442\n",
      "35        6        LDHH_numberOfPublicAttributes  0.758096  0.231567  0.314802\n",
      "36        6       ck_oo_numberOfPublicAttributes  0.527223  0.054702  0.500136\n",
      "38        6             ck_oo_numberOfAttributes  0.665102  0.122694  0.381734\n",
      "39        7                            ck_oo_dit  0.668394  0.369035  0.525554\n",
      "41        7        WCHU_numberOfMethodsInherited  0.810007  0.146580  0.222625\n",
      "42        7        LDHH_numberOfMethodsInherited  0.841124  0.149791  0.186867\n",
      "43        7       ck_oo_numberOfMethodsInherited  0.730569  0.083055  0.293836\n",
      "44        8                            LDHH_lcom  0.728697  0.451472  0.494602\n",
      "45        8                             LDHH_wmc  0.873124  0.644145  0.356538\n",
      "46        8             LDHH_numberOfLinesOfCode  0.887521  0.685363  0.357489\n",
      "48        8                             LDHH_rfc  0.883519  0.661713  0.344328\n",
      "49        8             WCHU_numberOfLinesOfCode  0.902946  0.729064  0.358218\n",
      "50        8                 LDHH_numberOfMethods  0.742027  0.462077  0.479571\n",
      "51        8                          WCHU_fanOut  0.710695  0.570888  0.674193\n",
      "52        8                 WCHU_numberOfMethods  0.771944  0.594361  0.562215\n",
      "53        8                             WCHU_wmc  0.900484  0.718305  0.353277\n",
      "54        8                             WCHU_rfc  0.909528  0.759763  0.376595\n",
      "56        9                             WCHU_noc  0.704531  0.011981  0.299052\n",
      "57       10            ck_oo_numberOfLinesOfCode  0.945752  0.559119  0.123045\n",
      "58       10                            ck_oo_rfc  0.873186  0.544774  0.278574\n",
      "59       10                            ck_oo_wmc  0.925237  0.561034  0.170316\n"
     ]
    }
   ],
   "source": [
    "print(clusters)"
   ]
  },
  {
   "cell_type": "code",
   "execution_count": 182,
   "id": "51132e19",
   "metadata": {},
   "outputs": [],
   "source": [
    "cluster6 = [\"WCHU_numberOfPublicAttributes\", \"WCHU_numberOfAttributes\", \"LDHH_numberOfPublicAttributes\", \"ck_oo_numberOfPublicAttributes\", \"ck_oo_numberOfAttributes\"]"
   ]
  },
  {
   "cell_type": "code",
   "execution_count": 184,
   "id": "ae50b456",
   "metadata": {},
   "outputs": [
    {
     "name": "stdout",
     "output_type": "stream",
     "text": [
      "['WCHU_numberOfPublicAttributes', 'WCHU_numberOfAttributes', 'LDHH_numberOfPublicAttributes', 'ck_oo_numberOfPublicAttributes', 'ck_oo_numberOfAttributes']\n"
     ]
    }
   ],
   "source": [
    "print(cluster6)"
   ]
  },
  {
   "cell_type": "code",
   "execution_count": 185,
   "id": "0beec91d",
   "metadata": {},
   "outputs": [],
   "source": [
    "# Calculate the Spearman correlation matrix of the attributes in the cluster\n",
    "corr_matrix6 = df[cluster6].corr(method='spearman')"
   ]
  },
  {
   "cell_type": "code",
   "execution_count": 186,
   "id": "980c604d",
   "metadata": {},
   "outputs": [
    {
     "data": {
      "text/html": [
       "<div>\n",
       "<style scoped>\n",
       "    .dataframe tbody tr th:only-of-type {\n",
       "        vertical-align: middle;\n",
       "    }\n",
       "\n",
       "    .dataframe tbody tr th {\n",
       "        vertical-align: top;\n",
       "    }\n",
       "\n",
       "    .dataframe thead th {\n",
       "        text-align: right;\n",
       "    }\n",
       "</style>\n",
       "<table border=\"1\" class=\"dataframe\">\n",
       "  <thead>\n",
       "    <tr style=\"text-align: right;\">\n",
       "      <th></th>\n",
       "      <th>WCHU_numberOfPublicAttributes</th>\n",
       "      <th>WCHU_numberOfAttributes</th>\n",
       "      <th>LDHH_numberOfPublicAttributes</th>\n",
       "      <th>ck_oo_numberOfPublicAttributes</th>\n",
       "      <th>ck_oo_numberOfAttributes</th>\n",
       "    </tr>\n",
       "  </thead>\n",
       "  <tbody>\n",
       "    <tr>\n",
       "      <th>WCHU_numberOfPublicAttributes</th>\n",
       "      <td>1.000000</td>\n",
       "      <td>0.693157</td>\n",
       "      <td>0.979704</td>\n",
       "      <td>0.514756</td>\n",
       "      <td>0.358896</td>\n",
       "    </tr>\n",
       "    <tr>\n",
       "      <th>WCHU_numberOfAttributes</th>\n",
       "      <td>0.693157</td>\n",
       "      <td>1.000000</td>\n",
       "      <td>0.671455</td>\n",
       "      <td>0.361853</td>\n",
       "      <td>0.519106</td>\n",
       "    </tr>\n",
       "    <tr>\n",
       "      <th>LDHH_numberOfPublicAttributes</th>\n",
       "      <td>0.979704</td>\n",
       "      <td>0.671455</td>\n",
       "      <td>1.000000</td>\n",
       "      <td>0.513985</td>\n",
       "      <td>0.349761</td>\n",
       "    </tr>\n",
       "    <tr>\n",
       "      <th>ck_oo_numberOfPublicAttributes</th>\n",
       "      <td>0.514756</td>\n",
       "      <td>0.361853</td>\n",
       "      <td>0.513985</td>\n",
       "      <td>1.000000</td>\n",
       "      <td>0.455544</td>\n",
       "    </tr>\n",
       "    <tr>\n",
       "      <th>ck_oo_numberOfAttributes</th>\n",
       "      <td>0.358896</td>\n",
       "      <td>0.519106</td>\n",
       "      <td>0.349761</td>\n",
       "      <td>0.455544</td>\n",
       "      <td>1.000000</td>\n",
       "    </tr>\n",
       "  </tbody>\n",
       "</table>\n",
       "</div>"
      ],
      "text/plain": [
       "                                WCHU_numberOfPublicAttributes  \\\n",
       "WCHU_numberOfPublicAttributes                        1.000000   \n",
       "WCHU_numberOfAttributes                              0.693157   \n",
       "LDHH_numberOfPublicAttributes                        0.979704   \n",
       "ck_oo_numberOfPublicAttributes                       0.514756   \n",
       "ck_oo_numberOfAttributes                             0.358896   \n",
       "\n",
       "                                WCHU_numberOfAttributes  \\\n",
       "WCHU_numberOfPublicAttributes                  0.693157   \n",
       "WCHU_numberOfAttributes                        1.000000   \n",
       "LDHH_numberOfPublicAttributes                  0.671455   \n",
       "ck_oo_numberOfPublicAttributes                 0.361853   \n",
       "ck_oo_numberOfAttributes                       0.519106   \n",
       "\n",
       "                                LDHH_numberOfPublicAttributes  \\\n",
       "WCHU_numberOfPublicAttributes                        0.979704   \n",
       "WCHU_numberOfAttributes                              0.671455   \n",
       "LDHH_numberOfPublicAttributes                        1.000000   \n",
       "ck_oo_numberOfPublicAttributes                       0.513985   \n",
       "ck_oo_numberOfAttributes                             0.349761   \n",
       "\n",
       "                                ck_oo_numberOfPublicAttributes  \\\n",
       "WCHU_numberOfPublicAttributes                         0.514756   \n",
       "WCHU_numberOfAttributes                               0.361853   \n",
       "LDHH_numberOfPublicAttributes                         0.513985   \n",
       "ck_oo_numberOfPublicAttributes                        1.000000   \n",
       "ck_oo_numberOfAttributes                              0.455544   \n",
       "\n",
       "                                ck_oo_numberOfAttributes  \n",
       "WCHU_numberOfPublicAttributes                   0.358896  \n",
       "WCHU_numberOfAttributes                         0.519106  \n",
       "LDHH_numberOfPublicAttributes                   0.349761  \n",
       "ck_oo_numberOfPublicAttributes                  0.455544  \n",
       "ck_oo_numberOfAttributes                        1.000000  "
      ]
     },
     "execution_count": 186,
     "metadata": {},
     "output_type": "execute_result"
    }
   ],
   "source": [
    "abs(corr_matrix6)"
   ]
  },
  {
   "cell_type": "code",
   "execution_count": 188,
   "id": "391ea493",
   "metadata": {},
   "outputs": [],
   "source": [
    "cluster6.remove('WCHU_numberOfPublicAttributes')"
   ]
  },
  {
   "cell_type": "code",
   "execution_count": 189,
   "id": "5be2d89a",
   "metadata": {},
   "outputs": [
    {
     "name": "stdout",
     "output_type": "stream",
     "text": [
      "['WCHU_numberOfAttributes', 'LDHH_numberOfPublicAttributes', 'ck_oo_numberOfPublicAttributes', 'ck_oo_numberOfAttributes']\n"
     ]
    }
   ],
   "source": [
    "print(cluster6)"
   ]
  },
  {
   "cell_type": "code",
   "execution_count": 190,
   "id": "bb4fad62",
   "metadata": {},
   "outputs": [
    {
     "data": {
      "text/html": [
       "<div>\n",
       "<style scoped>\n",
       "    .dataframe tbody tr th:only-of-type {\n",
       "        vertical-align: middle;\n",
       "    }\n",
       "\n",
       "    .dataframe tbody tr th {\n",
       "        vertical-align: top;\n",
       "    }\n",
       "\n",
       "    .dataframe thead th {\n",
       "        text-align: right;\n",
       "    }\n",
       "</style>\n",
       "<table border=\"1\" class=\"dataframe\">\n",
       "  <thead>\n",
       "    <tr style=\"text-align: right;\">\n",
       "      <th></th>\n",
       "      <th>WCHU_numberOfAttributes</th>\n",
       "      <th>LDHH_numberOfPublicAttributes</th>\n",
       "      <th>ck_oo_numberOfPublicAttributes</th>\n",
       "      <th>ck_oo_numberOfAttributes</th>\n",
       "    </tr>\n",
       "  </thead>\n",
       "  <tbody>\n",
       "    <tr>\n",
       "      <th>WCHU_numberOfAttributes</th>\n",
       "      <td>1.000000</td>\n",
       "      <td>0.671455</td>\n",
       "      <td>0.361853</td>\n",
       "      <td>0.519106</td>\n",
       "    </tr>\n",
       "    <tr>\n",
       "      <th>LDHH_numberOfPublicAttributes</th>\n",
       "      <td>0.671455</td>\n",
       "      <td>1.000000</td>\n",
       "      <td>0.513985</td>\n",
       "      <td>0.349761</td>\n",
       "    </tr>\n",
       "    <tr>\n",
       "      <th>ck_oo_numberOfPublicAttributes</th>\n",
       "      <td>0.361853</td>\n",
       "      <td>0.513985</td>\n",
       "      <td>1.000000</td>\n",
       "      <td>0.455544</td>\n",
       "    </tr>\n",
       "    <tr>\n",
       "      <th>ck_oo_numberOfAttributes</th>\n",
       "      <td>0.519106</td>\n",
       "      <td>0.349761</td>\n",
       "      <td>0.455544</td>\n",
       "      <td>1.000000</td>\n",
       "    </tr>\n",
       "  </tbody>\n",
       "</table>\n",
       "</div>"
      ],
      "text/plain": [
       "                                WCHU_numberOfAttributes  \\\n",
       "WCHU_numberOfAttributes                        1.000000   \n",
       "LDHH_numberOfPublicAttributes                  0.671455   \n",
       "ck_oo_numberOfPublicAttributes                 0.361853   \n",
       "ck_oo_numberOfAttributes                       0.519106   \n",
       "\n",
       "                                LDHH_numberOfPublicAttributes  \\\n",
       "WCHU_numberOfAttributes                              0.671455   \n",
       "LDHH_numberOfPublicAttributes                        1.000000   \n",
       "ck_oo_numberOfPublicAttributes                       0.513985   \n",
       "ck_oo_numberOfAttributes                             0.349761   \n",
       "\n",
       "                                ck_oo_numberOfPublicAttributes  \\\n",
       "WCHU_numberOfAttributes                               0.361853   \n",
       "LDHH_numberOfPublicAttributes                         0.513985   \n",
       "ck_oo_numberOfPublicAttributes                        1.000000   \n",
       "ck_oo_numberOfAttributes                              0.455544   \n",
       "\n",
       "                                ck_oo_numberOfAttributes  \n",
       "WCHU_numberOfAttributes                         0.519106  \n",
       "LDHH_numberOfPublicAttributes                   0.349761  \n",
       "ck_oo_numberOfPublicAttributes                  0.455544  \n",
       "ck_oo_numberOfAttributes                        1.000000  "
      ]
     },
     "execution_count": 190,
     "metadata": {},
     "output_type": "execute_result"
    }
   ],
   "source": [
    "# Calculate the Spearman correlation matrix of the attributes in the cluster\n",
    "corr_matrix6 = df[cluster6].corr(method='spearman')\n",
    "abs(corr_matrix6)"
   ]
  },
  {
   "cell_type": "code",
   "execution_count": 191,
   "id": "815504b5",
   "metadata": {},
   "outputs": [
    {
     "name": "stdout",
     "output_type": "stream",
     "text": [
      "    Cluster                             Variable    RS_Own     RS_NC  RS_Ratio\n",
      "1         0                           WCHU_fanIn  0.895058  0.230876  0.136444\n",
      "2         0                          ck_oo_fanIn  0.779178  0.279980  0.306688\n",
      "3         0                            ck_oo_cbo  0.807973  0.498768  0.383109\n",
      "4         0                             WCHU_cbo  0.878577  0.552058  0.271069\n",
      "7         1    ck_oo_numberOfAttributesInherited  0.807593  0.158745  0.228714\n",
      "8         1                             WCHU_dit  0.857111  0.154899  0.169079\n",
      "11        2  numberOfHighPriorityBugsFoundUntil:  0.565243  0.380754  0.702076\n",
      "15        2                           CvsEntropy  0.755698  0.653885  0.705840\n",
      "16        2      numberOfCriticalBugsFoundUntil:  0.653014  0.331401  0.518975\n",
      "18        3         ck_oo_numberOfPrivateMethods  0.725370  0.423647  0.476496\n",
      "21        3          LDHH_numberOfPrivateMethods  0.751270  0.445654  0.448691\n",
      "22        3       WCHU_numberOfPrivateAttributes  0.726566  0.347986  0.419368\n",
      "23        3      ck_oo_numberOfPrivateAttributes  0.429106  0.102064  0.635784\n",
      "24        4                ck_oo_numberOfMethods  0.824974  0.568222  0.405361\n",
      "27        4           WCHU_numberOfPublicMethods  0.686458  0.491396  0.616476\n",
      "32        5                        CvsLinEntropy  0.995590  0.337839  0.006659\n",
      "34        6              WCHU_numberOfAttributes  0.797910  0.349024  0.310442\n",
      "35        6        LDHH_numberOfPublicAttributes  0.758096  0.231567  0.314802\n",
      "36        6       ck_oo_numberOfPublicAttributes  0.527223  0.054702  0.500136\n",
      "38        6             ck_oo_numberOfAttributes  0.665102  0.122694  0.381734\n",
      "39        7                            ck_oo_dit  0.668394  0.369035  0.525554\n",
      "41        7        WCHU_numberOfMethodsInherited  0.810007  0.146580  0.222625\n",
      "42        7        LDHH_numberOfMethodsInherited  0.841124  0.149791  0.186867\n",
      "43        7       ck_oo_numberOfMethodsInherited  0.730569  0.083055  0.293836\n",
      "44        8                            LDHH_lcom  0.728697  0.451472  0.494602\n",
      "45        8                             LDHH_wmc  0.873124  0.644145  0.356538\n",
      "46        8             LDHH_numberOfLinesOfCode  0.887521  0.685363  0.357489\n",
      "48        8                             LDHH_rfc  0.883519  0.661713  0.344328\n",
      "49        8             WCHU_numberOfLinesOfCode  0.902946  0.729064  0.358218\n",
      "50        8                 LDHH_numberOfMethods  0.742027  0.462077  0.479571\n",
      "51        8                          WCHU_fanOut  0.710695  0.570888  0.674193\n",
      "52        8                 WCHU_numberOfMethods  0.771944  0.594361  0.562215\n",
      "53        8                             WCHU_wmc  0.900484  0.718305  0.353277\n",
      "54        8                             WCHU_rfc  0.909528  0.759763  0.376595\n",
      "56        9                             WCHU_noc  0.704531  0.011981  0.299052\n",
      "57       10            ck_oo_numberOfLinesOfCode  0.945752  0.559119  0.123045\n",
      "58       10                            ck_oo_rfc  0.873186  0.544774  0.278574\n",
      "59       10                            ck_oo_wmc  0.925237  0.561034  0.170316\n"
     ]
    }
   ],
   "source": [
    "clusters = clusters.drop(33)\n",
    "print(clusters)"
   ]
  },
  {
   "cell_type": "code",
   "execution_count": 192,
   "id": "5f5853c3",
   "metadata": {},
   "outputs": [
    {
     "name": "stdout",
     "output_type": "stream",
     "text": [
      "['ck_oo_dit', 'WCHU_numberOfMethodsInherited', 'LDHH_numberOfMethodsInherited', 'ck_oo_numberOfMethodsInherited']\n"
     ]
    }
   ],
   "source": [
    "cluster7 = [\"ck_oo_dit\", \"WCHU_numberOfMethodsInherited\", \"LDHH_numberOfMethodsInherited\", \"ck_oo_numberOfMethodsInherited\"]\n",
    "print(cluster7)"
   ]
  },
  {
   "cell_type": "code",
   "execution_count": 193,
   "id": "201b1c88",
   "metadata": {},
   "outputs": [
    {
     "data": {
      "text/html": [
       "<div>\n",
       "<style scoped>\n",
       "    .dataframe tbody tr th:only-of-type {\n",
       "        vertical-align: middle;\n",
       "    }\n",
       "\n",
       "    .dataframe tbody tr th {\n",
       "        vertical-align: top;\n",
       "    }\n",
       "\n",
       "    .dataframe thead th {\n",
       "        text-align: right;\n",
       "    }\n",
       "</style>\n",
       "<table border=\"1\" class=\"dataframe\">\n",
       "  <thead>\n",
       "    <tr style=\"text-align: right;\">\n",
       "      <th></th>\n",
       "      <th>ck_oo_dit</th>\n",
       "      <th>WCHU_numberOfMethodsInherited</th>\n",
       "      <th>LDHH_numberOfMethodsInherited</th>\n",
       "      <th>ck_oo_numberOfMethodsInherited</th>\n",
       "    </tr>\n",
       "  </thead>\n",
       "  <tbody>\n",
       "    <tr>\n",
       "      <th>ck_oo_dit</th>\n",
       "      <td>1.000000</td>\n",
       "      <td>0.699144</td>\n",
       "      <td>0.714786</td>\n",
       "      <td>0.864670</td>\n",
       "    </tr>\n",
       "    <tr>\n",
       "      <th>WCHU_numberOfMethodsInherited</th>\n",
       "      <td>0.699144</td>\n",
       "      <td>1.000000</td>\n",
       "      <td>0.952470</td>\n",
       "      <td>0.716324</td>\n",
       "    </tr>\n",
       "    <tr>\n",
       "      <th>LDHH_numberOfMethodsInherited</th>\n",
       "      <td>0.714786</td>\n",
       "      <td>0.952470</td>\n",
       "      <td>1.000000</td>\n",
       "      <td>0.742111</td>\n",
       "    </tr>\n",
       "    <tr>\n",
       "      <th>ck_oo_numberOfMethodsInherited</th>\n",
       "      <td>0.864670</td>\n",
       "      <td>0.716324</td>\n",
       "      <td>0.742111</td>\n",
       "      <td>1.000000</td>\n",
       "    </tr>\n",
       "  </tbody>\n",
       "</table>\n",
       "</div>"
      ],
      "text/plain": [
       "                                ck_oo_dit  WCHU_numberOfMethodsInherited  \\\n",
       "ck_oo_dit                        1.000000                       0.699144   \n",
       "WCHU_numberOfMethodsInherited    0.699144                       1.000000   \n",
       "LDHH_numberOfMethodsInherited    0.714786                       0.952470   \n",
       "ck_oo_numberOfMethodsInherited   0.864670                       0.716324   \n",
       "\n",
       "                                LDHH_numberOfMethodsInherited  \\\n",
       "ck_oo_dit                                            0.714786   \n",
       "WCHU_numberOfMethodsInherited                        0.952470   \n",
       "LDHH_numberOfMethodsInherited                        1.000000   \n",
       "ck_oo_numberOfMethodsInherited                       0.742111   \n",
       "\n",
       "                                ck_oo_numberOfMethodsInherited  \n",
       "ck_oo_dit                                             0.864670  \n",
       "WCHU_numberOfMethodsInherited                         0.716324  \n",
       "LDHH_numberOfMethodsInherited                         0.742111  \n",
       "ck_oo_numberOfMethodsInherited                        1.000000  "
      ]
     },
     "execution_count": 193,
     "metadata": {},
     "output_type": "execute_result"
    }
   ],
   "source": [
    "# Calculate the Spearman correlation matrix of the attributes in the cluster\n",
    "corr_matrix7 = df[cluster7].corr(method='spearman')\n",
    "abs(corr_matrix7)"
   ]
  },
  {
   "cell_type": "code",
   "execution_count": 194,
   "id": "04940291",
   "metadata": {},
   "outputs": [
    {
     "name": "stdout",
     "output_type": "stream",
     "text": [
      "['ck_oo_dit', 'WCHU_numberOfMethodsInherited', 'ck_oo_numberOfMethodsInherited']\n"
     ]
    }
   ],
   "source": [
    "cluster7.remove('LDHH_numberOfMethodsInherited')\n",
    "print(cluster7)"
   ]
  },
  {
   "cell_type": "code",
   "execution_count": 195,
   "id": "aa880156",
   "metadata": {},
   "outputs": [
    {
     "data": {
      "text/html": [
       "<div>\n",
       "<style scoped>\n",
       "    .dataframe tbody tr th:only-of-type {\n",
       "        vertical-align: middle;\n",
       "    }\n",
       "\n",
       "    .dataframe tbody tr th {\n",
       "        vertical-align: top;\n",
       "    }\n",
       "\n",
       "    .dataframe thead th {\n",
       "        text-align: right;\n",
       "    }\n",
       "</style>\n",
       "<table border=\"1\" class=\"dataframe\">\n",
       "  <thead>\n",
       "    <tr style=\"text-align: right;\">\n",
       "      <th></th>\n",
       "      <th>ck_oo_dit</th>\n",
       "      <th>WCHU_numberOfMethodsInherited</th>\n",
       "      <th>ck_oo_numberOfMethodsInherited</th>\n",
       "    </tr>\n",
       "  </thead>\n",
       "  <tbody>\n",
       "    <tr>\n",
       "      <th>ck_oo_dit</th>\n",
       "      <td>1.000000</td>\n",
       "      <td>0.699144</td>\n",
       "      <td>0.864670</td>\n",
       "    </tr>\n",
       "    <tr>\n",
       "      <th>WCHU_numberOfMethodsInherited</th>\n",
       "      <td>0.699144</td>\n",
       "      <td>1.000000</td>\n",
       "      <td>0.716324</td>\n",
       "    </tr>\n",
       "    <tr>\n",
       "      <th>ck_oo_numberOfMethodsInherited</th>\n",
       "      <td>0.864670</td>\n",
       "      <td>0.716324</td>\n",
       "      <td>1.000000</td>\n",
       "    </tr>\n",
       "  </tbody>\n",
       "</table>\n",
       "</div>"
      ],
      "text/plain": [
       "                                ck_oo_dit  WCHU_numberOfMethodsInherited  \\\n",
       "ck_oo_dit                        1.000000                       0.699144   \n",
       "WCHU_numberOfMethodsInherited    0.699144                       1.000000   \n",
       "ck_oo_numberOfMethodsInherited   0.864670                       0.716324   \n",
       "\n",
       "                                ck_oo_numberOfMethodsInherited  \n",
       "ck_oo_dit                                             0.864670  \n",
       "WCHU_numberOfMethodsInherited                         0.716324  \n",
       "ck_oo_numberOfMethodsInherited                        1.000000  "
      ]
     },
     "execution_count": 195,
     "metadata": {},
     "output_type": "execute_result"
    }
   ],
   "source": [
    "# Calculate the Spearman correlation matrix of the attributes in the cluster\n",
    "corr_matrix7 = df[cluster7].corr(method='spearman')\n",
    "abs(corr_matrix7)"
   ]
  },
  {
   "cell_type": "code",
   "execution_count": 196,
   "id": "9745c242",
   "metadata": {},
   "outputs": [
    {
     "name": "stdout",
     "output_type": "stream",
     "text": [
      "['ck_oo_dit', 'WCHU_numberOfMethodsInherited']\n"
     ]
    }
   ],
   "source": [
    "cluster7.remove('ck_oo_numberOfMethodsInherited')\n",
    "print(cluster7)"
   ]
  },
  {
   "cell_type": "code",
   "execution_count": 197,
   "id": "bc3e944b",
   "metadata": {},
   "outputs": [
    {
     "data": {
      "text/html": [
       "<div>\n",
       "<style scoped>\n",
       "    .dataframe tbody tr th:only-of-type {\n",
       "        vertical-align: middle;\n",
       "    }\n",
       "\n",
       "    .dataframe tbody tr th {\n",
       "        vertical-align: top;\n",
       "    }\n",
       "\n",
       "    .dataframe thead th {\n",
       "        text-align: right;\n",
       "    }\n",
       "</style>\n",
       "<table border=\"1\" class=\"dataframe\">\n",
       "  <thead>\n",
       "    <tr style=\"text-align: right;\">\n",
       "      <th></th>\n",
       "      <th>ck_oo_dit</th>\n",
       "      <th>WCHU_numberOfMethodsInherited</th>\n",
       "    </tr>\n",
       "  </thead>\n",
       "  <tbody>\n",
       "    <tr>\n",
       "      <th>ck_oo_dit</th>\n",
       "      <td>1.000000</td>\n",
       "      <td>0.699144</td>\n",
       "    </tr>\n",
       "    <tr>\n",
       "      <th>WCHU_numberOfMethodsInherited</th>\n",
       "      <td>0.699144</td>\n",
       "      <td>1.000000</td>\n",
       "    </tr>\n",
       "  </tbody>\n",
       "</table>\n",
       "</div>"
      ],
      "text/plain": [
       "                               ck_oo_dit  WCHU_numberOfMethodsInherited\n",
       "ck_oo_dit                       1.000000                       0.699144\n",
       "WCHU_numberOfMethodsInherited   0.699144                       1.000000"
      ]
     },
     "execution_count": 197,
     "metadata": {},
     "output_type": "execute_result"
    }
   ],
   "source": [
    "# Calculate the Spearman correlation matrix of the attributes in the cluster\n",
    "corr_matrix7 = df[cluster7].corr(method='spearman')\n",
    "abs(corr_matrix7)"
   ]
  },
  {
   "cell_type": "code",
   "execution_count": 198,
   "id": "0aa3ddb6",
   "metadata": {},
   "outputs": [
    {
     "name": "stdout",
     "output_type": "stream",
     "text": [
      "    Cluster                             Variable    RS_Own     RS_NC  RS_Ratio\n",
      "1         0                           WCHU_fanIn  0.895058  0.230876  0.136444\n",
      "2         0                          ck_oo_fanIn  0.779178  0.279980  0.306688\n",
      "3         0                            ck_oo_cbo  0.807973  0.498768  0.383109\n",
      "4         0                             WCHU_cbo  0.878577  0.552058  0.271069\n",
      "7         1    ck_oo_numberOfAttributesInherited  0.807593  0.158745  0.228714\n",
      "8         1                             WCHU_dit  0.857111  0.154899  0.169079\n",
      "11        2  numberOfHighPriorityBugsFoundUntil:  0.565243  0.380754  0.702076\n",
      "15        2                           CvsEntropy  0.755698  0.653885  0.705840\n",
      "16        2      numberOfCriticalBugsFoundUntil:  0.653014  0.331401  0.518975\n",
      "18        3         ck_oo_numberOfPrivateMethods  0.725370  0.423647  0.476496\n",
      "21        3          LDHH_numberOfPrivateMethods  0.751270  0.445654  0.448691\n",
      "22        3       WCHU_numberOfPrivateAttributes  0.726566  0.347986  0.419368\n",
      "23        3      ck_oo_numberOfPrivateAttributes  0.429106  0.102064  0.635784\n",
      "24        4                ck_oo_numberOfMethods  0.824974  0.568222  0.405361\n",
      "27        4           WCHU_numberOfPublicMethods  0.686458  0.491396  0.616476\n",
      "32        5                        CvsLinEntropy  0.995590  0.337839  0.006659\n",
      "34        6              WCHU_numberOfAttributes  0.797910  0.349024  0.310442\n",
      "35        6        LDHH_numberOfPublicAttributes  0.758096  0.231567  0.314802\n",
      "36        6       ck_oo_numberOfPublicAttributes  0.527223  0.054702  0.500136\n",
      "38        6             ck_oo_numberOfAttributes  0.665102  0.122694  0.381734\n",
      "39        7                            ck_oo_dit  0.668394  0.369035  0.525554\n",
      "41        7        WCHU_numberOfMethodsInherited  0.810007  0.146580  0.222625\n",
      "44        8                            LDHH_lcom  0.728697  0.451472  0.494602\n",
      "45        8                             LDHH_wmc  0.873124  0.644145  0.356538\n",
      "46        8             LDHH_numberOfLinesOfCode  0.887521  0.685363  0.357489\n",
      "48        8                             LDHH_rfc  0.883519  0.661713  0.344328\n",
      "49        8             WCHU_numberOfLinesOfCode  0.902946  0.729064  0.358218\n",
      "50        8                 LDHH_numberOfMethods  0.742027  0.462077  0.479571\n",
      "51        8                          WCHU_fanOut  0.710695  0.570888  0.674193\n",
      "52        8                 WCHU_numberOfMethods  0.771944  0.594361  0.562215\n",
      "53        8                             WCHU_wmc  0.900484  0.718305  0.353277\n",
      "54        8                             WCHU_rfc  0.909528  0.759763  0.376595\n",
      "56        9                             WCHU_noc  0.704531  0.011981  0.299052\n",
      "57       10            ck_oo_numberOfLinesOfCode  0.945752  0.559119  0.123045\n",
      "58       10                            ck_oo_rfc  0.873186  0.544774  0.278574\n",
      "59       10                            ck_oo_wmc  0.925237  0.561034  0.170316\n"
     ]
    }
   ],
   "source": [
    "clusters = clusters.drop(43)\n",
    "clusters = clusters.drop(42)\n",
    "print(clusters)"
   ]
  },
  {
   "cell_type": "code",
   "execution_count": 199,
   "id": "a59f0ed3",
   "metadata": {},
   "outputs": [
    {
     "name": "stdout",
     "output_type": "stream",
     "text": [
      "['LDHH_lcom', 'LDHH_wmc', 'LDHH_numberOfLinesOfCode', 'LDHH_rfc', 'WCHU_numberOfLinesOfCode', 'LDHH_numberOfMethods', 'WCHU_fanOut', 'WCHU_numberOfMethods', 'WCHU_wmc', 'WCHU_rfc']\n"
     ]
    }
   ],
   "source": [
    "cluster8 = [\"LDHH_lcom\", \"LDHH_wmc\", \"LDHH_numberOfLinesOfCode\", \"LDHH_rfc\", \"WCHU_numberOfLinesOfCode\", \"LDHH_numberOfMethods\", \"WCHU_fanOut\", \"WCHU_numberOfMethods\", \"WCHU_wmc\", \"WCHU_rfc\"]\n",
    "print(cluster8)"
   ]
  },
  {
   "cell_type": "code",
   "execution_count": 200,
   "id": "d53958ac",
   "metadata": {},
   "outputs": [
    {
     "data": {
      "text/html": [
       "<div>\n",
       "<style scoped>\n",
       "    .dataframe tbody tr th:only-of-type {\n",
       "        vertical-align: middle;\n",
       "    }\n",
       "\n",
       "    .dataframe tbody tr th {\n",
       "        vertical-align: top;\n",
       "    }\n",
       "\n",
       "    .dataframe thead th {\n",
       "        text-align: right;\n",
       "    }\n",
       "</style>\n",
       "<table border=\"1\" class=\"dataframe\">\n",
       "  <thead>\n",
       "    <tr style=\"text-align: right;\">\n",
       "      <th></th>\n",
       "      <th>LDHH_lcom</th>\n",
       "      <th>LDHH_wmc</th>\n",
       "      <th>LDHH_numberOfLinesOfCode</th>\n",
       "      <th>LDHH_rfc</th>\n",
       "      <th>WCHU_numberOfLinesOfCode</th>\n",
       "      <th>LDHH_numberOfMethods</th>\n",
       "      <th>WCHU_fanOut</th>\n",
       "      <th>WCHU_numberOfMethods</th>\n",
       "      <th>WCHU_wmc</th>\n",
       "      <th>WCHU_rfc</th>\n",
       "    </tr>\n",
       "  </thead>\n",
       "  <tbody>\n",
       "    <tr>\n",
       "      <th>LDHH_lcom</th>\n",
       "      <td>1.000000</td>\n",
       "      <td>0.754855</td>\n",
       "      <td>0.705132</td>\n",
       "      <td>0.735748</td>\n",
       "      <td>0.733778</td>\n",
       "      <td>0.998303</td>\n",
       "      <td>0.572321</td>\n",
       "      <td>0.978897</td>\n",
       "      <td>0.765630</td>\n",
       "      <td>0.744398</td>\n",
       "    </tr>\n",
       "    <tr>\n",
       "      <th>LDHH_wmc</th>\n",
       "      <td>0.754855</td>\n",
       "      <td>1.000000</td>\n",
       "      <td>0.926248</td>\n",
       "      <td>0.903557</td>\n",
       "      <td>0.917812</td>\n",
       "      <td>0.756507</td>\n",
       "      <td>0.706433</td>\n",
       "      <td>0.744861</td>\n",
       "      <td>0.963650</td>\n",
       "      <td>0.888793</td>\n",
       "    </tr>\n",
       "    <tr>\n",
       "      <th>LDHH_numberOfLinesOfCode</th>\n",
       "      <td>0.705132</td>\n",
       "      <td>0.926248</td>\n",
       "      <td>1.000000</td>\n",
       "      <td>0.932669</td>\n",
       "      <td>0.956038</td>\n",
       "      <td>0.705848</td>\n",
       "      <td>0.715467</td>\n",
       "      <td>0.697224</td>\n",
       "      <td>0.907673</td>\n",
       "      <td>0.899993</td>\n",
       "    </tr>\n",
       "    <tr>\n",
       "      <th>LDHH_rfc</th>\n",
       "      <td>0.735748</td>\n",
       "      <td>0.903557</td>\n",
       "      <td>0.932669</td>\n",
       "      <td>1.000000</td>\n",
       "      <td>0.902038</td>\n",
       "      <td>0.736773</td>\n",
       "      <td>0.748368</td>\n",
       "      <td>0.723109</td>\n",
       "      <td>0.884452</td>\n",
       "      <td>0.955531</td>\n",
       "    </tr>\n",
       "    <tr>\n",
       "      <th>WCHU_numberOfLinesOfCode</th>\n",
       "      <td>0.733778</td>\n",
       "      <td>0.917812</td>\n",
       "      <td>0.956038</td>\n",
       "      <td>0.902038</td>\n",
       "      <td>1.000000</td>\n",
       "      <td>0.733510</td>\n",
       "      <td>0.740461</td>\n",
       "      <td>0.751003</td>\n",
       "      <td>0.958572</td>\n",
       "      <td>0.939722</td>\n",
       "    </tr>\n",
       "    <tr>\n",
       "      <th>LDHH_numberOfMethods</th>\n",
       "      <td>0.998303</td>\n",
       "      <td>0.756507</td>\n",
       "      <td>0.705848</td>\n",
       "      <td>0.736773</td>\n",
       "      <td>0.733510</td>\n",
       "      <td>1.000000</td>\n",
       "      <td>0.572278</td>\n",
       "      <td>0.978761</td>\n",
       "      <td>0.765678</td>\n",
       "      <td>0.743755</td>\n",
       "    </tr>\n",
       "    <tr>\n",
       "      <th>WCHU_fanOut</th>\n",
       "      <td>0.572321</td>\n",
       "      <td>0.706433</td>\n",
       "      <td>0.715467</td>\n",
       "      <td>0.748368</td>\n",
       "      <td>0.740461</td>\n",
       "      <td>0.572278</td>\n",
       "      <td>1.000000</td>\n",
       "      <td>0.582141</td>\n",
       "      <td>0.733599</td>\n",
       "      <td>0.782343</td>\n",
       "    </tr>\n",
       "    <tr>\n",
       "      <th>WCHU_numberOfMethods</th>\n",
       "      <td>0.978897</td>\n",
       "      <td>0.744861</td>\n",
       "      <td>0.697224</td>\n",
       "      <td>0.723109</td>\n",
       "      <td>0.751003</td>\n",
       "      <td>0.978761</td>\n",
       "      <td>0.582141</td>\n",
       "      <td>1.000000</td>\n",
       "      <td>0.780951</td>\n",
       "      <td>0.759831</td>\n",
       "    </tr>\n",
       "    <tr>\n",
       "      <th>WCHU_wmc</th>\n",
       "      <td>0.765630</td>\n",
       "      <td>0.963650</td>\n",
       "      <td>0.907673</td>\n",
       "      <td>0.884452</td>\n",
       "      <td>0.958572</td>\n",
       "      <td>0.765678</td>\n",
       "      <td>0.733599</td>\n",
       "      <td>0.780951</td>\n",
       "      <td>1.000000</td>\n",
       "      <td>0.925878</td>\n",
       "    </tr>\n",
       "    <tr>\n",
       "      <th>WCHU_rfc</th>\n",
       "      <td>0.744398</td>\n",
       "      <td>0.888793</td>\n",
       "      <td>0.899993</td>\n",
       "      <td>0.955531</td>\n",
       "      <td>0.939722</td>\n",
       "      <td>0.743755</td>\n",
       "      <td>0.782343</td>\n",
       "      <td>0.759831</td>\n",
       "      <td>0.925878</td>\n",
       "      <td>1.000000</td>\n",
       "    </tr>\n",
       "  </tbody>\n",
       "</table>\n",
       "</div>"
      ],
      "text/plain": [
       "                          LDHH_lcom  LDHH_wmc  LDHH_numberOfLinesOfCode  \\\n",
       "LDHH_lcom                  1.000000  0.754855                  0.705132   \n",
       "LDHH_wmc                   0.754855  1.000000                  0.926248   \n",
       "LDHH_numberOfLinesOfCode   0.705132  0.926248                  1.000000   \n",
       "LDHH_rfc                   0.735748  0.903557                  0.932669   \n",
       "WCHU_numberOfLinesOfCode   0.733778  0.917812                  0.956038   \n",
       "LDHH_numberOfMethods       0.998303  0.756507                  0.705848   \n",
       "WCHU_fanOut                0.572321  0.706433                  0.715467   \n",
       "WCHU_numberOfMethods       0.978897  0.744861                  0.697224   \n",
       "WCHU_wmc                   0.765630  0.963650                  0.907673   \n",
       "WCHU_rfc                   0.744398  0.888793                  0.899993   \n",
       "\n",
       "                          LDHH_rfc  WCHU_numberOfLinesOfCode  \\\n",
       "LDHH_lcom                 0.735748                  0.733778   \n",
       "LDHH_wmc                  0.903557                  0.917812   \n",
       "LDHH_numberOfLinesOfCode  0.932669                  0.956038   \n",
       "LDHH_rfc                  1.000000                  0.902038   \n",
       "WCHU_numberOfLinesOfCode  0.902038                  1.000000   \n",
       "LDHH_numberOfMethods      0.736773                  0.733510   \n",
       "WCHU_fanOut               0.748368                  0.740461   \n",
       "WCHU_numberOfMethods      0.723109                  0.751003   \n",
       "WCHU_wmc                  0.884452                  0.958572   \n",
       "WCHU_rfc                  0.955531                  0.939722   \n",
       "\n",
       "                          LDHH_numberOfMethods  WCHU_fanOut  \\\n",
       "LDHH_lcom                             0.998303     0.572321   \n",
       "LDHH_wmc                              0.756507     0.706433   \n",
       "LDHH_numberOfLinesOfCode              0.705848     0.715467   \n",
       "LDHH_rfc                              0.736773     0.748368   \n",
       "WCHU_numberOfLinesOfCode              0.733510     0.740461   \n",
       "LDHH_numberOfMethods                  1.000000     0.572278   \n",
       "WCHU_fanOut                           0.572278     1.000000   \n",
       "WCHU_numberOfMethods                  0.978761     0.582141   \n",
       "WCHU_wmc                              0.765678     0.733599   \n",
       "WCHU_rfc                              0.743755     0.782343   \n",
       "\n",
       "                          WCHU_numberOfMethods  WCHU_wmc  WCHU_rfc  \n",
       "LDHH_lcom                             0.978897  0.765630  0.744398  \n",
       "LDHH_wmc                              0.744861  0.963650  0.888793  \n",
       "LDHH_numberOfLinesOfCode              0.697224  0.907673  0.899993  \n",
       "LDHH_rfc                              0.723109  0.884452  0.955531  \n",
       "WCHU_numberOfLinesOfCode              0.751003  0.958572  0.939722  \n",
       "LDHH_numberOfMethods                  0.978761  0.765678  0.743755  \n",
       "WCHU_fanOut                           0.582141  0.733599  0.782343  \n",
       "WCHU_numberOfMethods                  1.000000  0.780951  0.759831  \n",
       "WCHU_wmc                              0.780951  1.000000  0.925878  \n",
       "WCHU_rfc                              0.759831  0.925878  1.000000  "
      ]
     },
     "execution_count": 200,
     "metadata": {},
     "output_type": "execute_result"
    }
   ],
   "source": [
    "# Calculate the Spearman correlation matrix of the attributes in the cluster\n",
    "corr_matrix8 = df[cluster8].corr(method='spearman')\n",
    "abs(corr_matrix8)"
   ]
  },
  {
   "cell_type": "code",
   "execution_count": 201,
   "id": "92fbb9c3",
   "metadata": {},
   "outputs": [
    {
     "name": "stdout",
     "output_type": "stream",
     "text": [
      "['LDHH_lcom', 'LDHH_numberOfLinesOfCode', 'LDHH_rfc', 'WCHU_numberOfLinesOfCode', 'LDHH_numberOfMethods', 'WCHU_fanOut', 'WCHU_numberOfMethods', 'WCHU_wmc', 'WCHU_rfc']\n"
     ]
    }
   ],
   "source": [
    "cluster8.remove('LDHH_wmc')\n",
    "print(cluster8)"
   ]
  },
  {
   "cell_type": "code",
   "execution_count": 202,
   "id": "59cf349a",
   "metadata": {},
   "outputs": [
    {
     "data": {
      "text/html": [
       "<div>\n",
       "<style scoped>\n",
       "    .dataframe tbody tr th:only-of-type {\n",
       "        vertical-align: middle;\n",
       "    }\n",
       "\n",
       "    .dataframe tbody tr th {\n",
       "        vertical-align: top;\n",
       "    }\n",
       "\n",
       "    .dataframe thead th {\n",
       "        text-align: right;\n",
       "    }\n",
       "</style>\n",
       "<table border=\"1\" class=\"dataframe\">\n",
       "  <thead>\n",
       "    <tr style=\"text-align: right;\">\n",
       "      <th></th>\n",
       "      <th>LDHH_lcom</th>\n",
       "      <th>LDHH_numberOfLinesOfCode</th>\n",
       "      <th>LDHH_rfc</th>\n",
       "      <th>WCHU_numberOfLinesOfCode</th>\n",
       "      <th>LDHH_numberOfMethods</th>\n",
       "      <th>WCHU_fanOut</th>\n",
       "      <th>WCHU_numberOfMethods</th>\n",
       "      <th>WCHU_wmc</th>\n",
       "      <th>WCHU_rfc</th>\n",
       "    </tr>\n",
       "  </thead>\n",
       "  <tbody>\n",
       "    <tr>\n",
       "      <th>LDHH_lcom</th>\n",
       "      <td>1.000000</td>\n",
       "      <td>0.705132</td>\n",
       "      <td>0.735748</td>\n",
       "      <td>0.733778</td>\n",
       "      <td>0.998303</td>\n",
       "      <td>0.572321</td>\n",
       "      <td>0.978897</td>\n",
       "      <td>0.765630</td>\n",
       "      <td>0.744398</td>\n",
       "    </tr>\n",
       "    <tr>\n",
       "      <th>LDHH_numberOfLinesOfCode</th>\n",
       "      <td>0.705132</td>\n",
       "      <td>1.000000</td>\n",
       "      <td>0.932669</td>\n",
       "      <td>0.956038</td>\n",
       "      <td>0.705848</td>\n",
       "      <td>0.715467</td>\n",
       "      <td>0.697224</td>\n",
       "      <td>0.907673</td>\n",
       "      <td>0.899993</td>\n",
       "    </tr>\n",
       "    <tr>\n",
       "      <th>LDHH_rfc</th>\n",
       "      <td>0.735748</td>\n",
       "      <td>0.932669</td>\n",
       "      <td>1.000000</td>\n",
       "      <td>0.902038</td>\n",
       "      <td>0.736773</td>\n",
       "      <td>0.748368</td>\n",
       "      <td>0.723109</td>\n",
       "      <td>0.884452</td>\n",
       "      <td>0.955531</td>\n",
       "    </tr>\n",
       "    <tr>\n",
       "      <th>WCHU_numberOfLinesOfCode</th>\n",
       "      <td>0.733778</td>\n",
       "      <td>0.956038</td>\n",
       "      <td>0.902038</td>\n",
       "      <td>1.000000</td>\n",
       "      <td>0.733510</td>\n",
       "      <td>0.740461</td>\n",
       "      <td>0.751003</td>\n",
       "      <td>0.958572</td>\n",
       "      <td>0.939722</td>\n",
       "    </tr>\n",
       "    <tr>\n",
       "      <th>LDHH_numberOfMethods</th>\n",
       "      <td>0.998303</td>\n",
       "      <td>0.705848</td>\n",
       "      <td>0.736773</td>\n",
       "      <td>0.733510</td>\n",
       "      <td>1.000000</td>\n",
       "      <td>0.572278</td>\n",
       "      <td>0.978761</td>\n",
       "      <td>0.765678</td>\n",
       "      <td>0.743755</td>\n",
       "    </tr>\n",
       "    <tr>\n",
       "      <th>WCHU_fanOut</th>\n",
       "      <td>0.572321</td>\n",
       "      <td>0.715467</td>\n",
       "      <td>0.748368</td>\n",
       "      <td>0.740461</td>\n",
       "      <td>0.572278</td>\n",
       "      <td>1.000000</td>\n",
       "      <td>0.582141</td>\n",
       "      <td>0.733599</td>\n",
       "      <td>0.782343</td>\n",
       "    </tr>\n",
       "    <tr>\n",
       "      <th>WCHU_numberOfMethods</th>\n",
       "      <td>0.978897</td>\n",
       "      <td>0.697224</td>\n",
       "      <td>0.723109</td>\n",
       "      <td>0.751003</td>\n",
       "      <td>0.978761</td>\n",
       "      <td>0.582141</td>\n",
       "      <td>1.000000</td>\n",
       "      <td>0.780951</td>\n",
       "      <td>0.759831</td>\n",
       "    </tr>\n",
       "    <tr>\n",
       "      <th>WCHU_wmc</th>\n",
       "      <td>0.765630</td>\n",
       "      <td>0.907673</td>\n",
       "      <td>0.884452</td>\n",
       "      <td>0.958572</td>\n",
       "      <td>0.765678</td>\n",
       "      <td>0.733599</td>\n",
       "      <td>0.780951</td>\n",
       "      <td>1.000000</td>\n",
       "      <td>0.925878</td>\n",
       "    </tr>\n",
       "    <tr>\n",
       "      <th>WCHU_rfc</th>\n",
       "      <td>0.744398</td>\n",
       "      <td>0.899993</td>\n",
       "      <td>0.955531</td>\n",
       "      <td>0.939722</td>\n",
       "      <td>0.743755</td>\n",
       "      <td>0.782343</td>\n",
       "      <td>0.759831</td>\n",
       "      <td>0.925878</td>\n",
       "      <td>1.000000</td>\n",
       "    </tr>\n",
       "  </tbody>\n",
       "</table>\n",
       "</div>"
      ],
      "text/plain": [
       "                          LDHH_lcom  LDHH_numberOfLinesOfCode  LDHH_rfc  \\\n",
       "LDHH_lcom                  1.000000                  0.705132  0.735748   \n",
       "LDHH_numberOfLinesOfCode   0.705132                  1.000000  0.932669   \n",
       "LDHH_rfc                   0.735748                  0.932669  1.000000   \n",
       "WCHU_numberOfLinesOfCode   0.733778                  0.956038  0.902038   \n",
       "LDHH_numberOfMethods       0.998303                  0.705848  0.736773   \n",
       "WCHU_fanOut                0.572321                  0.715467  0.748368   \n",
       "WCHU_numberOfMethods       0.978897                  0.697224  0.723109   \n",
       "WCHU_wmc                   0.765630                  0.907673  0.884452   \n",
       "WCHU_rfc                   0.744398                  0.899993  0.955531   \n",
       "\n",
       "                          WCHU_numberOfLinesOfCode  LDHH_numberOfMethods  \\\n",
       "LDHH_lcom                                 0.733778              0.998303   \n",
       "LDHH_numberOfLinesOfCode                  0.956038              0.705848   \n",
       "LDHH_rfc                                  0.902038              0.736773   \n",
       "WCHU_numberOfLinesOfCode                  1.000000              0.733510   \n",
       "LDHH_numberOfMethods                      0.733510              1.000000   \n",
       "WCHU_fanOut                               0.740461              0.572278   \n",
       "WCHU_numberOfMethods                      0.751003              0.978761   \n",
       "WCHU_wmc                                  0.958572              0.765678   \n",
       "WCHU_rfc                                  0.939722              0.743755   \n",
       "\n",
       "                          WCHU_fanOut  WCHU_numberOfMethods  WCHU_wmc  \\\n",
       "LDHH_lcom                    0.572321              0.978897  0.765630   \n",
       "LDHH_numberOfLinesOfCode     0.715467              0.697224  0.907673   \n",
       "LDHH_rfc                     0.748368              0.723109  0.884452   \n",
       "WCHU_numberOfLinesOfCode     0.740461              0.751003  0.958572   \n",
       "LDHH_numberOfMethods         0.572278              0.978761  0.765678   \n",
       "WCHU_fanOut                  1.000000              0.582141  0.733599   \n",
       "WCHU_numberOfMethods         0.582141              1.000000  0.780951   \n",
       "WCHU_wmc                     0.733599              0.780951  1.000000   \n",
       "WCHU_rfc                     0.782343              0.759831  0.925878   \n",
       "\n",
       "                          WCHU_rfc  \n",
       "LDHH_lcom                 0.744398  \n",
       "LDHH_numberOfLinesOfCode  0.899993  \n",
       "LDHH_rfc                  0.955531  \n",
       "WCHU_numberOfLinesOfCode  0.939722  \n",
       "LDHH_numberOfMethods      0.743755  \n",
       "WCHU_fanOut               0.782343  \n",
       "WCHU_numberOfMethods      0.759831  \n",
       "WCHU_wmc                  0.925878  \n",
       "WCHU_rfc                  1.000000  "
      ]
     },
     "execution_count": 202,
     "metadata": {},
     "output_type": "execute_result"
    }
   ],
   "source": [
    "# Calculate the Spearman correlation matrix of the attributes in the cluster\n",
    "corr_matrix8 = df[cluster8].corr(method='spearman')\n",
    "abs(corr_matrix8)"
   ]
  },
  {
   "cell_type": "code",
   "execution_count": 203,
   "id": "e011c4cb",
   "metadata": {},
   "outputs": [
    {
     "name": "stdout",
     "output_type": "stream",
     "text": [
      "['LDHH_lcom', 'LDHH_numberOfLinesOfCode', 'LDHH_rfc', 'WCHU_numberOfLinesOfCode', 'LDHH_numberOfMethods', 'WCHU_fanOut', 'WCHU_numberOfMethods', 'WCHU_wmc']\n"
     ]
    }
   ],
   "source": [
    "cluster8.remove('WCHU_rfc')\n",
    "print(cluster8)"
   ]
  },
  {
   "cell_type": "code",
   "execution_count": 204,
   "id": "5e03dcec",
   "metadata": {},
   "outputs": [
    {
     "data": {
      "text/html": [
       "<div>\n",
       "<style scoped>\n",
       "    .dataframe tbody tr th:only-of-type {\n",
       "        vertical-align: middle;\n",
       "    }\n",
       "\n",
       "    .dataframe tbody tr th {\n",
       "        vertical-align: top;\n",
       "    }\n",
       "\n",
       "    .dataframe thead th {\n",
       "        text-align: right;\n",
       "    }\n",
       "</style>\n",
       "<table border=\"1\" class=\"dataframe\">\n",
       "  <thead>\n",
       "    <tr style=\"text-align: right;\">\n",
       "      <th></th>\n",
       "      <th>LDHH_lcom</th>\n",
       "      <th>LDHH_numberOfLinesOfCode</th>\n",
       "      <th>LDHH_rfc</th>\n",
       "      <th>WCHU_numberOfLinesOfCode</th>\n",
       "      <th>LDHH_numberOfMethods</th>\n",
       "      <th>WCHU_fanOut</th>\n",
       "      <th>WCHU_numberOfMethods</th>\n",
       "      <th>WCHU_wmc</th>\n",
       "    </tr>\n",
       "  </thead>\n",
       "  <tbody>\n",
       "    <tr>\n",
       "      <th>LDHH_lcom</th>\n",
       "      <td>1.000000</td>\n",
       "      <td>0.705132</td>\n",
       "      <td>0.735748</td>\n",
       "      <td>0.733778</td>\n",
       "      <td>0.998303</td>\n",
       "      <td>0.572321</td>\n",
       "      <td>0.978897</td>\n",
       "      <td>0.765630</td>\n",
       "    </tr>\n",
       "    <tr>\n",
       "      <th>LDHH_numberOfLinesOfCode</th>\n",
       "      <td>0.705132</td>\n",
       "      <td>1.000000</td>\n",
       "      <td>0.932669</td>\n",
       "      <td>0.956038</td>\n",
       "      <td>0.705848</td>\n",
       "      <td>0.715467</td>\n",
       "      <td>0.697224</td>\n",
       "      <td>0.907673</td>\n",
       "    </tr>\n",
       "    <tr>\n",
       "      <th>LDHH_rfc</th>\n",
       "      <td>0.735748</td>\n",
       "      <td>0.932669</td>\n",
       "      <td>1.000000</td>\n",
       "      <td>0.902038</td>\n",
       "      <td>0.736773</td>\n",
       "      <td>0.748368</td>\n",
       "      <td>0.723109</td>\n",
       "      <td>0.884452</td>\n",
       "    </tr>\n",
       "    <tr>\n",
       "      <th>WCHU_numberOfLinesOfCode</th>\n",
       "      <td>0.733778</td>\n",
       "      <td>0.956038</td>\n",
       "      <td>0.902038</td>\n",
       "      <td>1.000000</td>\n",
       "      <td>0.733510</td>\n",
       "      <td>0.740461</td>\n",
       "      <td>0.751003</td>\n",
       "      <td>0.958572</td>\n",
       "    </tr>\n",
       "    <tr>\n",
       "      <th>LDHH_numberOfMethods</th>\n",
       "      <td>0.998303</td>\n",
       "      <td>0.705848</td>\n",
       "      <td>0.736773</td>\n",
       "      <td>0.733510</td>\n",
       "      <td>1.000000</td>\n",
       "      <td>0.572278</td>\n",
       "      <td>0.978761</td>\n",
       "      <td>0.765678</td>\n",
       "    </tr>\n",
       "    <tr>\n",
       "      <th>WCHU_fanOut</th>\n",
       "      <td>0.572321</td>\n",
       "      <td>0.715467</td>\n",
       "      <td>0.748368</td>\n",
       "      <td>0.740461</td>\n",
       "      <td>0.572278</td>\n",
       "      <td>1.000000</td>\n",
       "      <td>0.582141</td>\n",
       "      <td>0.733599</td>\n",
       "    </tr>\n",
       "    <tr>\n",
       "      <th>WCHU_numberOfMethods</th>\n",
       "      <td>0.978897</td>\n",
       "      <td>0.697224</td>\n",
       "      <td>0.723109</td>\n",
       "      <td>0.751003</td>\n",
       "      <td>0.978761</td>\n",
       "      <td>0.582141</td>\n",
       "      <td>1.000000</td>\n",
       "      <td>0.780951</td>\n",
       "    </tr>\n",
       "    <tr>\n",
       "      <th>WCHU_wmc</th>\n",
       "      <td>0.765630</td>\n",
       "      <td>0.907673</td>\n",
       "      <td>0.884452</td>\n",
       "      <td>0.958572</td>\n",
       "      <td>0.765678</td>\n",
       "      <td>0.733599</td>\n",
       "      <td>0.780951</td>\n",
       "      <td>1.000000</td>\n",
       "    </tr>\n",
       "  </tbody>\n",
       "</table>\n",
       "</div>"
      ],
      "text/plain": [
       "                          LDHH_lcom  LDHH_numberOfLinesOfCode  LDHH_rfc  \\\n",
       "LDHH_lcom                  1.000000                  0.705132  0.735748   \n",
       "LDHH_numberOfLinesOfCode   0.705132                  1.000000  0.932669   \n",
       "LDHH_rfc                   0.735748                  0.932669  1.000000   \n",
       "WCHU_numberOfLinesOfCode   0.733778                  0.956038  0.902038   \n",
       "LDHH_numberOfMethods       0.998303                  0.705848  0.736773   \n",
       "WCHU_fanOut                0.572321                  0.715467  0.748368   \n",
       "WCHU_numberOfMethods       0.978897                  0.697224  0.723109   \n",
       "WCHU_wmc                   0.765630                  0.907673  0.884452   \n",
       "\n",
       "                          WCHU_numberOfLinesOfCode  LDHH_numberOfMethods  \\\n",
       "LDHH_lcom                                 0.733778              0.998303   \n",
       "LDHH_numberOfLinesOfCode                  0.956038              0.705848   \n",
       "LDHH_rfc                                  0.902038              0.736773   \n",
       "WCHU_numberOfLinesOfCode                  1.000000              0.733510   \n",
       "LDHH_numberOfMethods                      0.733510              1.000000   \n",
       "WCHU_fanOut                               0.740461              0.572278   \n",
       "WCHU_numberOfMethods                      0.751003              0.978761   \n",
       "WCHU_wmc                                  0.958572              0.765678   \n",
       "\n",
       "                          WCHU_fanOut  WCHU_numberOfMethods  WCHU_wmc  \n",
       "LDHH_lcom                    0.572321              0.978897  0.765630  \n",
       "LDHH_numberOfLinesOfCode     0.715467              0.697224  0.907673  \n",
       "LDHH_rfc                     0.748368              0.723109  0.884452  \n",
       "WCHU_numberOfLinesOfCode     0.740461              0.751003  0.958572  \n",
       "LDHH_numberOfMethods         0.572278              0.978761  0.765678  \n",
       "WCHU_fanOut                  1.000000              0.582141  0.733599  \n",
       "WCHU_numberOfMethods         0.582141              1.000000  0.780951  \n",
       "WCHU_wmc                     0.733599              0.780951  1.000000  "
      ]
     },
     "execution_count": 204,
     "metadata": {},
     "output_type": "execute_result"
    }
   ],
   "source": [
    "# Calculate the Spearman correlation matrix of the attributes in the cluster\n",
    "corr_matrix8 = df[cluster8].corr(method='spearman')\n",
    "abs(corr_matrix8)"
   ]
  },
  {
   "cell_type": "code",
   "execution_count": 205,
   "id": "d1515ca2",
   "metadata": {},
   "outputs": [
    {
     "name": "stdout",
     "output_type": "stream",
     "text": [
      "['LDHH_lcom', 'LDHH_numberOfLinesOfCode', 'LDHH_rfc', 'WCHU_numberOfLinesOfCode', 'LDHH_numberOfMethods', 'WCHU_fanOut', 'WCHU_numberOfMethods']\n"
     ]
    }
   ],
   "source": [
    "cluster8.remove('WCHU_wmc')\n",
    "print(cluster8)"
   ]
  },
  {
   "cell_type": "code",
   "execution_count": 206,
   "id": "47ecf787",
   "metadata": {},
   "outputs": [
    {
     "data": {
      "text/html": [
       "<div>\n",
       "<style scoped>\n",
       "    .dataframe tbody tr th:only-of-type {\n",
       "        vertical-align: middle;\n",
       "    }\n",
       "\n",
       "    .dataframe tbody tr th {\n",
       "        vertical-align: top;\n",
       "    }\n",
       "\n",
       "    .dataframe thead th {\n",
       "        text-align: right;\n",
       "    }\n",
       "</style>\n",
       "<table border=\"1\" class=\"dataframe\">\n",
       "  <thead>\n",
       "    <tr style=\"text-align: right;\">\n",
       "      <th></th>\n",
       "      <th>LDHH_lcom</th>\n",
       "      <th>LDHH_numberOfLinesOfCode</th>\n",
       "      <th>LDHH_rfc</th>\n",
       "      <th>WCHU_numberOfLinesOfCode</th>\n",
       "      <th>LDHH_numberOfMethods</th>\n",
       "      <th>WCHU_fanOut</th>\n",
       "      <th>WCHU_numberOfMethods</th>\n",
       "    </tr>\n",
       "  </thead>\n",
       "  <tbody>\n",
       "    <tr>\n",
       "      <th>LDHH_lcom</th>\n",
       "      <td>1.000000</td>\n",
       "      <td>0.705132</td>\n",
       "      <td>0.735748</td>\n",
       "      <td>0.733778</td>\n",
       "      <td>0.998303</td>\n",
       "      <td>0.572321</td>\n",
       "      <td>0.978897</td>\n",
       "    </tr>\n",
       "    <tr>\n",
       "      <th>LDHH_numberOfLinesOfCode</th>\n",
       "      <td>0.705132</td>\n",
       "      <td>1.000000</td>\n",
       "      <td>0.932669</td>\n",
       "      <td>0.956038</td>\n",
       "      <td>0.705848</td>\n",
       "      <td>0.715467</td>\n",
       "      <td>0.697224</td>\n",
       "    </tr>\n",
       "    <tr>\n",
       "      <th>LDHH_rfc</th>\n",
       "      <td>0.735748</td>\n",
       "      <td>0.932669</td>\n",
       "      <td>1.000000</td>\n",
       "      <td>0.902038</td>\n",
       "      <td>0.736773</td>\n",
       "      <td>0.748368</td>\n",
       "      <td>0.723109</td>\n",
       "    </tr>\n",
       "    <tr>\n",
       "      <th>WCHU_numberOfLinesOfCode</th>\n",
       "      <td>0.733778</td>\n",
       "      <td>0.956038</td>\n",
       "      <td>0.902038</td>\n",
       "      <td>1.000000</td>\n",
       "      <td>0.733510</td>\n",
       "      <td>0.740461</td>\n",
       "      <td>0.751003</td>\n",
       "    </tr>\n",
       "    <tr>\n",
       "      <th>LDHH_numberOfMethods</th>\n",
       "      <td>0.998303</td>\n",
       "      <td>0.705848</td>\n",
       "      <td>0.736773</td>\n",
       "      <td>0.733510</td>\n",
       "      <td>1.000000</td>\n",
       "      <td>0.572278</td>\n",
       "      <td>0.978761</td>\n",
       "    </tr>\n",
       "    <tr>\n",
       "      <th>WCHU_fanOut</th>\n",
       "      <td>0.572321</td>\n",
       "      <td>0.715467</td>\n",
       "      <td>0.748368</td>\n",
       "      <td>0.740461</td>\n",
       "      <td>0.572278</td>\n",
       "      <td>1.000000</td>\n",
       "      <td>0.582141</td>\n",
       "    </tr>\n",
       "    <tr>\n",
       "      <th>WCHU_numberOfMethods</th>\n",
       "      <td>0.978897</td>\n",
       "      <td>0.697224</td>\n",
       "      <td>0.723109</td>\n",
       "      <td>0.751003</td>\n",
       "      <td>0.978761</td>\n",
       "      <td>0.582141</td>\n",
       "      <td>1.000000</td>\n",
       "    </tr>\n",
       "  </tbody>\n",
       "</table>\n",
       "</div>"
      ],
      "text/plain": [
       "                          LDHH_lcom  LDHH_numberOfLinesOfCode  LDHH_rfc  \\\n",
       "LDHH_lcom                  1.000000                  0.705132  0.735748   \n",
       "LDHH_numberOfLinesOfCode   0.705132                  1.000000  0.932669   \n",
       "LDHH_rfc                   0.735748                  0.932669  1.000000   \n",
       "WCHU_numberOfLinesOfCode   0.733778                  0.956038  0.902038   \n",
       "LDHH_numberOfMethods       0.998303                  0.705848  0.736773   \n",
       "WCHU_fanOut                0.572321                  0.715467  0.748368   \n",
       "WCHU_numberOfMethods       0.978897                  0.697224  0.723109   \n",
       "\n",
       "                          WCHU_numberOfLinesOfCode  LDHH_numberOfMethods  \\\n",
       "LDHH_lcom                                 0.733778              0.998303   \n",
       "LDHH_numberOfLinesOfCode                  0.956038              0.705848   \n",
       "LDHH_rfc                                  0.902038              0.736773   \n",
       "WCHU_numberOfLinesOfCode                  1.000000              0.733510   \n",
       "LDHH_numberOfMethods                      0.733510              1.000000   \n",
       "WCHU_fanOut                               0.740461              0.572278   \n",
       "WCHU_numberOfMethods                      0.751003              0.978761   \n",
       "\n",
       "                          WCHU_fanOut  WCHU_numberOfMethods  \n",
       "LDHH_lcom                    0.572321              0.978897  \n",
       "LDHH_numberOfLinesOfCode     0.715467              0.697224  \n",
       "LDHH_rfc                     0.748368              0.723109  \n",
       "WCHU_numberOfLinesOfCode     0.740461              0.751003  \n",
       "LDHH_numberOfMethods         0.572278              0.978761  \n",
       "WCHU_fanOut                  1.000000              0.582141  \n",
       "WCHU_numberOfMethods         0.582141              1.000000  "
      ]
     },
     "execution_count": 206,
     "metadata": {},
     "output_type": "execute_result"
    }
   ],
   "source": [
    "# Calculate the Spearman correlation matrix of the attributes in the cluster\n",
    "corr_matrix8 = df[cluster8].corr(method='spearman')\n",
    "abs(corr_matrix8)"
   ]
  },
  {
   "cell_type": "code",
   "execution_count": 207,
   "id": "cf8a947f",
   "metadata": {},
   "outputs": [
    {
     "name": "stdout",
     "output_type": "stream",
     "text": [
      "['LDHH_lcom', 'LDHH_rfc', 'WCHU_numberOfLinesOfCode', 'LDHH_numberOfMethods', 'WCHU_fanOut', 'WCHU_numberOfMethods']\n"
     ]
    }
   ],
   "source": [
    "cluster8.remove('LDHH_numberOfLinesOfCode')\n",
    "print(cluster8)"
   ]
  },
  {
   "cell_type": "code",
   "execution_count": 208,
   "id": "6c8c889f",
   "metadata": {},
   "outputs": [
    {
     "data": {
      "text/html": [
       "<div>\n",
       "<style scoped>\n",
       "    .dataframe tbody tr th:only-of-type {\n",
       "        vertical-align: middle;\n",
       "    }\n",
       "\n",
       "    .dataframe tbody tr th {\n",
       "        vertical-align: top;\n",
       "    }\n",
       "\n",
       "    .dataframe thead th {\n",
       "        text-align: right;\n",
       "    }\n",
       "</style>\n",
       "<table border=\"1\" class=\"dataframe\">\n",
       "  <thead>\n",
       "    <tr style=\"text-align: right;\">\n",
       "      <th></th>\n",
       "      <th>LDHH_lcom</th>\n",
       "      <th>LDHH_rfc</th>\n",
       "      <th>WCHU_numberOfLinesOfCode</th>\n",
       "      <th>LDHH_numberOfMethods</th>\n",
       "      <th>WCHU_fanOut</th>\n",
       "      <th>WCHU_numberOfMethods</th>\n",
       "    </tr>\n",
       "  </thead>\n",
       "  <tbody>\n",
       "    <tr>\n",
       "      <th>LDHH_lcom</th>\n",
       "      <td>1.000000</td>\n",
       "      <td>0.735748</td>\n",
       "      <td>0.733778</td>\n",
       "      <td>0.998303</td>\n",
       "      <td>0.572321</td>\n",
       "      <td>0.978897</td>\n",
       "    </tr>\n",
       "    <tr>\n",
       "      <th>LDHH_rfc</th>\n",
       "      <td>0.735748</td>\n",
       "      <td>1.000000</td>\n",
       "      <td>0.902038</td>\n",
       "      <td>0.736773</td>\n",
       "      <td>0.748368</td>\n",
       "      <td>0.723109</td>\n",
       "    </tr>\n",
       "    <tr>\n",
       "      <th>WCHU_numberOfLinesOfCode</th>\n",
       "      <td>0.733778</td>\n",
       "      <td>0.902038</td>\n",
       "      <td>1.000000</td>\n",
       "      <td>0.733510</td>\n",
       "      <td>0.740461</td>\n",
       "      <td>0.751003</td>\n",
       "    </tr>\n",
       "    <tr>\n",
       "      <th>LDHH_numberOfMethods</th>\n",
       "      <td>0.998303</td>\n",
       "      <td>0.736773</td>\n",
       "      <td>0.733510</td>\n",
       "      <td>1.000000</td>\n",
       "      <td>0.572278</td>\n",
       "      <td>0.978761</td>\n",
       "    </tr>\n",
       "    <tr>\n",
       "      <th>WCHU_fanOut</th>\n",
       "      <td>0.572321</td>\n",
       "      <td>0.748368</td>\n",
       "      <td>0.740461</td>\n",
       "      <td>0.572278</td>\n",
       "      <td>1.000000</td>\n",
       "      <td>0.582141</td>\n",
       "    </tr>\n",
       "    <tr>\n",
       "      <th>WCHU_numberOfMethods</th>\n",
       "      <td>0.978897</td>\n",
       "      <td>0.723109</td>\n",
       "      <td>0.751003</td>\n",
       "      <td>0.978761</td>\n",
       "      <td>0.582141</td>\n",
       "      <td>1.000000</td>\n",
       "    </tr>\n",
       "  </tbody>\n",
       "</table>\n",
       "</div>"
      ],
      "text/plain": [
       "                          LDHH_lcom  LDHH_rfc  WCHU_numberOfLinesOfCode  \\\n",
       "LDHH_lcom                  1.000000  0.735748                  0.733778   \n",
       "LDHH_rfc                   0.735748  1.000000                  0.902038   \n",
       "WCHU_numberOfLinesOfCode   0.733778  0.902038                  1.000000   \n",
       "LDHH_numberOfMethods       0.998303  0.736773                  0.733510   \n",
       "WCHU_fanOut                0.572321  0.748368                  0.740461   \n",
       "WCHU_numberOfMethods       0.978897  0.723109                  0.751003   \n",
       "\n",
       "                          LDHH_numberOfMethods  WCHU_fanOut  \\\n",
       "LDHH_lcom                             0.998303     0.572321   \n",
       "LDHH_rfc                              0.736773     0.748368   \n",
       "WCHU_numberOfLinesOfCode              0.733510     0.740461   \n",
       "LDHH_numberOfMethods                  1.000000     0.572278   \n",
       "WCHU_fanOut                           0.572278     1.000000   \n",
       "WCHU_numberOfMethods                  0.978761     0.582141   \n",
       "\n",
       "                          WCHU_numberOfMethods  \n",
       "LDHH_lcom                             0.978897  \n",
       "LDHH_rfc                              0.723109  \n",
       "WCHU_numberOfLinesOfCode              0.751003  \n",
       "LDHH_numberOfMethods                  0.978761  \n",
       "WCHU_fanOut                           0.582141  \n",
       "WCHU_numberOfMethods                  1.000000  "
      ]
     },
     "execution_count": 208,
     "metadata": {},
     "output_type": "execute_result"
    }
   ],
   "source": [
    "# Calculate the Spearman correlation matrix of the attributes in the cluster\n",
    "corr_matrix8 = df[cluster8].corr(method='spearman')\n",
    "abs(corr_matrix8)"
   ]
  },
  {
   "cell_type": "code",
   "execution_count": 209,
   "id": "1c7436a1",
   "metadata": {},
   "outputs": [
    {
     "name": "stdout",
     "output_type": "stream",
     "text": [
      "['LDHH_lcom', 'LDHH_rfc', 'LDHH_numberOfMethods', 'WCHU_fanOut', 'WCHU_numberOfMethods']\n"
     ]
    }
   ],
   "source": [
    "cluster8.remove('WCHU_numberOfLinesOfCode')\n",
    "print(cluster8)"
   ]
  },
  {
   "cell_type": "code",
   "execution_count": 210,
   "id": "fafe17c3",
   "metadata": {},
   "outputs": [
    {
     "data": {
      "text/html": [
       "<div>\n",
       "<style scoped>\n",
       "    .dataframe tbody tr th:only-of-type {\n",
       "        vertical-align: middle;\n",
       "    }\n",
       "\n",
       "    .dataframe tbody tr th {\n",
       "        vertical-align: top;\n",
       "    }\n",
       "\n",
       "    .dataframe thead th {\n",
       "        text-align: right;\n",
       "    }\n",
       "</style>\n",
       "<table border=\"1\" class=\"dataframe\">\n",
       "  <thead>\n",
       "    <tr style=\"text-align: right;\">\n",
       "      <th></th>\n",
       "      <th>LDHH_lcom</th>\n",
       "      <th>LDHH_rfc</th>\n",
       "      <th>LDHH_numberOfMethods</th>\n",
       "      <th>WCHU_fanOut</th>\n",
       "      <th>WCHU_numberOfMethods</th>\n",
       "    </tr>\n",
       "  </thead>\n",
       "  <tbody>\n",
       "    <tr>\n",
       "      <th>LDHH_lcom</th>\n",
       "      <td>1.000000</td>\n",
       "      <td>0.735748</td>\n",
       "      <td>0.998303</td>\n",
       "      <td>0.572321</td>\n",
       "      <td>0.978897</td>\n",
       "    </tr>\n",
       "    <tr>\n",
       "      <th>LDHH_rfc</th>\n",
       "      <td>0.735748</td>\n",
       "      <td>1.000000</td>\n",
       "      <td>0.736773</td>\n",
       "      <td>0.748368</td>\n",
       "      <td>0.723109</td>\n",
       "    </tr>\n",
       "    <tr>\n",
       "      <th>LDHH_numberOfMethods</th>\n",
       "      <td>0.998303</td>\n",
       "      <td>0.736773</td>\n",
       "      <td>1.000000</td>\n",
       "      <td>0.572278</td>\n",
       "      <td>0.978761</td>\n",
       "    </tr>\n",
       "    <tr>\n",
       "      <th>WCHU_fanOut</th>\n",
       "      <td>0.572321</td>\n",
       "      <td>0.748368</td>\n",
       "      <td>0.572278</td>\n",
       "      <td>1.000000</td>\n",
       "      <td>0.582141</td>\n",
       "    </tr>\n",
       "    <tr>\n",
       "      <th>WCHU_numberOfMethods</th>\n",
       "      <td>0.978897</td>\n",
       "      <td>0.723109</td>\n",
       "      <td>0.978761</td>\n",
       "      <td>0.582141</td>\n",
       "      <td>1.000000</td>\n",
       "    </tr>\n",
       "  </tbody>\n",
       "</table>\n",
       "</div>"
      ],
      "text/plain": [
       "                      LDHH_lcom  LDHH_rfc  LDHH_numberOfMethods  WCHU_fanOut  \\\n",
       "LDHH_lcom              1.000000  0.735748              0.998303     0.572321   \n",
       "LDHH_rfc               0.735748  1.000000              0.736773     0.748368   \n",
       "LDHH_numberOfMethods   0.998303  0.736773              1.000000     0.572278   \n",
       "WCHU_fanOut            0.572321  0.748368              0.572278     1.000000   \n",
       "WCHU_numberOfMethods   0.978897  0.723109              0.978761     0.582141   \n",
       "\n",
       "                      WCHU_numberOfMethods  \n",
       "LDHH_lcom                         0.978897  \n",
       "LDHH_rfc                          0.723109  \n",
       "LDHH_numberOfMethods              0.978761  \n",
       "WCHU_fanOut                       0.582141  \n",
       "WCHU_numberOfMethods              1.000000  "
      ]
     },
     "execution_count": 210,
     "metadata": {},
     "output_type": "execute_result"
    }
   ],
   "source": [
    "# Calculate the Spearman correlation matrix of the attributes in the cluster\n",
    "corr_matrix8 = df[cluster8].corr(method='spearman')\n",
    "abs(corr_matrix8)"
   ]
  },
  {
   "cell_type": "code",
   "execution_count": 211,
   "id": "46b85fd9",
   "metadata": {},
   "outputs": [
    {
     "name": "stdout",
     "output_type": "stream",
     "text": [
      "['LDHH_lcom', 'LDHH_rfc', 'LDHH_numberOfMethods', 'WCHU_fanOut']\n"
     ]
    }
   ],
   "source": [
    "cluster8.remove('WCHU_numberOfMethods')\n",
    "print(cluster8)"
   ]
  },
  {
   "cell_type": "code",
   "execution_count": 212,
   "id": "f1f75f0a",
   "metadata": {},
   "outputs": [
    {
     "data": {
      "text/html": [
       "<div>\n",
       "<style scoped>\n",
       "    .dataframe tbody tr th:only-of-type {\n",
       "        vertical-align: middle;\n",
       "    }\n",
       "\n",
       "    .dataframe tbody tr th {\n",
       "        vertical-align: top;\n",
       "    }\n",
       "\n",
       "    .dataframe thead th {\n",
       "        text-align: right;\n",
       "    }\n",
       "</style>\n",
       "<table border=\"1\" class=\"dataframe\">\n",
       "  <thead>\n",
       "    <tr style=\"text-align: right;\">\n",
       "      <th></th>\n",
       "      <th>LDHH_lcom</th>\n",
       "      <th>LDHH_rfc</th>\n",
       "      <th>LDHH_numberOfMethods</th>\n",
       "      <th>WCHU_fanOut</th>\n",
       "    </tr>\n",
       "  </thead>\n",
       "  <tbody>\n",
       "    <tr>\n",
       "      <th>LDHH_lcom</th>\n",
       "      <td>1.000000</td>\n",
       "      <td>0.735748</td>\n",
       "      <td>0.998303</td>\n",
       "      <td>0.572321</td>\n",
       "    </tr>\n",
       "    <tr>\n",
       "      <th>LDHH_rfc</th>\n",
       "      <td>0.735748</td>\n",
       "      <td>1.000000</td>\n",
       "      <td>0.736773</td>\n",
       "      <td>0.748368</td>\n",
       "    </tr>\n",
       "    <tr>\n",
       "      <th>LDHH_numberOfMethods</th>\n",
       "      <td>0.998303</td>\n",
       "      <td>0.736773</td>\n",
       "      <td>1.000000</td>\n",
       "      <td>0.572278</td>\n",
       "    </tr>\n",
       "    <tr>\n",
       "      <th>WCHU_fanOut</th>\n",
       "      <td>0.572321</td>\n",
       "      <td>0.748368</td>\n",
       "      <td>0.572278</td>\n",
       "      <td>1.000000</td>\n",
       "    </tr>\n",
       "  </tbody>\n",
       "</table>\n",
       "</div>"
      ],
      "text/plain": [
       "                      LDHH_lcom  LDHH_rfc  LDHH_numberOfMethods  WCHU_fanOut\n",
       "LDHH_lcom              1.000000  0.735748              0.998303     0.572321\n",
       "LDHH_rfc               0.735748  1.000000              0.736773     0.748368\n",
       "LDHH_numberOfMethods   0.998303  0.736773              1.000000     0.572278\n",
       "WCHU_fanOut            0.572321  0.748368              0.572278     1.000000"
      ]
     },
     "execution_count": 212,
     "metadata": {},
     "output_type": "execute_result"
    }
   ],
   "source": [
    "# Calculate the Spearman correlation matrix of the attributes in the cluster\n",
    "corr_matrix8 = df[cluster8].corr(method='spearman')\n",
    "abs(corr_matrix8)"
   ]
  },
  {
   "cell_type": "code",
   "execution_count": 213,
   "id": "fd7a2d3a",
   "metadata": {},
   "outputs": [
    {
     "name": "stdout",
     "output_type": "stream",
     "text": [
      "['LDHH_rfc', 'LDHH_numberOfMethods', 'WCHU_fanOut']\n"
     ]
    }
   ],
   "source": [
    "cluster8.remove('LDHH_lcom')\n",
    "print(cluster8)"
   ]
  },
  {
   "cell_type": "code",
   "execution_count": 214,
   "id": "ab2a1cef",
   "metadata": {},
   "outputs": [
    {
     "data": {
      "text/html": [
       "<div>\n",
       "<style scoped>\n",
       "    .dataframe tbody tr th:only-of-type {\n",
       "        vertical-align: middle;\n",
       "    }\n",
       "\n",
       "    .dataframe tbody tr th {\n",
       "        vertical-align: top;\n",
       "    }\n",
       "\n",
       "    .dataframe thead th {\n",
       "        text-align: right;\n",
       "    }\n",
       "</style>\n",
       "<table border=\"1\" class=\"dataframe\">\n",
       "  <thead>\n",
       "    <tr style=\"text-align: right;\">\n",
       "      <th></th>\n",
       "      <th>LDHH_rfc</th>\n",
       "      <th>LDHH_numberOfMethods</th>\n",
       "      <th>WCHU_fanOut</th>\n",
       "    </tr>\n",
       "  </thead>\n",
       "  <tbody>\n",
       "    <tr>\n",
       "      <th>LDHH_rfc</th>\n",
       "      <td>1.000000</td>\n",
       "      <td>0.736773</td>\n",
       "      <td>0.748368</td>\n",
       "    </tr>\n",
       "    <tr>\n",
       "      <th>LDHH_numberOfMethods</th>\n",
       "      <td>0.736773</td>\n",
       "      <td>1.000000</td>\n",
       "      <td>0.572278</td>\n",
       "    </tr>\n",
       "    <tr>\n",
       "      <th>WCHU_fanOut</th>\n",
       "      <td>0.748368</td>\n",
       "      <td>0.572278</td>\n",
       "      <td>1.000000</td>\n",
       "    </tr>\n",
       "  </tbody>\n",
       "</table>\n",
       "</div>"
      ],
      "text/plain": [
       "                      LDHH_rfc  LDHH_numberOfMethods  WCHU_fanOut\n",
       "LDHH_rfc              1.000000              0.736773     0.748368\n",
       "LDHH_numberOfMethods  0.736773              1.000000     0.572278\n",
       "WCHU_fanOut           0.748368              0.572278     1.000000"
      ]
     },
     "execution_count": 214,
     "metadata": {},
     "output_type": "execute_result"
    }
   ],
   "source": [
    "# Calculate the Spearman correlation matrix of the attributes in the cluster\n",
    "corr_matrix8 = df[cluster8].corr(method='spearman')\n",
    "abs(corr_matrix8)"
   ]
  },
  {
   "cell_type": "code",
   "execution_count": 215,
   "id": "e0c5a819",
   "metadata": {},
   "outputs": [
    {
     "name": "stdout",
     "output_type": "stream",
     "text": [
      "['LDHH_numberOfMethods', 'WCHU_fanOut']\n"
     ]
    }
   ],
   "source": [
    "cluster8.remove('LDHH_rfc')\n",
    "print(cluster8)"
   ]
  },
  {
   "cell_type": "code",
   "execution_count": 216,
   "id": "0bdc553b",
   "metadata": {},
   "outputs": [
    {
     "data": {
      "text/html": [
       "<div>\n",
       "<style scoped>\n",
       "    .dataframe tbody tr th:only-of-type {\n",
       "        vertical-align: middle;\n",
       "    }\n",
       "\n",
       "    .dataframe tbody tr th {\n",
       "        vertical-align: top;\n",
       "    }\n",
       "\n",
       "    .dataframe thead th {\n",
       "        text-align: right;\n",
       "    }\n",
       "</style>\n",
       "<table border=\"1\" class=\"dataframe\">\n",
       "  <thead>\n",
       "    <tr style=\"text-align: right;\">\n",
       "      <th></th>\n",
       "      <th>LDHH_numberOfMethods</th>\n",
       "      <th>WCHU_fanOut</th>\n",
       "    </tr>\n",
       "  </thead>\n",
       "  <tbody>\n",
       "    <tr>\n",
       "      <th>LDHH_numberOfMethods</th>\n",
       "      <td>1.000000</td>\n",
       "      <td>0.572278</td>\n",
       "    </tr>\n",
       "    <tr>\n",
       "      <th>WCHU_fanOut</th>\n",
       "      <td>0.572278</td>\n",
       "      <td>1.000000</td>\n",
       "    </tr>\n",
       "  </tbody>\n",
       "</table>\n",
       "</div>"
      ],
      "text/plain": [
       "                      LDHH_numberOfMethods  WCHU_fanOut\n",
       "LDHH_numberOfMethods              1.000000     0.572278\n",
       "WCHU_fanOut                       0.572278     1.000000"
      ]
     },
     "execution_count": 216,
     "metadata": {},
     "output_type": "execute_result"
    }
   ],
   "source": [
    "# Calculate the Spearman correlation matrix of the attributes in the cluster\n",
    "corr_matrix8 = df[cluster8].corr(method='spearman')\n",
    "abs(corr_matrix8)"
   ]
  },
  {
   "cell_type": "code",
   "execution_count": 217,
   "id": "3884ae85",
   "metadata": {},
   "outputs": [
    {
     "name": "stdout",
     "output_type": "stream",
     "text": [
      "    Cluster                             Variable    RS_Own     RS_NC  RS_Ratio\n",
      "1         0                           WCHU_fanIn  0.895058  0.230876  0.136444\n",
      "2         0                          ck_oo_fanIn  0.779178  0.279980  0.306688\n",
      "3         0                            ck_oo_cbo  0.807973  0.498768  0.383109\n",
      "4         0                             WCHU_cbo  0.878577  0.552058  0.271069\n",
      "7         1    ck_oo_numberOfAttributesInherited  0.807593  0.158745  0.228714\n",
      "8         1                             WCHU_dit  0.857111  0.154899  0.169079\n",
      "11        2  numberOfHighPriorityBugsFoundUntil:  0.565243  0.380754  0.702076\n",
      "15        2                           CvsEntropy  0.755698  0.653885  0.705840\n",
      "16        2      numberOfCriticalBugsFoundUntil:  0.653014  0.331401  0.518975\n",
      "18        3         ck_oo_numberOfPrivateMethods  0.725370  0.423647  0.476496\n",
      "21        3          LDHH_numberOfPrivateMethods  0.751270  0.445654  0.448691\n",
      "22        3       WCHU_numberOfPrivateAttributes  0.726566  0.347986  0.419368\n",
      "23        3      ck_oo_numberOfPrivateAttributes  0.429106  0.102064  0.635784\n",
      "24        4                ck_oo_numberOfMethods  0.824974  0.568222  0.405361\n",
      "27        4           WCHU_numberOfPublicMethods  0.686458  0.491396  0.616476\n",
      "32        5                        CvsLinEntropy  0.995590  0.337839  0.006659\n",
      "34        6              WCHU_numberOfAttributes  0.797910  0.349024  0.310442\n",
      "35        6        LDHH_numberOfPublicAttributes  0.758096  0.231567  0.314802\n",
      "36        6       ck_oo_numberOfPublicAttributes  0.527223  0.054702  0.500136\n",
      "38        6             ck_oo_numberOfAttributes  0.665102  0.122694  0.381734\n",
      "39        7                            ck_oo_dit  0.668394  0.369035  0.525554\n",
      "41        7        WCHU_numberOfMethodsInherited  0.810007  0.146580  0.222625\n",
      "44        8                            LDHH_lcom  0.728697  0.451472  0.494602\n",
      "45        8                             LDHH_wmc  0.873124  0.644145  0.356538\n",
      "46        8             LDHH_numberOfLinesOfCode  0.887521  0.685363  0.357489\n",
      "48        8                             LDHH_rfc  0.883519  0.661713  0.344328\n",
      "49        8             WCHU_numberOfLinesOfCode  0.902946  0.729064  0.358218\n",
      "50        8                 LDHH_numberOfMethods  0.742027  0.462077  0.479571\n",
      "51        8                          WCHU_fanOut  0.710695  0.570888  0.674193\n",
      "52        8                 WCHU_numberOfMethods  0.771944  0.594361  0.562215\n",
      "53        8                             WCHU_wmc  0.900484  0.718305  0.353277\n",
      "54        8                             WCHU_rfc  0.909528  0.759763  0.376595\n",
      "56        9                             WCHU_noc  0.704531  0.011981  0.299052\n",
      "57       10            ck_oo_numberOfLinesOfCode  0.945752  0.559119  0.123045\n",
      "58       10                            ck_oo_rfc  0.873186  0.544774  0.278574\n",
      "59       10                            ck_oo_wmc  0.925237  0.561034  0.170316\n"
     ]
    }
   ],
   "source": [
    "print(clusters)"
   ]
  },
  {
   "cell_type": "code",
   "execution_count": 218,
   "id": "9b35ac38",
   "metadata": {},
   "outputs": [
    {
     "name": "stdout",
     "output_type": "stream",
     "text": [
      "    Cluster                             Variable    RS_Own     RS_NC  RS_Ratio\n",
      "1         0                           WCHU_fanIn  0.895058  0.230876  0.136444\n",
      "2         0                          ck_oo_fanIn  0.779178  0.279980  0.306688\n",
      "3         0                            ck_oo_cbo  0.807973  0.498768  0.383109\n",
      "4         0                             WCHU_cbo  0.878577  0.552058  0.271069\n",
      "7         1    ck_oo_numberOfAttributesInherited  0.807593  0.158745  0.228714\n",
      "8         1                             WCHU_dit  0.857111  0.154899  0.169079\n",
      "11        2  numberOfHighPriorityBugsFoundUntil:  0.565243  0.380754  0.702076\n",
      "15        2                           CvsEntropy  0.755698  0.653885  0.705840\n",
      "16        2      numberOfCriticalBugsFoundUntil:  0.653014  0.331401  0.518975\n",
      "18        3         ck_oo_numberOfPrivateMethods  0.725370  0.423647  0.476496\n",
      "21        3          LDHH_numberOfPrivateMethods  0.751270  0.445654  0.448691\n",
      "22        3       WCHU_numberOfPrivateAttributes  0.726566  0.347986  0.419368\n",
      "23        3      ck_oo_numberOfPrivateAttributes  0.429106  0.102064  0.635784\n",
      "24        4                ck_oo_numberOfMethods  0.824974  0.568222  0.405361\n",
      "27        4           WCHU_numberOfPublicMethods  0.686458  0.491396  0.616476\n",
      "32        5                        CvsLinEntropy  0.995590  0.337839  0.006659\n",
      "34        6              WCHU_numberOfAttributes  0.797910  0.349024  0.310442\n",
      "35        6        LDHH_numberOfPublicAttributes  0.758096  0.231567  0.314802\n",
      "36        6       ck_oo_numberOfPublicAttributes  0.527223  0.054702  0.500136\n",
      "38        6             ck_oo_numberOfAttributes  0.665102  0.122694  0.381734\n",
      "39        7                            ck_oo_dit  0.668394  0.369035  0.525554\n",
      "41        7        WCHU_numberOfMethodsInherited  0.810007  0.146580  0.222625\n",
      "50        8                 LDHH_numberOfMethods  0.742027  0.462077  0.479571\n",
      "51        8                          WCHU_fanOut  0.710695  0.570888  0.674193\n",
      "56        9                             WCHU_noc  0.704531  0.011981  0.299052\n",
      "57       10            ck_oo_numberOfLinesOfCode  0.945752  0.559119  0.123045\n",
      "58       10                            ck_oo_rfc  0.873186  0.544774  0.278574\n",
      "59       10                            ck_oo_wmc  0.925237  0.561034  0.170316\n"
     ]
    }
   ],
   "source": [
    "clusters = clusters.drop(48)\n",
    "clusters = clusters.drop(44)\n",
    "clusters = clusters.drop(52)\n",
    "clusters = clusters.drop(49)\n",
    "clusters = clusters.drop(46)\n",
    "clusters = clusters.drop(53)\n",
    "clusters = clusters.drop(54)\n",
    "clusters = clusters.drop(45)\n",
    "print(clusters)"
   ]
  },
  {
   "cell_type": "code",
   "execution_count": 219,
   "id": "f11aff71",
   "metadata": {},
   "outputs": [
    {
     "name": "stdout",
     "output_type": "stream",
     "text": [
      "['LDHH_numberOfMethods', 'WCHU_fanOut']\n"
     ]
    }
   ],
   "source": [
    "print(cluster8)"
   ]
  },
  {
   "cell_type": "code",
   "execution_count": 220,
   "id": "d25b3ddb",
   "metadata": {},
   "outputs": [
    {
     "name": "stdout",
     "output_type": "stream",
     "text": [
      "['WCHU_noc']\n"
     ]
    }
   ],
   "source": [
    "cluster9 = [\"WCHU_noc\"]\n",
    "print(cluster9)"
   ]
  },
  {
   "cell_type": "code",
   "execution_count": 221,
   "id": "a50ec762",
   "metadata": {},
   "outputs": [
    {
     "data": {
      "text/html": [
       "<div>\n",
       "<style scoped>\n",
       "    .dataframe tbody tr th:only-of-type {\n",
       "        vertical-align: middle;\n",
       "    }\n",
       "\n",
       "    .dataframe tbody tr th {\n",
       "        vertical-align: top;\n",
       "    }\n",
       "\n",
       "    .dataframe thead th {\n",
       "        text-align: right;\n",
       "    }\n",
       "</style>\n",
       "<table border=\"1\" class=\"dataframe\">\n",
       "  <thead>\n",
       "    <tr style=\"text-align: right;\">\n",
       "      <th></th>\n",
       "      <th>WCHU_noc</th>\n",
       "    </tr>\n",
       "  </thead>\n",
       "  <tbody>\n",
       "    <tr>\n",
       "      <th>WCHU_noc</th>\n",
       "      <td>1.0</td>\n",
       "    </tr>\n",
       "  </tbody>\n",
       "</table>\n",
       "</div>"
      ],
      "text/plain": [
       "          WCHU_noc\n",
       "WCHU_noc       1.0"
      ]
     },
     "execution_count": 221,
     "metadata": {},
     "output_type": "execute_result"
    }
   ],
   "source": [
    "# Calculate the Spearman correlation matrix of the attributes in the cluster\n",
    "corr_matrix9 = df[cluster9].corr(method='spearman')\n",
    "abs(corr_matrix9)"
   ]
  },
  {
   "cell_type": "code",
   "execution_count": 222,
   "id": "3e9d4cb0",
   "metadata": {},
   "outputs": [
    {
     "name": "stdout",
     "output_type": "stream",
     "text": [
      "    Cluster                             Variable    RS_Own     RS_NC  RS_Ratio\n",
      "1         0                           WCHU_fanIn  0.895058  0.230876  0.136444\n",
      "2         0                          ck_oo_fanIn  0.779178  0.279980  0.306688\n",
      "3         0                            ck_oo_cbo  0.807973  0.498768  0.383109\n",
      "4         0                             WCHU_cbo  0.878577  0.552058  0.271069\n",
      "7         1    ck_oo_numberOfAttributesInherited  0.807593  0.158745  0.228714\n",
      "8         1                             WCHU_dit  0.857111  0.154899  0.169079\n",
      "11        2  numberOfHighPriorityBugsFoundUntil:  0.565243  0.380754  0.702076\n",
      "15        2                           CvsEntropy  0.755698  0.653885  0.705840\n",
      "16        2      numberOfCriticalBugsFoundUntil:  0.653014  0.331401  0.518975\n",
      "18        3         ck_oo_numberOfPrivateMethods  0.725370  0.423647  0.476496\n",
      "21        3          LDHH_numberOfPrivateMethods  0.751270  0.445654  0.448691\n",
      "22        3       WCHU_numberOfPrivateAttributes  0.726566  0.347986  0.419368\n",
      "23        3      ck_oo_numberOfPrivateAttributes  0.429106  0.102064  0.635784\n",
      "24        4                ck_oo_numberOfMethods  0.824974  0.568222  0.405361\n",
      "27        4           WCHU_numberOfPublicMethods  0.686458  0.491396  0.616476\n",
      "32        5                        CvsLinEntropy  0.995590  0.337839  0.006659\n",
      "34        6              WCHU_numberOfAttributes  0.797910  0.349024  0.310442\n",
      "35        6        LDHH_numberOfPublicAttributes  0.758096  0.231567  0.314802\n",
      "36        6       ck_oo_numberOfPublicAttributes  0.527223  0.054702  0.500136\n",
      "38        6             ck_oo_numberOfAttributes  0.665102  0.122694  0.381734\n",
      "39        7                            ck_oo_dit  0.668394  0.369035  0.525554\n",
      "41        7        WCHU_numberOfMethodsInherited  0.810007  0.146580  0.222625\n",
      "50        8                 LDHH_numberOfMethods  0.742027  0.462077  0.479571\n",
      "51        8                          WCHU_fanOut  0.710695  0.570888  0.674193\n",
      "56        9                             WCHU_noc  0.704531  0.011981  0.299052\n",
      "57       10            ck_oo_numberOfLinesOfCode  0.945752  0.559119  0.123045\n",
      "58       10                            ck_oo_rfc  0.873186  0.544774  0.278574\n",
      "59       10                            ck_oo_wmc  0.925237  0.561034  0.170316\n"
     ]
    }
   ],
   "source": [
    "print(clusters)"
   ]
  },
  {
   "cell_type": "code",
   "execution_count": 223,
   "id": "3343a4ae",
   "metadata": {},
   "outputs": [
    {
     "name": "stdout",
     "output_type": "stream",
     "text": [
      "['ck_oo_numberOfLinesOfCode', 'ck_oo_rfc', 'ck_oo_wmc']\n"
     ]
    }
   ],
   "source": [
    "cluster10 = [\"ck_oo_numberOfLinesOfCode\", \"ck_oo_rfc\", \"ck_oo_wmc\"]\n",
    "print(cluster10)"
   ]
  },
  {
   "cell_type": "code",
   "execution_count": 224,
   "id": "b4ed22ef",
   "metadata": {},
   "outputs": [
    {
     "data": {
      "text/html": [
       "<div>\n",
       "<style scoped>\n",
       "    .dataframe tbody tr th:only-of-type {\n",
       "        vertical-align: middle;\n",
       "    }\n",
       "\n",
       "    .dataframe tbody tr th {\n",
       "        vertical-align: top;\n",
       "    }\n",
       "\n",
       "    .dataframe thead th {\n",
       "        text-align: right;\n",
       "    }\n",
       "</style>\n",
       "<table border=\"1\" class=\"dataframe\">\n",
       "  <thead>\n",
       "    <tr style=\"text-align: right;\">\n",
       "      <th></th>\n",
       "      <th>ck_oo_numberOfLinesOfCode</th>\n",
       "      <th>ck_oo_rfc</th>\n",
       "      <th>ck_oo_wmc</th>\n",
       "    </tr>\n",
       "  </thead>\n",
       "  <tbody>\n",
       "    <tr>\n",
       "      <th>ck_oo_numberOfLinesOfCode</th>\n",
       "      <td>1.000000</td>\n",
       "      <td>0.958082</td>\n",
       "      <td>0.984107</td>\n",
       "    </tr>\n",
       "    <tr>\n",
       "      <th>ck_oo_rfc</th>\n",
       "      <td>0.958082</td>\n",
       "      <td>1.000000</td>\n",
       "      <td>0.945245</td>\n",
       "    </tr>\n",
       "    <tr>\n",
       "      <th>ck_oo_wmc</th>\n",
       "      <td>0.984107</td>\n",
       "      <td>0.945245</td>\n",
       "      <td>1.000000</td>\n",
       "    </tr>\n",
       "  </tbody>\n",
       "</table>\n",
       "</div>"
      ],
      "text/plain": [
       "                           ck_oo_numberOfLinesOfCode  ck_oo_rfc  ck_oo_wmc\n",
       "ck_oo_numberOfLinesOfCode                   1.000000   0.958082   0.984107\n",
       "ck_oo_rfc                                   0.958082   1.000000   0.945245\n",
       "ck_oo_wmc                                   0.984107   0.945245   1.000000"
      ]
     },
     "execution_count": 224,
     "metadata": {},
     "output_type": "execute_result"
    }
   ],
   "source": [
    "# Calculate the Spearman correlation matrix of the attributes in the cluster\n",
    "corr_matrix10 = df[cluster10].corr(method='spearman')\n",
    "abs(corr_matrix10)"
   ]
  },
  {
   "cell_type": "code",
   "execution_count": 225,
   "id": "4c4113aa",
   "metadata": {},
   "outputs": [
    {
     "name": "stdout",
     "output_type": "stream",
     "text": [
      "['ck_oo_rfc', 'ck_oo_wmc']\n"
     ]
    }
   ],
   "source": [
    "cluster10.remove('ck_oo_numberOfLinesOfCode')\n",
    "print(cluster10)"
   ]
  },
  {
   "cell_type": "code",
   "execution_count": 226,
   "id": "617768ea",
   "metadata": {},
   "outputs": [
    {
     "data": {
      "text/html": [
       "<div>\n",
       "<style scoped>\n",
       "    .dataframe tbody tr th:only-of-type {\n",
       "        vertical-align: middle;\n",
       "    }\n",
       "\n",
       "    .dataframe tbody tr th {\n",
       "        vertical-align: top;\n",
       "    }\n",
       "\n",
       "    .dataframe thead th {\n",
       "        text-align: right;\n",
       "    }\n",
       "</style>\n",
       "<table border=\"1\" class=\"dataframe\">\n",
       "  <thead>\n",
       "    <tr style=\"text-align: right;\">\n",
       "      <th></th>\n",
       "      <th>ck_oo_rfc</th>\n",
       "      <th>ck_oo_wmc</th>\n",
       "    </tr>\n",
       "  </thead>\n",
       "  <tbody>\n",
       "    <tr>\n",
       "      <th>ck_oo_rfc</th>\n",
       "      <td>1.000000</td>\n",
       "      <td>0.945245</td>\n",
       "    </tr>\n",
       "    <tr>\n",
       "      <th>ck_oo_wmc</th>\n",
       "      <td>0.945245</td>\n",
       "      <td>1.000000</td>\n",
       "    </tr>\n",
       "  </tbody>\n",
       "</table>\n",
       "</div>"
      ],
      "text/plain": [
       "           ck_oo_rfc  ck_oo_wmc\n",
       "ck_oo_rfc   1.000000   0.945245\n",
       "ck_oo_wmc   0.945245   1.000000"
      ]
     },
     "execution_count": 226,
     "metadata": {},
     "output_type": "execute_result"
    }
   ],
   "source": [
    "# Calculate the Spearman correlation matrix of the attributes in the cluster\n",
    "corr_matrix10 = df[cluster10].corr(method='spearman')\n",
    "abs(corr_matrix10)"
   ]
  },
  {
   "cell_type": "code",
   "execution_count": 227,
   "id": "9c9b4b70",
   "metadata": {},
   "outputs": [
    {
     "name": "stdout",
     "output_type": "stream",
     "text": [
      "['ck_oo_wmc']\n"
     ]
    }
   ],
   "source": [
    "cluster10.remove('ck_oo_rfc')\n",
    "print(cluster10)"
   ]
  },
  {
   "cell_type": "code",
   "execution_count": 228,
   "id": "50147dee",
   "metadata": {},
   "outputs": [
    {
     "data": {
      "text/html": [
       "<div>\n",
       "<style scoped>\n",
       "    .dataframe tbody tr th:only-of-type {\n",
       "        vertical-align: middle;\n",
       "    }\n",
       "\n",
       "    .dataframe tbody tr th {\n",
       "        vertical-align: top;\n",
       "    }\n",
       "\n",
       "    .dataframe thead th {\n",
       "        text-align: right;\n",
       "    }\n",
       "</style>\n",
       "<table border=\"1\" class=\"dataframe\">\n",
       "  <thead>\n",
       "    <tr style=\"text-align: right;\">\n",
       "      <th></th>\n",
       "      <th>ck_oo_wmc</th>\n",
       "    </tr>\n",
       "  </thead>\n",
       "  <tbody>\n",
       "    <tr>\n",
       "      <th>ck_oo_wmc</th>\n",
       "      <td>1.0</td>\n",
       "    </tr>\n",
       "  </tbody>\n",
       "</table>\n",
       "</div>"
      ],
      "text/plain": [
       "           ck_oo_wmc\n",
       "ck_oo_wmc        1.0"
      ]
     },
     "execution_count": 228,
     "metadata": {},
     "output_type": "execute_result"
    }
   ],
   "source": [
    "# Calculate the Spearman correlation matrix of the attributes in the cluster\n",
    "corr_matrix10 = df[cluster10].corr(method='spearman')\n",
    "abs(corr_matrix10)"
   ]
  },
  {
   "cell_type": "code",
   "execution_count": 229,
   "id": "70194eea",
   "metadata": {},
   "outputs": [
    {
     "name": "stdout",
     "output_type": "stream",
     "text": [
      "    Cluster                             Variable    RS_Own     RS_NC  RS_Ratio\n",
      "1         0                           WCHU_fanIn  0.895058  0.230876  0.136444\n",
      "2         0                          ck_oo_fanIn  0.779178  0.279980  0.306688\n",
      "3         0                            ck_oo_cbo  0.807973  0.498768  0.383109\n",
      "4         0                             WCHU_cbo  0.878577  0.552058  0.271069\n",
      "7         1    ck_oo_numberOfAttributesInherited  0.807593  0.158745  0.228714\n",
      "8         1                             WCHU_dit  0.857111  0.154899  0.169079\n",
      "11        2  numberOfHighPriorityBugsFoundUntil:  0.565243  0.380754  0.702076\n",
      "15        2                           CvsEntropy  0.755698  0.653885  0.705840\n",
      "16        2      numberOfCriticalBugsFoundUntil:  0.653014  0.331401  0.518975\n",
      "18        3         ck_oo_numberOfPrivateMethods  0.725370  0.423647  0.476496\n",
      "21        3          LDHH_numberOfPrivateMethods  0.751270  0.445654  0.448691\n",
      "22        3       WCHU_numberOfPrivateAttributes  0.726566  0.347986  0.419368\n",
      "23        3      ck_oo_numberOfPrivateAttributes  0.429106  0.102064  0.635784\n",
      "24        4                ck_oo_numberOfMethods  0.824974  0.568222  0.405361\n",
      "27        4           WCHU_numberOfPublicMethods  0.686458  0.491396  0.616476\n",
      "32        5                        CvsLinEntropy  0.995590  0.337839  0.006659\n",
      "34        6              WCHU_numberOfAttributes  0.797910  0.349024  0.310442\n",
      "35        6        LDHH_numberOfPublicAttributes  0.758096  0.231567  0.314802\n",
      "36        6       ck_oo_numberOfPublicAttributes  0.527223  0.054702  0.500136\n",
      "38        6             ck_oo_numberOfAttributes  0.665102  0.122694  0.381734\n",
      "39        7                            ck_oo_dit  0.668394  0.369035  0.525554\n",
      "41        7        WCHU_numberOfMethodsInherited  0.810007  0.146580  0.222625\n",
      "50        8                 LDHH_numberOfMethods  0.742027  0.462077  0.479571\n",
      "51        8                          WCHU_fanOut  0.710695  0.570888  0.674193\n",
      "56        9                             WCHU_noc  0.704531  0.011981  0.299052\n",
      "57       10            ck_oo_numberOfLinesOfCode  0.945752  0.559119  0.123045\n"
     ]
    }
   ],
   "source": [
    "clusters = clusters.drop(58)\n",
    "clusters = clusters.drop(59)\n",
    "print(clusters)"
   ]
  },
  {
   "cell_type": "code",
   "execution_count": null,
   "id": "933d004c",
   "metadata": {},
   "outputs": [],
   "source": []
  }
 ],
 "metadata": {
  "kernelspec": {
   "display_name": "Python 3 (ipykernel)",
   "language": "python",
   "name": "python3"
  },
  "language_info": {
   "codemirror_mode": {
    "name": "ipython",
    "version": 3
   },
   "file_extension": ".py",
   "mimetype": "text/x-python",
   "name": "python",
   "nbconvert_exporter": "python",
   "pygments_lexer": "ipython3",
   "version": "3.10.4"
  }
 },
 "nbformat": 4,
 "nbformat_minor": 5
}
